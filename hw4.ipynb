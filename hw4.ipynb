{
 "cells": [
  {
   "cell_type": "code",
   "execution_count": 213,
   "metadata": {
    "collapsed": true
   },
   "outputs": [],
   "source": [
    "import numpy as np\n",
    "import pandas as pd\n",
    "import matplotlib.pyplot as plt\n",
    "from sklearn.model_selection import train_test_split\n",
    "from collections import Counter"
   ]
  },
  {
   "cell_type": "code",
   "execution_count": 273,
   "metadata": {},
   "outputs": [],
   "source": [
    "data_cancer = pd.read_csv('cancer.csv')  # type: object\n",
    "data_spam = pd.read_csv('spam.csv')\n",
    "Y_cancer = np.array(data_cancer['label'])\n",
    "Y_cancer = np.array([1 if Y_cancer[i] == 'M' else 0 for i in range(len(Y_cancer))])\n",
    "X_cancer = np.array(data_cancer)[:, 1:]\n",
    "Y_spam = np.array(data_spam['label'])\n",
    "X_spam = np.array(data_spam)[:, :len(np.array(data_spam)[0]) - 1]\n",
    "X_cancer_train, X_cancer_test, y_cancer_train, y_cancer_test = train_test_split( \n",
    "          X_cancer, Y_cancer, test_size = 0.2, random_state = 100)\n",
    "X_spam_train, X_spam_test, y_spam_train, y_spam_test = train_test_split( \n",
    "          X_spam, Y_spam, test_size = 0.2, random_state = 100)"
   ]
  },
  {
   "cell_type": "code",
   "execution_count": 244,
   "metadata": {},
   "outputs": [],
   "source": [
    "def gini(classes):\n",
    "    unique_classes = np.unique(classes)\n",
    "    probabilities = np.array([0.1] * len(unique_classes))\n",
    "    i = 0\n",
    "    for cl in unique_classes:\n",
    "        n = len(classes[classes == cl])\n",
    "        probabilities[i] = (n + 0.1 - 0.1) / len(classes)\n",
    "        i += 1\n",
    "    return np.sum(probabilities * (1 - probabilities))"
   ]
  },
  {
   "cell_type": "code",
   "execution_count": 320,
   "metadata": {},
   "outputs": [],
   "source": [
    "class DecissionTree:\n",
    "    def __init__(self, X, Y, maxdepth = 1, depth = 0):\n",
    "        self.depth = depth\n",
    "        if depth == 0:\n",
    "            self.maxdepth = maxdepth\n",
    "        self.probability = Counter(Y)[1] / len(Y)\n",
    "        self.isLeaf = True\n",
    "        if maxdepth == depth:\n",
    "            self.isLeaf = True\n",
    "            self.clas = Counter(Y).most_common(1)[0][0]\n",
    "        else:\n",
    "            ng = gini(Y)\n",
    "            max = 0\n",
    "            for i in range(len(X[0])):\n",
    "                feats = X[:, i]\n",
    "                for j in range(len(feats)):\n",
    "                    left = Y[X[:, i] <= feats[j]]\n",
    "                    right = Y[X[:, i] > feats[j]]\n",
    "                    if len(left) and len(right):\n",
    "                        lg = gini(left)\n",
    "                        rg = gini(right)\n",
    "                        ig = ng * len(Y) - lg * len(left) - rg * len(right)\n",
    "                        if max < ig:\n",
    "                            max = ig\n",
    "                            self.sep = feats[j]\n",
    "                            self.sep_num = i\n",
    "            if max > 0:\n",
    "                self.isLeaf = False\n",
    "                self.left_child = DecissionTree(X[X[:, self.sep_num] <= self.sep], \n",
    "                                Y[X[:, self.sep_num] <= self.sep], maxdepth, depth + 1)\n",
    "                self.right_child = DecissionTree(X[X[:, self.sep_num] > self.sep], \n",
    "                                Y[X[:, self.sep_num] > self.sep], maxdepth, depth + 1)\n",
    "                \n",
    "        \n",
    "    def classify(self, x, depth = -1):\n",
    "        if self.isLeaf or depth == 0:\n",
    "            return self.probability\n",
    "        if x[self.sep_num] <= self.sep:\n",
    "            return self.left_child.classify(x, depth - 1)\n",
    "        else:\n",
    "            return self.right_child.classify(x, depth - 1)\n",
    "        \n",
    "    def classify_matrix(self, X, depth = -1):\n",
    "        return np.array([self.classify(X[i], depth) for i in range(len(X))])"
   ]
  },
  {
   "cell_type": "code",
   "execution_count": 321,
   "metadata": {},
   "outputs": [],
   "source": [
    "class RandomForest:\n",
    "    def __init__(self, X, Y, maxdepth, n):\n",
    "        self.maxdepth = maxdepth\n",
    "        self.forest = []\n",
    "        self.feats = []\n",
    "        for i in range(n):\n",
    "            print(\"Tree number: \", i)\n",
    "            X1, X2, Y1, Y2 = train_test_split(X, Y, train_size=0.8)\n",
    "            feats = np.random.permutation(len(X[0]))[:int(len(X[0]) * 0.8)]\n",
    "            self.feats.append(feats)\n",
    "            self.forest.append(DecissionTree(X1[:, feats], Y1, maxdepth))\n",
    "        \n",
    "    def classify_matrix(self, X, depth = -1):\n",
    "        res = np.array([0] * len(X))\n",
    "        for i in range(len(self.forest)):\n",
    "            res = res + self.forest[i].classify_matrix(X[:, self.feats[i]], depth - 1)\n",
    "        res /= len(self.forest)\n",
    "        return res\n",
    "    \n",
    "    \n"
   ]
  },
  {
   "cell_type": "code",
   "execution_count": 322,
   "metadata": {},
   "outputs": [
    {
     "name": "stdout",
     "output_type": "stream",
     "text": [
      "Tree number:  0\n"
     ]
    },
    {
     "name": "stdout",
     "output_type": "stream",
     "text": [
      "Tree number:  1\n"
     ]
    },
    {
     "name": "stdout",
     "output_type": "stream",
     "text": [
      "Tree number:  2\n"
     ]
    },
    {
     "name": "stdout",
     "output_type": "stream",
     "text": [
      "Tree number:  3\n"
     ]
    },
    {
     "name": "stdout",
     "output_type": "stream",
     "text": [
      "Tree number:  4\n"
     ]
    },
    {
     "name": "stdout",
     "output_type": "stream",
     "text": [
      "Tree number:  5\n"
     ]
    },
    {
     "name": "stdout",
     "output_type": "stream",
     "text": [
      "Tree number:  6\n"
     ]
    },
    {
     "name": "stdout",
     "output_type": "stream",
     "text": [
      "Tree number:  7\n"
     ]
    },
    {
     "name": "stdout",
     "output_type": "stream",
     "text": [
      "Tree number:  8\n"
     ]
    },
    {
     "name": "stdout",
     "output_type": "stream",
     "text": [
      "Tree number:  9\n"
     ]
    },
    {
     "name": "stdout",
     "output_type": "stream",
     "text": [
      "Tree number:  10\n"
     ]
    },
    {
     "name": "stdout",
     "output_type": "stream",
     "text": [
      "Tree number:  11\n"
     ]
    },
    {
     "name": "stdout",
     "output_type": "stream",
     "text": [
      "Tree number:  12\n"
     ]
    },
    {
     "name": "stdout",
     "output_type": "stream",
     "text": [
      "Tree number:  13\n"
     ]
    },
    {
     "name": "stdout",
     "output_type": "stream",
     "text": [
      "Tree number:  14\n"
     ]
    },
    {
     "name": "stdout",
     "output_type": "stream",
     "text": [
      "Tree number:  15\n"
     ]
    },
    {
     "name": "stdout",
     "output_type": "stream",
     "text": [
      "Tree number:  16\n"
     ]
    },
    {
     "name": "stdout",
     "output_type": "stream",
     "text": [
      "Tree number:  17\n"
     ]
    },
    {
     "name": "stdout",
     "output_type": "stream",
     "text": [
      "Tree number:  18\n"
     ]
    },
    {
     "name": "stdout",
     "output_type": "stream",
     "text": [
      "Tree number:  19\n"
     ]
    }
   ],
   "source": [
    "fores = RandomForest(X_cancer_train, y_cancer_train, 3, 20)"
   ]
  },
  {
   "cell_type": "code",
   "execution_count": 323,
   "metadata": {},
   "outputs": [
    {
     "name": "stdout",
     "output_type": "stream",
     "text": [
      "AUC: 0.9918367346938776\n"
     ]
    },
    {
     "data": {
      "image/png": "[encoded data removed]",
      "text/plain": [
       "<Figure size 432x288 with 1 Axes>"
      ]
     },
     "metadata": {},
     "output_type": "display_data"
    }
   ],
   "source": [
    "tps = []\n",
    "fps = []\n",
    "pr1 = fores.classify_matrix(X_cancer_test)\n",
    "y_cancer_test[y_cancer_test == 0]\n",
    "g1 = len(y_cancer_test[y_cancer_test == 1])\n",
    "g0 = len(y_cancer_test[y_cancer_test == 0])\n",
    "pairs = []\n",
    "for i in range(len(pr1)):\n",
    "    pairs.append((pr1[i], y_cancer_test[i]))\n",
    "pairs.sort()\n",
    "tp = g1\n",
    "fp = g0\n",
    "i = 0\n",
    "fps.append(1)\n",
    "tps.append(1)\n",
    "while True:\n",
    "    if i >= len(pairs):\n",
    "            break\n",
    "    pr = pairs[i][0]\n",
    "    cl = pairs[i][1]\n",
    "    prev = pr\n",
    "    while True:\n",
    "        if i >= len(pairs) or pr != prev:\n",
    "            break\n",
    "        pr = pairs[i][0]\n",
    "        cl = pairs[i][1]\n",
    "        if i >= len(pairs) or pr != prev:\n",
    "            break\n",
    "        tp -= int(cl == 1)\n",
    "        fp -= int(cl == 0)\n",
    "        i += 1\n",
    "    tps.append(tp / g1)\n",
    "    fps.append(fp / g0)\n",
    "fig = plt.figure()\n",
    "plt.plot(fps, tps)\n",
    "fig.show()\n",
    "\n",
    "tps.reverse()\n",
    "fps.reverse()\n",
    "prev_tp = tps[0]\n",
    "prev_fp = fps[0]\n",
    "area = 0\n",
    "for tp, fp in zip(tps, fps):\n",
    "    area += (fp - prev_fp) * (prev_tp + tp) / 2\n",
    "    prev_tp = tp\n",
    "    prev_fp = fp\n",
    "print(\"AUC: \" + str(area))"
   ]
  },
  {
   "cell_type": "code",
   "execution_count": 290,
   "metadata": {},
   "outputs": [
    {
     "name": "stdout",
     "output_type": "stream",
     "text": [
      "Tree number:  0\n"
     ]
    },
    {
     "name": "stdout",
     "output_type": "stream",
     "text": [
      "Tree number:  1\n"
     ]
    },
    {
     "name": "stdout",
     "output_type": "stream",
     "text": [
      "Tree number:  2\n"
     ]
    },
    {
     "name": "stdout",
     "output_type": "stream",
     "text": [
      "Tree number:  3\n"
     ]
    },
    {
     "name": "stdout",
     "output_type": "stream",
     "text": [
      "Tree number:  4\n"
     ]
    },
    {
     "name": "stdout",
     "output_type": "stream",
     "text": [
      "Tree number:  5\n"
     ]
    },
    {
     "name": "stdout",
     "output_type": "stream",
     "text": [
      "Tree number:  6\n"
     ]
    },
    {
     "name": "stdout",
     "output_type": "stream",
     "text": [
      "Tree number:  7\n"
     ]
    },
    {
     "name": "stdout",
     "output_type": "stream",
     "text": [
      "Tree number:  8\n"
     ]
    },
    {
     "name": "stdout",
     "output_type": "stream",
     "text": [
      "Tree number:  9\n"
     ]
    },
    {
     "name": "stdout",
     "output_type": "stream",
     "text": [
      "Tree number:  10\n"
     ]
    },
    {
     "name": "stdout",
     "output_type": "stream",
     "text": [
      "Tree number:  11\n"
     ]
    },
    {
     "name": "stdout",
     "output_type": "stream",
     "text": [
      "Tree number:  12\n"
     ]
    },
    {
     "name": "stdout",
     "output_type": "stream",
     "text": [
      "Tree number:  13\n"
     ]
    },
    {
     "name": "stdout",
     "output_type": "stream",
     "text": [
      "Tree number:  14\n"
     ]
    },
    {
     "name": "stdout",
     "output_type": "stream",
     "text": [
      "Tree number:  15\n"
     ]
    },
    {
     "name": "stdout",
     "output_type": "stream",
     "text": [
      "Tree number:  16\n"
     ]
    },
    {
     "name": "stdout",
     "output_type": "stream",
     "text": [
      "Tree number:  17\n"
     ]
    },
    {
     "name": "stdout",
     "output_type": "stream",
     "text": [
      "Tree number:  18\n"
     ]
    },
    {
     "name": "stdout",
     "output_type": "stream",
     "text": [
      "Tree number:  19\n"
     ]
    }
   ],
   "source": [
    "fores = RandomForest(X_spam_train, y_spam_train, 3, 20)"
   ]
  },
  {
   "cell_type": "code",
   "execution_count": 293,
   "metadata": {},
   "outputs": [
    {
     "name": "stdout",
     "output_type": "stream",
     "text": [
      "0.9479194139194141\n"
     ]
    },
    {
     "data": {
      "image/png": "[encoded data removed]",
      "text/plain": [
       "<Figure size 432x288 with 1 Axes>"
      ]
     },
     "metadata": {},
     "output_type": "display_data"
    }
   ],
   "source": [
    "tps = []\n",
    "fps = []\n",
    "pr1 = fores.classify_matrix(X_spam_test)\n",
    "y_spam_test[y_spam_test == 0]\n",
    "g1 = len(y_spam_test[y_spam_test == 1])\n",
    "g0 = len(y_spam_test[y_spam_test == 0])\n",
    "pairs = []\n",
    "for i in range(len(pr1)):\n",
    "    pairs.append((pr1[i], y_spam_test[i]))\n",
    "pairs.sort()\n",
    "tp = g1\n",
    "fp = g0\n",
    "i = 0\n",
    "fps.append(1)\n",
    "tps.append(1)\n",
    "while True:\n",
    "    if i >= len(pairs):\n",
    "            break\n",
    "    pr = pairs[i][0]\n",
    "    cl = pairs[i][1]\n",
    "    prev = pr\n",
    "    while True:\n",
    "        if i >= len(pairs) or pr != prev:\n",
    "            break\n",
    "        pr = pairs[i][0]\n",
    "        cl = pairs[i][1]\n",
    "        if i >= len(pairs) or pr != prev:\n",
    "            break\n",
    "        tp -= int(cl == 1)\n",
    "        fp -= int(cl == 0)\n",
    "        i += 1\n",
    "    tps.append(tp / g1)\n",
    "    fps.append(fp / g0)\n",
    "fig = plt.figure()\n",
    "plt.plot(fps, tps)\n",
    "fig.show()\n",
    "\n",
    "tps.reverse()\n",
    "fps.reverse()\n",
    "prev_tp = tps[0]\n",
    "prev_fp = fps[0]\n",
    "area = 0\n",
    "for tp, fp in zip(tps, fps):\n",
    "    area += (fp - prev_fp) * (prev_tp + tp) / 2\n",
    "    prev_tp = tp\n",
    "    prev_fp = fp\n",
    "print(\"AUC\" + str(area))"
   ]
  },
  {
   "cell_type": "code",
   "execution_count": 297,
   "metadata": {},
   "outputs": [
    {
     "name": "stdout",
     "output_type": "stream",
     "text": [
      "Tree number:  0\n"
     ]
    },
    {
     "name": "stdout",
     "output_type": "stream",
     "text": [
      "Tree number:  1\n"
     ]
    },
    {
     "name": "stdout",
     "output_type": "stream",
     "text": [
      "Tree number:  2\n"
     ]
    },
    {
     "name": "stdout",
     "output_type": "stream",
     "text": [
      "Tree number:  3\n"
     ]
    },
    {
     "name": "stdout",
     "output_type": "stream",
     "text": [
      "Tree number:  4\n"
     ]
    },
    {
     "name": "stdout",
     "output_type": "stream",
     "text": [
      "Tree number:  5\n"
     ]
    },
    {
     "name": "stdout",
     "output_type": "stream",
     "text": [
      "Tree number:  6\n"
     ]
    },
    {
     "name": "stdout",
     "output_type": "stream",
     "text": [
      "Tree number:  7\n"
     ]
    },
    {
     "name": "stdout",
     "output_type": "stream",
     "text": [
      "Tree number:  8\n"
     ]
    },
    {
     "name": "stdout",
     "output_type": "stream",
     "text": [
      "Tree number:  9\n"
     ]
    },
    {
     "name": "stdout",
     "output_type": "stream",
     "text": [
      "Tree number:  10\n"
     ]
    },
    {
     "name": "stdout",
     "output_type": "stream",
     "text": [
      "Tree number:  11\n"
     ]
    },
    {
     "name": "stdout",
     "output_type": "stream",
     "text": [
      "Tree number:  12\n"
     ]
    },
    {
     "name": "stdout",
     "output_type": "stream",
     "text": [
      "Tree number:  13\n"
     ]
    },
    {
     "name": "stdout",
     "output_type": "stream",
     "text": [
      "Tree number:  14\n"
     ]
    },
    {
     "name": "stdout",
     "output_type": "stream",
     "text": [
      "Tree number:  15\n"
     ]
    },
    {
     "name": "stdout",
     "output_type": "stream",
     "text": [
      "Tree number:  16\n"
     ]
    },
    {
     "name": "stdout",
     "output_type": "stream",
     "text": [
      "Tree number:  17\n"
     ]
    },
    {
     "name": "stdout",
     "output_type": "stream",
     "text": [
      "Tree number:  18\n"
     ]
    },
    {
     "name": "stdout",
     "output_type": "stream",
     "text": [
      "Tree number:  19\n"
     ]
    },
    {
     "name": "stdout",
     "output_type": "stream",
     "text": [
      "Tree number:  20\n"
     ]
    },
    {
     "name": "stdout",
     "output_type": "stream",
     "text": [
      "Tree number:  21\n"
     ]
    },
    {
     "name": "stdout",
     "output_type": "stream",
     "text": [
      "Tree number:  22\n"
     ]
    },
    {
     "name": "stdout",
     "output_type": "stream",
     "text": [
      "Tree number:  23\n"
     ]
    },
    {
     "name": "stdout",
     "output_type": "stream",
     "text": [
      "Tree number:  24\n"
     ]
    },
    {
     "name": "stdout",
     "output_type": "stream",
     "text": [
      "Tree number:  25\n"
     ]
    },
    {
     "name": "stdout",
     "output_type": "stream",
     "text": [
      "Tree number:  26\n"
     ]
    },
    {
     "name": "stdout",
     "output_type": "stream",
     "text": [
      "Tree number:  27\n"
     ]
    },
    {
     "name": "stdout",
     "output_type": "stream",
     "text": [
      "Tree number:  28\n"
     ]
    },
    {
     "name": "stdout",
     "output_type": "stream",
     "text": [
      "Tree number:  29\n"
     ]
    },
    {
     "name": "stdout",
     "output_type": "stream",
     "text": [
      "Tree number:  30\n"
     ]
    },
    {
     "name": "stdout",
     "output_type": "stream",
     "text": [
      "Tree number:  31\n"
     ]
    },
    {
     "name": "stdout",
     "output_type": "stream",
     "text": [
      "Tree number:  32\n"
     ]
    },
    {
     "name": "stdout",
     "output_type": "stream",
     "text": [
      "Tree number:  33\n"
     ]
    },
    {
     "name": "stdout",
     "output_type": "stream",
     "text": [
      "Tree number:  34\n"
     ]
    },
    {
     "name": "stdout",
     "output_type": "stream",
     "text": [
      "Tree number:  35\n"
     ]
    },
    {
     "name": "stdout",
     "output_type": "stream",
     "text": [
      "Tree number:  36\n"
     ]
    },
    {
     "name": "stdout",
     "output_type": "stream",
     "text": [
      "Tree number:  37\n"
     ]
    },
    {
     "name": "stdout",
     "output_type": "stream",
     "text": [
      "Tree number:  38\n"
     ]
    },
    {
     "name": "stdout",
     "output_type": "stream",
     "text": [
      "Tree number:  39\n"
     ]
    },
    {
     "name": "stdout",
     "output_type": "stream",
     "text": [
      "Tree number:  40\n"
     ]
    },
    {
     "name": "stdout",
     "output_type": "stream",
     "text": [
      "Tree number:  41\n"
     ]
    },
    {
     "name": "stdout",
     "output_type": "stream",
     "text": [
      "Tree number:  42\n"
     ]
    },
    {
     "name": "stdout",
     "output_type": "stream",
     "text": [
      "Tree number:  43\n"
     ]
    },
    {
     "name": "stdout",
     "output_type": "stream",
     "text": [
      "Tree number:  44\n"
     ]
    },
    {
     "name": "stdout",
     "output_type": "stream",
     "text": [
      "Tree number:  45\n"
     ]
    },
    {
     "name": "stdout",
     "output_type": "stream",
     "text": [
      "Tree number:  46\n"
     ]
    },
    {
     "name": "stdout",
     "output_type": "stream",
     "text": [
      "Tree number:  47\n"
     ]
    },
    {
     "name": "stdout",
     "output_type": "stream",
     "text": [
      "Tree number:  48\n"
     ]
    },
    {
     "name": "stdout",
     "output_type": "stream",
     "text": [
      "Tree number:  49\n"
     ]
    },
    {
     "name": "stdout",
     "output_type": "stream",
     "text": [
      "Tree number:  50\n"
     ]
    },
    {
     "name": "stdout",
     "output_type": "stream",
     "text": [
      "Tree number:  51\n"
     ]
    },
    {
     "name": "stdout",
     "output_type": "stream",
     "text": [
      "Tree number:  52\n"
     ]
    },
    {
     "name": "stdout",
     "output_type": "stream",
     "text": [
      "Tree number:  53\n"
     ]
    },
    {
     "name": "stdout",
     "output_type": "stream",
     "text": [
      "Tree number:  54\n"
     ]
    },
    {
     "name": "stdout",
     "output_type": "stream",
     "text": [
      "Tree number:  55\n"
     ]
    },
    {
     "name": "stdout",
     "output_type": "stream",
     "text": [
      "Tree number:  56\n"
     ]
    },
    {
     "name": "stdout",
     "output_type": "stream",
     "text": [
      "Tree number:  57\n"
     ]
    },
    {
     "name": "stdout",
     "output_type": "stream",
     "text": [
      "Tree number:  58\n"
     ]
    },
    {
     "name": "stdout",
     "output_type": "stream",
     "text": [
      "Tree number:  59\n"
     ]
    },
    {
     "name": "stdout",
     "output_type": "stream",
     "text": [
      "Tree number:  60\n"
     ]
    },
    {
     "name": "stdout",
     "output_type": "stream",
     "text": [
      "Tree number:  61\n"
     ]
    },
    {
     "name": "stdout",
     "output_type": "stream",
     "text": [
      "Tree number:  62\n"
     ]
    },
    {
     "name": "stdout",
     "output_type": "stream",
     "text": [
      "Tree number:  63\n"
     ]
    },
    {
     "name": "stdout",
     "output_type": "stream",
     "text": [
      "Tree number:  64\n"
     ]
    },
    {
     "name": "stdout",
     "output_type": "stream",
     "text": [
      "Tree number:  65\n"
     ]
    },
    {
     "name": "stdout",
     "output_type": "stream",
     "text": [
      "Tree number:  66\n"
     ]
    },
    {
     "name": "stdout",
     "output_type": "stream",
     "text": [
      "Tree number:  67\n"
     ]
    },
    {
     "name": "stdout",
     "output_type": "stream",
     "text": [
      "Tree number:  68\n"
     ]
    },
    {
     "name": "stdout",
     "output_type": "stream",
     "text": [
      "Tree number:  69\n"
     ]
    },
    {
     "name": "stdout",
     "output_type": "stream",
     "text": [
      "Tree number:  70\n"
     ]
    },
    {
     "name": "stdout",
     "output_type": "stream",
     "text": [
      "Tree number:  71\n"
     ]
    },
    {
     "name": "stdout",
     "output_type": "stream",
     "text": [
      "Tree number:  72\n"
     ]
    },
    {
     "name": "stdout",
     "output_type": "stream",
     "text": [
      "Tree number:  73\n"
     ]
    },
    {
     "name": "stdout",
     "output_type": "stream",
     "text": [
      "Tree number:  74\n"
     ]
    },
    {
     "name": "stdout",
     "output_type": "stream",
     "text": [
      "Tree number:  75\n"
     ]
    },
    {
     "name": "stdout",
     "output_type": "stream",
     "text": [
      "Tree number:  76\n"
     ]
    },
    {
     "name": "stdout",
     "output_type": "stream",
     "text": [
      "Tree number:  77\n"
     ]
    },
    {
     "name": "stdout",
     "output_type": "stream",
     "text": [
      "Tree number:  78\n"
     ]
    },
    {
     "name": "stdout",
     "output_type": "stream",
     "text": [
      "Tree number:  79\n"
     ]
    },
    {
     "name": "stdout",
     "output_type": "stream",
     "text": [
      "Tree number:  80\n"
     ]
    },
    {
     "name": "stdout",
     "output_type": "stream",
     "text": [
      "Tree number:  81\n"
     ]
    },
    {
     "name": "stdout",
     "output_type": "stream",
     "text": [
      "Tree number:  82\n"
     ]
    },
    {
     "name": "stdout",
     "output_type": "stream",
     "text": [
      "Tree number:  83\n"
     ]
    },
    {
     "name": "stdout",
     "output_type": "stream",
     "text": [
      "Tree number:  84\n"
     ]
    },
    {
     "name": "stdout",
     "output_type": "stream",
     "text": [
      "Tree number:  85\n"
     ]
    },
    {
     "name": "stdout",
     "output_type": "stream",
     "text": [
      "Tree number:  86\n"
     ]
    },
    {
     "name": "stdout",
     "output_type": "stream",
     "text": [
      "Tree number:  87\n"
     ]
    },
    {
     "name": "stdout",
     "output_type": "stream",
     "text": [
      "Tree number:  88\n"
     ]
    },
    {
     "name": "stdout",
     "output_type": "stream",
     "text": [
      "Tree number:  89\n"
     ]
    },
    {
     "name": "stdout",
     "output_type": "stream",
     "text": [
      "Tree number:  90\n"
     ]
    },
    {
     "name": "stdout",
     "output_type": "stream",
     "text": [
      "Tree number:  91\n"
     ]
    },
    {
     "name": "stdout",
     "output_type": "stream",
     "text": [
      "Tree number:  92\n"
     ]
    },
    {
     "name": "stdout",
     "output_type": "stream",
     "text": [
      "Tree number:  93\n"
     ]
    },
    {
     "name": "stdout",
     "output_type": "stream",
     "text": [
      "Tree number:  94\n"
     ]
    },
    {
     "name": "stdout",
     "output_type": "stream",
     "text": [
      "Tree number:  95\n"
     ]
    },
    {
     "name": "stdout",
     "output_type": "stream",
     "text": [
      "Tree number:  96\n"
     ]
    },
    {
     "name": "stdout",
     "output_type": "stream",
     "text": [
      "Tree number:  97\n"
     ]
    },
    {
     "name": "stdout",
     "output_type": "stream",
     "text": [
      "Tree number:  98\n"
     ]
    },
    {
     "name": "stdout",
     "output_type": "stream",
     "text": [
      "Tree number:  99\n"
     ]
    },
    {
     "name": "stdout",
     "output_type": "stream",
     "text": [
      "Tree number:  0\n"
     ]
    },
    {
     "name": "stdout",
     "output_type": "stream",
     "text": [
      "Tree number:  1\n"
     ]
    },
    {
     "name": "stdout",
     "output_type": "stream",
     "text": [
      "Tree number:  2\n"
     ]
    },
    {
     "name": "stdout",
     "output_type": "stream",
     "text": [
      "Tree number:  3\n"
     ]
    },
    {
     "name": "stdout",
     "output_type": "stream",
     "text": [
      "Tree number:  4\n"
     ]
    },
    {
     "name": "stdout",
     "output_type": "stream",
     "text": [
      "Tree number:  5\n"
     ]
    },
    {
     "name": "stdout",
     "output_type": "stream",
     "text": [
      "Tree number:  6\n"
     ]
    },
    {
     "name": "stdout",
     "output_type": "stream",
     "text": [
      "Tree number:  7\n"
     ]
    },
    {
     "name": "stdout",
     "output_type": "stream",
     "text": [
      "Tree number:  8\n"
     ]
    },
    {
     "name": "stdout",
     "output_type": "stream",
     "text": [
      "Tree number:  9\n"
     ]
    },
    {
     "name": "stdout",
     "output_type": "stream",
     "text": [
      "Tree number:  10\n"
     ]
    },
    {
     "name": "stdout",
     "output_type": "stream",
     "text": [
      "Tree number:  11\n"
     ]
    },
    {
     "name": "stdout",
     "output_type": "stream",
     "text": [
      "Tree number:  12\n"
     ]
    },
    {
     "name": "stdout",
     "output_type": "stream",
     "text": [
      "Tree number:  13\n"
     ]
    },
    {
     "name": "stdout",
     "output_type": "stream",
     "text": [
      "Tree number:  14\n"
     ]
    },
    {
     "name": "stdout",
     "output_type": "stream",
     "text": [
      "Tree number:  15\n"
     ]
    },
    {
     "name": "stdout",
     "output_type": "stream",
     "text": [
      "Tree number:  16\n"
     ]
    },
    {
     "name": "stdout",
     "output_type": "stream",
     "text": [
      "Tree number:  17\n"
     ]
    },
    {
     "name": "stdout",
     "output_type": "stream",
     "text": [
      "Tree number:  18\n"
     ]
    },
    {
     "name": "stdout",
     "output_type": "stream",
     "text": [
      "Tree number:  19\n"
     ]
    },
    {
     "name": "stdout",
     "output_type": "stream",
     "text": [
      "Tree number:  20\n"
     ]
    },
    {
     "name": "stdout",
     "output_type": "stream",
     "text": [
      "Tree number:  21\n"
     ]
    },
    {
     "name": "stdout",
     "output_type": "stream",
     "text": [
      "Tree number:  22\n"
     ]
    },
    {
     "name": "stdout",
     "output_type": "stream",
     "text": [
      "Tree number:  23\n"
     ]
    },
    {
     "name": "stdout",
     "output_type": "stream",
     "text": [
      "Tree number:  24\n"
     ]
    },
    {
     "name": "stdout",
     "output_type": "stream",
     "text": [
      "Tree number:  25\n"
     ]
    },
    {
     "name": "stdout",
     "output_type": "stream",
     "text": [
      "Tree number:  26\n"
     ]
    },
    {
     "name": "stdout",
     "output_type": "stream",
     "text": [
      "Tree number:  27\n"
     ]
    },
    {
     "name": "stdout",
     "output_type": "stream",
     "text": [
      "Tree number:  28\n"
     ]
    },
    {
     "name": "stdout",
     "output_type": "stream",
     "text": [
      "Tree number:  29\n"
     ]
    },
    {
     "name": "stdout",
     "output_type": "stream",
     "text": [
      "Tree number:  30\n"
     ]
    },
    {
     "name": "stdout",
     "output_type": "stream",
     "text": [
      "Tree number:  31\n"
     ]
    },
    {
     "name": "stdout",
     "output_type": "stream",
     "text": [
      "Tree number:  32\n"
     ]
    },
    {
     "name": "stdout",
     "output_type": "stream",
     "text": [
      "Tree number:  33\n"
     ]
    },
    {
     "name": "stdout",
     "output_type": "stream",
     "text": [
      "Tree number:  34\n"
     ]
    },
    {
     "name": "stdout",
     "output_type": "stream",
     "text": [
      "Tree number:  35\n"
     ]
    },
    {
     "name": "stdout",
     "output_type": "stream",
     "text": [
      "Tree number:  36\n"
     ]
    },
    {
     "name": "stdout",
     "output_type": "stream",
     "text": [
      "Tree number:  37\n"
     ]
    },
    {
     "name": "stdout",
     "output_type": "stream",
     "text": [
      "Tree number:  38\n"
     ]
    },
    {
     "name": "stdout",
     "output_type": "stream",
     "text": [
      "Tree number:  39\n"
     ]
    },
    {
     "name": "stdout",
     "output_type": "stream",
     "text": [
      "Tree number:  40\n"
     ]
    },
    {
     "name": "stdout",
     "output_type": "stream",
     "text": [
      "Tree number:  41\n"
     ]
    },
    {
     "name": "stdout",
     "output_type": "stream",
     "text": [
      "Tree number:  42\n"
     ]
    },
    {
     "name": "stdout",
     "output_type": "stream",
     "text": [
      "Tree number:  43\n"
     ]
    },
    {
     "name": "stdout",
     "output_type": "stream",
     "text": [
      "Tree number:  44\n"
     ]
    },
    {
     "name": "stdout",
     "output_type": "stream",
     "text": [
      "Tree number:  45\n"
     ]
    },
    {
     "name": "stdout",
     "output_type": "stream",
     "text": [
      "Tree number:  46\n"
     ]
    },
    {
     "name": "stdout",
     "output_type": "stream",
     "text": [
      "Tree number:  47\n"
     ]
    },
    {
     "name": "stdout",
     "output_type": "stream",
     "text": [
      "Tree number:  48\n"
     ]
    },
    {
     "name": "stdout",
     "output_type": "stream",
     "text": [
      "Tree number:  49\n"
     ]
    },
    {
     "name": "stdout",
     "output_type": "stream",
     "text": [
      "Tree number:  50\n"
     ]
    },
    {
     "name": "stdout",
     "output_type": "stream",
     "text": [
      "Tree number:  51\n"
     ]
    },
    {
     "name": "stdout",
     "output_type": "stream",
     "text": [
      "Tree number:  52\n"
     ]
    },
    {
     "name": "stdout",
     "output_type": "stream",
     "text": [
      "Tree number:  53\n"
     ]
    },
    {
     "name": "stdout",
     "output_type": "stream",
     "text": [
      "Tree number:  54\n"
     ]
    },
    {
     "name": "stdout",
     "output_type": "stream",
     "text": [
      "Tree number:  55\n"
     ]
    },
    {
     "name": "stdout",
     "output_type": "stream",
     "text": [
      "Tree number:  56\n"
     ]
    },
    {
     "name": "stdout",
     "output_type": "stream",
     "text": [
      "Tree number:  57\n"
     ]
    },
    {
     "name": "stdout",
     "output_type": "stream",
     "text": [
      "Tree number:  58\n"
     ]
    },
    {
     "name": "stdout",
     "output_type": "stream",
     "text": [
      "Tree number:  59\n"
     ]
    },
    {
     "name": "stdout",
     "output_type": "stream",
     "text": [
      "Tree number:  60\n"
     ]
    },
    {
     "name": "stdout",
     "output_type": "stream",
     "text": [
      "Tree number:  61\n"
     ]
    },
    {
     "name": "stdout",
     "output_type": "stream",
     "text": [
      "Tree number:  62\n"
     ]
    },
    {
     "name": "stdout",
     "output_type": "stream",
     "text": [
      "Tree number:  63\n"
     ]
    },
    {
     "name": "stdout",
     "output_type": "stream",
     "text": [
      "Tree number:  64\n"
     ]
    },
    {
     "name": "stdout",
     "output_type": "stream",
     "text": [
      "Tree number:  65\n"
     ]
    },
    {
     "name": "stdout",
     "output_type": "stream",
     "text": [
      "Tree number:  66\n"
     ]
    },
    {
     "name": "stdout",
     "output_type": "stream",
     "text": [
      "Tree number:  67\n"
     ]
    },
    {
     "name": "stdout",
     "output_type": "stream",
     "text": [
      "Tree number:  68\n"
     ]
    },
    {
     "name": "stdout",
     "output_type": "stream",
     "text": [
      "Tree number:  69\n"
     ]
    },
    {
     "name": "stdout",
     "output_type": "stream",
     "text": [
      "Tree number:  70\n"
     ]
    },
    {
     "name": "stdout",
     "output_type": "stream",
     "text": [
      "Tree number:  71\n"
     ]
    },
    {
     "name": "stdout",
     "output_type": "stream",
     "text": [
      "Tree number:  72\n"
     ]
    },
    {
     "name": "stdout",
     "output_type": "stream",
     "text": [
      "Tree number:  73\n"
     ]
    },
    {
     "name": "stdout",
     "output_type": "stream",
     "text": [
      "Tree number:  74\n"
     ]
    },
    {
     "name": "stdout",
     "output_type": "stream",
     "text": [
      "Tree number:  75\n"
     ]
    },
    {
     "name": "stdout",
     "output_type": "stream",
     "text": [
      "Tree number:  76\n"
     ]
    },
    {
     "name": "stdout",
     "output_type": "stream",
     "text": [
      "Tree number:  77\n"
     ]
    },
    {
     "name": "stdout",
     "output_type": "stream",
     "text": [
      "Tree number:  78\n"
     ]
    },
    {
     "name": "stdout",
     "output_type": "stream",
     "text": [
      "Tree number:  79\n"
     ]
    },
    {
     "name": "stdout",
     "output_type": "stream",
     "text": [
      "Tree number:  80\n"
     ]
    },
    {
     "name": "stdout",
     "output_type": "stream",
     "text": [
      "Tree number:  81\n"
     ]
    },
    {
     "name": "stdout",
     "output_type": "stream",
     "text": [
      "Tree number:  82\n"
     ]
    },
    {
     "name": "stdout",
     "output_type": "stream",
     "text": [
      "Tree number:  83\n"
     ]
    },
    {
     "name": "stdout",
     "output_type": "stream",
     "text": [
      "Tree number:  84\n"
     ]
    },
    {
     "name": "stdout",
     "output_type": "stream",
     "text": [
      "Tree number:  85\n"
     ]
    },
    {
     "name": "stdout",
     "output_type": "stream",
     "text": [
      "Tree number:  86\n"
     ]
    },
    {
     "name": "stdout",
     "output_type": "stream",
     "text": [
      "Tree number:  87\n"
     ]
    },
    {
     "name": "stdout",
     "output_type": "stream",
     "text": [
      "Tree number:  88\n"
     ]
    },
    {
     "name": "stdout",
     "output_type": "stream",
     "text": [
      "Tree number:  89\n"
     ]
    },
    {
     "name": "stdout",
     "output_type": "stream",
     "text": [
      "Tree number:  90\n"
     ]
    },
    {
     "name": "stdout",
     "output_type": "stream",
     "text": [
      "Tree number:  91\n"
     ]
    },
    {
     "name": "stdout",
     "output_type": "stream",
     "text": [
      "Tree number:  92\n"
     ]
    },
    {
     "name": "stdout",
     "output_type": "stream",
     "text": [
      "Tree number:  93\n"
     ]
    },
    {
     "name": "stdout",
     "output_type": "stream",
     "text": [
      "Tree number:  94\n"
     ]
    },
    {
     "name": "stdout",
     "output_type": "stream",
     "text": [
      "Tree number:  95\n"
     ]
    },
    {
     "name": "stdout",
     "output_type": "stream",
     "text": [
      "Tree number:  96\n"
     ]
    },
    {
     "name": "stdout",
     "output_type": "stream",
     "text": [
      "Tree number:  97\n"
     ]
    },
    {
     "name": "stdout",
     "output_type": "stream",
     "text": [
      "Tree number:  98\n"
     ]
    },
    {
     "name": "stdout",
     "output_type": "stream",
     "text": [
      "Tree number:  99\n"
     ]
    }
   ],
   "source": [
    "forest_cancer = RandomForest(X_cancer_train, y_cancer_train, 10, 100)\n",
    "forest_spam = RandomForest(X_spam_train, y_spam_train, 10, 100)"
   ]
  },
  {
   "cell_type": "code",
   "execution_count": 306,
   "metadata": {},
   "outputs": [
    {
     "name": "stdout",
     "output_type": "stream",
     "text": [
      "Число деревьев: 5\nDepth: 2 AUC: 0.9822605965463108\nDepth: 3 AUC: 0.9822605965463109\nDepth: 5 AUC: 0.9849293563579278\nDepth: 7 AUC: 0.9833594976452118\nDepth: 10 AUC: 0.9843014128728416\nЧисло деревьев: 10\nDepth: 2 AUC: 0.9802197802197803\nDepth: 3 AUC: 0.9827315541601255\nDepth: 5 AUC: 0.9857142857142858\nDepth: 7 AUC: 0.9839874411302983\nDepth: 10 AUC: 0.986342229199372\nЧисло деревьев: 20\nDepth: 2 AUC: 0.9802197802197802\nDepth: 3 AUC: 0.9872841444270016\nDepth: 5 AUC: 0.9934065934065934\nDepth: 7 AUC: 0.9941915227629513\nDepth: 10 AUC: 0.9860282574568289\nЧисло деревьев: 30\nDepth: 2 AUC: 0.981789638932496\nDepth: 3 AUC: 0.9872841444270016\nDepth: 5 AUC: 0.9924646781789639\nDepth: 7 AUC: 0.9945054945054945\nDepth: 10 AUC: 0.9869701726844584\nЧисло деревьев: 50\nDepth: 2 AUC: 0.981789638932496\nDepth: 3 AUC: 0.9854003139717427\nDepth: 5 AUC: 0.9949764521193093\nDepth: 7 AUC: 0.9954474097331241\nDepth: 10 AUC: 0.9951334379905808\nЧисло деревьев: 100\nDepth: 2 AUC: 0.9814756671899528\nDepth: 3 AUC: 0.9941915227629514\nDepth: 5 AUC: 0.9949764521193092\nDepth: 7 AUC: 0.9954474097331241\nDepth: 10 AUC: 0.9952904238618525\n"
     ]
    }
   ],
   "source": [
    "def classify_matrix(self, X, depth = -1, trees_num = None):\n",
    "    if trees_num is None:\n",
    "        trees_num = len(self.forest)\n",
    "    res = np.array([0] * len(X))\n",
    "    for i in range(trees_num):\n",
    "        res = res + self.forest[i].classify_matrix(X[:, self.feats[i]], depth - 1)\n",
    "    res /= len(self.forest)\n",
    "    return res\n",
    "\n",
    "for trees_num in [5, 10, 20, 30, 50, 100]:\n",
    "    print(\"Число деревьев: \" + str(trees_num))\n",
    "    for depth in [2, 3, 5, 7, 10]:\n",
    "        tps = []\n",
    "        fps = []\n",
    "        pr1 = classify_matrix(forest_cancer, X_cancer_test, depth, trees_num)\n",
    "        y_cancer_test[y_cancer_test == 0]\n",
    "        g1 = len(y_cancer_test[y_cancer_test == 1])\n",
    "        g0 = len(y_cancer_test[y_cancer_test == 0])\n",
    "        pairs = []\n",
    "        for i in range(len(pr1)):\n",
    "            pairs.append((pr1[i], y_cancer_test[i]))\n",
    "        pairs.sort()\n",
    "        tp = g1\n",
    "        fp = g0\n",
    "        i = 0\n",
    "        fps.append(1)\n",
    "        tps.append(1)\n",
    "        while True:\n",
    "            if i >= len(pairs):\n",
    "                    break\n",
    "            pr = pairs[i][0]\n",
    "            cl = pairs[i][1]\n",
    "            prev = pr\n",
    "            while True:\n",
    "                if i >= len(pairs) or pr != prev:\n",
    "                    break\n",
    "                pr = pairs[i][0]\n",
    "                cl = pairs[i][1]\n",
    "                if i >= len(pairs) or pr != prev:\n",
    "                    break\n",
    "                tp -= int(cl == 1)\n",
    "                fp -= int(cl == 0)\n",
    "                i += 1\n",
    "            tps.append(tp / g1)\n",
    "            fps.append(fp / g0)\n",
    "        \n",
    "        tps.reverse()\n",
    "        fps.reverse()\n",
    "        prev_tp = tps[0]\n",
    "        prev_fp = fps[0]\n",
    "        area = 0\n",
    "        for tp, fp in zip(tps, fps):\n",
    "            area += (fp - prev_fp) * (prev_tp + tp) / 2\n",
    "            prev_tp = tp\n",
    "            prev_fp = fp\n",
    "        print(\"Depth: \" + str(depth) + \" AUC: \" + str(area))"
   ]
  },
  {
   "cell_type": "code",
   "execution_count": null,
   "metadata": {},
   "outputs": [],
   "source": [
    "print(\"Оптимальный вариант для cancer: 50 деревьев глубины 7\")"
   ]
  },
  {
   "cell_type": "code",
   "execution_count": 307,
   "metadata": {},
   "outputs": [
    {
     "name": "stdout",
     "output_type": "stream",
     "text": [
      "Число деревьев: 5\nDepth: 2 AUC: 0.8511697191697192\nDepth: 3 AUC: 0.9231916971916972\nDepth: 5 AUC: 0.9646935286935288\nDepth: 7 AUC: 0.9731501831501832\nDepth: 10 AUC: 0.976395604395605\nЧисло деревьев: 10\nDepth: 2 AUC: 0.9091843711843711\nDepth: 3 AUC: 0.9453382173382172\nDepth: 5 AUC: 0.9636312576312578\n"
     ]
    },
    {
     "name": "stdout",
     "output_type": "stream",
     "text": [
      "Depth: 7 AUC: 0.9744542124542123\nDepth: 10 AUC: 0.9769499389499381\nЧисло деревьев: 20\nDepth: 2 AUC: 0.9176898656898655\nDepth: 3 AUC: 0.9470598290598291\nDepth: 5 AUC: 0.963628815628816\n"
     ]
    },
    {
     "name": "stdout",
     "output_type": "stream",
     "text": [
      "Depth: 7 AUC: 0.9748840048840045\nDepth: 10 AUC: 0.9793846153846147\nЧисло деревьев: 30\nDepth: 2 AUC: 0.9163174603174603\nDepth: 3 AUC: 0.9475457875457876\n"
     ]
    },
    {
     "name": "stdout",
     "output_type": "stream",
     "text": [
      "Depth: 5 AUC: 0.9629597069597071\nDepth: 7 AUC: 0.9756117216117218\n"
     ]
    },
    {
     "name": "stdout",
     "output_type": "stream",
     "text": [
      "Depth: 10 AUC: 0.97996336996337\nЧисло деревьев: 50\nDepth: 2 AUC: 0.9163223443223443\nDepth: 3 AUC: 0.9475628815628816\n"
     ]
    },
    {
     "name": "stdout",
     "output_type": "stream",
     "text": [
      "Depth: 5 AUC: 0.9631184371184375\n"
     ]
    },
    {
     "name": "stdout",
     "output_type": "stream",
     "text": [
      "Depth: 7 AUC: 0.9752673992674004\n"
     ]
    },
    {
     "name": "stdout",
     "output_type": "stream",
     "text": [
      "Depth: 10 AUC: 0.9801098901098894\nЧисло деревьев: 100\nDepth: 2 AUC: 0.916092796092796\n"
     ]
    },
    {
     "name": "stdout",
     "output_type": "stream",
     "text": [
      "Depth: 3 AUC: 0.9461758241758242\n"
     ]
    },
    {
     "name": "stdout",
     "output_type": "stream",
     "text": [
      "Depth: 5 AUC: 0.9639926739926742\n"
     ]
    },
    {
     "name": "stdout",
     "output_type": "stream",
     "text": [
      "Depth: 7 AUC: 0.9747155067155091\n"
     ]
    },
    {
     "name": "stdout",
     "output_type": "stream",
     "text": [
      "Depth: 10 AUC: 0.9794920634920643\n"
     ]
    }
   ],
   "source": [
    "for trees_num in [5, 10, 20, 30, 50, 100]:\n",
    "    print(\"Число деревьев: \" + str(trees_num))\n",
    "    for depth in [2, 3, 5, 7, 10]:\n",
    "        tps = []\n",
    "        fps = []\n",
    "        pr1 = classify_matrix(forest_spam, X_spam_test, depth, trees_num)\n",
    "        y_spam_test[y_spam_test == 0]\n",
    "        g1 = len(y_spam_test[y_spam_test == 1])\n",
    "        g0 = len(y_spam_test[y_spam_test == 0])\n",
    "        pairs = []\n",
    "        for i in range(len(pr1)):\n",
    "            pairs.append((pr1[i], y_spam_test[i]))\n",
    "        pairs.sort()\n",
    "        tp = g1\n",
    "        fp = g0\n",
    "        i = 0\n",
    "        fps.append(1)\n",
    "        tps.append(1)\n",
    "        while True:\n",
    "            if i >= len(pairs):\n",
    "                    break\n",
    "            pr = pairs[i][0]\n",
    "            cl = pairs[i][1]\n",
    "            prev = pr\n",
    "            while True:\n",
    "                if i >= len(pairs) or pr != prev:\n",
    "                    break\n",
    "                pr = pairs[i][0]\n",
    "                cl = pairs[i][1]\n",
    "                if i >= len(pairs) or pr != prev:\n",
    "                    break\n",
    "                tp -= int(cl == 1)\n",
    "                fp -= int(cl == 0)\n",
    "                i += 1\n",
    "            tps.append(tp / g1)\n",
    "            fps.append(fp / g0)\n",
    "        \n",
    "        tps.reverse()\n",
    "        fps.reverse()\n",
    "        prev_tp = tps[0]\n",
    "        prev_fp = fps[0]\n",
    "        area = 0\n",
    "        for tp, fp in zip(tps, fps):\n",
    "            area += (fp - prev_fp) * (prev_tp + tp) / 2\n",
    "            prev_tp = tp\n",
    "            prev_fp = fp\n",
    "        print(\"Depth: \" + str(depth) + \" AUC: \" + str(area))"
   ]
  },
  {
   "cell_type": "code",
   "execution_count": 324,
   "metadata": {},
   "outputs": [
    {
     "name": "stdout",
     "output_type": "stream",
     "text": [
      "Оптимальный вариант для spam: 50 деревьев глубины 10\n"
     ]
    }
   ],
   "source": [
    "print(\"Оптимальный вариант для spam: 50 деревьев глубины 10\")"
   ]
  },
  {
   "cell_type": "code",
   "execution_count": null,
   "metadata": {},
   "outputs": [],
   "source": []
  }
 ],
 "metadata": {
  "kernelspec": {
   "display_name": "Python 2",
   "language": "python",
   "name": "python2"
  },
  "language_info": {
   "codemirror_mode": {
    "name": "ipython",
    "version": 2
   },
   "file_extension": ".py",
   "mimetype": "text/x-python",
   "name": "python",
   "nbconvert_exporter": "python",
   "pygments_lexer": "ipython2",
   "version": "2.7.6"
  }
 },
 "nbformat": 4,
 "nbformat_minor": 0
}
