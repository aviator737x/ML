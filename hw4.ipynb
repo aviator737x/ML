{
 "cells": [
  {
   "cell_type": "code",
   "execution_count": 52,
   "metadata": {},
   "outputs": [],
   "source": [
    "from collections import Counter\n",
    "import pandas as pd\n",
    "import numpy as np\n",
    "import matplotlib.pyplot as plt"
   ]
  },
  {
   "cell_type": "code",
   "execution_count": 53,
   "metadata": {},
   "outputs": [],
   "source": [
    "def entropy(classes):\n",
    "    unique_classes = np.unique(classes)\n",
    "    probabilities = np.array([0.1] * len(unique_classes))\n",
    "    i = 0\n",
    "    for cl in unique_classes:\n",
    "        n = len(classes[classes == cl])\n",
    "        probabilities[i] = (n + 0.1 - 0.1) / len(classes)\n",
    "        i += 1\n",
    "    return -np.sum(probabilities * np.log2(probabilities))\n",
    "\n",
    "\n",
    "def gini(classes):\n",
    "    unique_classes = np.unique(classes)\n",
    "    probabilities = np.array([0.1] * len(unique_classes))\n",
    "    i = 0\n",
    "    for cl in unique_classes:\n",
    "        n = len(classes[classes == cl])\n",
    "        probabilities[i] = (n + 0.1 - 0.1) / len(classes)\n",
    "        i += 1\n",
    "    return np.sum(probabilities * (1 - probabilities))\n",
    "\n",
    "\n",
    "def miss_error(classes):\n",
    "    max = Counter(y).most_common(1)[0][1] / len(classes)\n",
    "    return 1 - max\n",
    "\n",
    "\n",
    "impurities = {\"entropy\": entropy, \"gini\": gini, \"miss_error\": miss_error}\n",
    "\n",
    "features = []\n",
    "\n",
    "class Tree:\n",
    "    children = []\n",
    "    isLeaf = True\n",
    "\n",
    "    def __init__(self, data, impurity, max_depth, depth = 0):\n",
    "        features = []\n",
    "        y = data[:, 0]\n",
    "        x = data[:, 1:]\n",
    "        self.pr = Counter(y).most_common(1)[0][1] / len(y)\n",
    "        if len(np.unique(y)) == 1:\n",
    "            self.isLeaf = True\n",
    "            self.cl = np.unique(y)[0]\n",
    "        elif depth == max_depth:\n",
    "            self.isLeaf = True\n",
    "            cl = Counter(y).most_common(1)[0][0]\n",
    "            self.cl = cl\n",
    "        else:\n",
    "            maxIG = 0\n",
    "            I_node = impurity(y)\n",
    "            for i in range(len(x[0])):\n",
    "                if i not in features:\n",
    "                    feature_data = x[:, i]\n",
    "                    for j in range(len(feature_data)):\n",
    "                        left = y[feature_data <= feature_data[j]]\n",
    "                        right = y[feature_data > feature_data[j]]\n",
    "                        if len(left) == 0 or len(right) == 0:\n",
    "                            continue\n",
    "                        I_left = impurity(left) * len(left) / len(y)\n",
    "                        I_right = impurity(right) * len(right) / len(y)\n",
    "                        IG = I_node - I_left - I_right\n",
    "                        if maxIG < IG:\n",
    "                            maxIG = IG\n",
    "                            self.sep_feature = i\n",
    "                            self.separator = feature_data[j]\n",
    "            if maxIG > 0:\n",
    "                features.append(self.sep_feature)\n",
    "                self.isLeaf = False\n",
    "                left = np.array([False] * len(data))\n",
    "                right = np.array([False] * len(data))\n",
    "                for i in range(len(y)):\n",
    "                    if data[i][self.sep_feature + 1] <= self.separator:\n",
    "                        left[i] = True\n",
    "                    else:\n",
    "                        right[i] = True\n",
    "                self.children.append(Tree(data[left], impurity, max_depth, depth + 1))\n",
    "                self.children.append(Tree(data[right], impurity, max_depth, depth + 1))\n",
    "            else:\n",
    "                self.isLeaf = True\n",
    "                cl = Counter(y).most_common(1)[0][0]\n",
    "                self.cl = cl\n",
    "\n",
    "    def classify(self, x):\n",
    "        if self.isLeaf:\n",
    "            return self.cl, self.pr\n",
    "        else:\n",
    "            if x[self.sep_feature] <= self.separator:\n",
    "                return self.children[0].classify(x)\n",
    "            else:\n",
    "                return self.children[1].classify(x)"
   ]
  },
  {
   "cell_type": "markdown",
   "metadata": {},
   "source": []
  },
  {
   "cell_type": "code",
   "execution_count": 54,
   "metadata": {},
   "outputs": [],
   "source": [
    "def getRandomSampleFromData(data):\n",
    "    N = len(data)\n",
    "    arr = np.array([i for i in range(N)])\n",
    "    sample = np.random.choice(arr, size=N, replace=True)\n",
    "    return data[sample]"
   ]
  },
  {
   "cell_type": "code",
   "execution_count": 78,
   "metadata": {},
   "outputs": [],
   "source": [
    "class RandomForest:\n",
    "    def __init__(self, data, n, maxdepth):\n",
    "        self.feats = []\n",
    "        N = len(data)\n",
    "        forest = []\n",
    "        for i in range(n):\n",
    "            sample = getRandomSampleFromData(data)\n",
    "            x = data[:, 1:]\n",
    "            y = data[:, 0]\n",
    "            features = np.random.permutation(len(x[0]))[:int(len(x[0]) * 0.7)]\n",
    "            self.feats.append(features)\n",
    "            forest.append(Tree(np.column_stack((y, x[:, features])), gini, maxdepth))\n",
    "            print (\"Tree number \", i)\n",
    "        self.forest = np.array(forest)\n",
    "        \n",
    "\n",
    "def classifyy(forest, X, features):\n",
    "    classes = {}\n",
    "    i = 0\n",
    "    for tree in forest:\n",
    "        cl, pr = tree.classify(X[features[i]])\n",
    "        print (cl, pr)\n",
    "        if cl in classes:\n",
    "            classes[cl] += pr\n",
    "            classes[cl] /= 2\n",
    "        else:\n",
    "            classes[cl] = pr\n",
    "    max = -1\n",
    "    cl = None\n",
    "    for clas in classes:\n",
    "        if classes[clas] > max:\n",
    "            max = classes[clas]\n",
    "            cl = clas\n",
    "    prob = classes[cl]\n",
    "    return cl, prob\n",
    "\n"
   ]
  },
  {
   "cell_type": "code",
   "execution_count": 65,
   "metadata": {},
   "outputs": [
    {
     "name": "stdout",
     "output_type": "stream",
     "text": [
      "Tree number  0\n"
     ]
    },
    {
     "name": "stdout",
     "output_type": "stream",
     "text": [
      "Tree number  1\n"
     ]
    },
    {
     "name": "stdout",
     "output_type": "stream",
     "text": [
      "Tree number  2\n"
     ]
    },
    {
     "name": "stdout",
     "output_type": "stream",
     "text": [
      "Tree number  3\n"
     ]
    },
    {
     "name": "stdout",
     "output_type": "stream",
     "text": [
      "Tree number  4\n"
     ]
    },
    {
     "name": "stdout",
     "output_type": "stream",
     "text": [
      "Tree number  5\n"
     ]
    },
    {
     "name": "stdout",
     "output_type": "stream",
     "text": [
      "Tree number  6\n"
     ]
    },
    {
     "name": "stdout",
     "output_type": "stream",
     "text": [
      "Tree number  7\n"
     ]
    },
    {
     "name": "stdout",
     "output_type": "stream",
     "text": [
      "Tree number  8\n"
     ]
    },
    {
     "name": "stdout",
     "output_type": "stream",
     "text": [
      "Tree number  9\n"
     ]
    },
    {
     "name": "stdout",
     "output_type": "stream",
     "text": [
      "Tree number  10\n"
     ]
    },
    {
     "name": "stdout",
     "output_type": "stream",
     "text": [
      "Tree number  11\n"
     ]
    },
    {
     "name": "stdout",
     "output_type": "stream",
     "text": [
      "Tree number  12\n"
     ]
    },
    {
     "name": "stdout",
     "output_type": "stream",
     "text": [
      "Tree number  13\n"
     ]
    },
    {
     "name": "stdout",
     "output_type": "stream",
     "text": [
      "Tree number  14\n"
     ]
    },
    {
     "name": "stdout",
     "output_type": "stream",
     "text": [
      "Tree number  15\n"
     ]
    },
    {
     "name": "stdout",
     "output_type": "stream",
     "text": [
      "Tree number  16\n"
     ]
    },
    {
     "name": "stdout",
     "output_type": "stream",
     "text": [
      "Tree number  17\n"
     ]
    },
    {
     "name": "stdout",
     "output_type": "stream",
     "text": [
      "Tree number  18\n"
     ]
    },
    {
     "name": "stdout",
     "output_type": "stream",
     "text": [
      "Tree number  19\n"
     ]
    }
   ],
   "source": [
    "data = np.array(pd.read_csv('/Users/user/PycharmProjects/MLHW1/cancer.csv'))\n",
    "data_tr = data[10:543]\n",
    "data_eval_m = data[0:10]\n",
    "data_eval_b = data[543:553]\n",
    "forest = RandomForest(data_tr, 20, 3)"
   ]
  },
  {
   "cell_type": "code",
   "execution_count": 80,
   "metadata": {},
   "outputs": [
    {
     "name": "stdout",
     "output_type": "stream",
     "text": [
      "B 0.9696048632218845\nB 0.9696048632218845\nM 0.8333333333333334\nM 0.8333333333333334\nB 0.9696048632218845\nB 0.9696048632218845\nM 0.8333333333333334\nB 0.9696048632218845\nB 0.9696048632218845\nB 0.9696048632218845\nB 0.9696048632218845\nB 0.9696048632218845\nM 0.8333333333333334\nB 0.9696048632218845\nB 0.9696048632218845\nB 0.9696048632218845\nM 0.8333333333333334\nB 0.9696048632218845\nB 0.9696048632218845\nB 0.9696048632218845\n('B', 0.9696048632218845)\nB 0.9696048632218845\nB 0.9696048632218845\nM 0.8333333333333334\nM 0.8333333333333334\nB 0.9696048632218845\nB 0.9696048632218845\nM 0.8333333333333334\nB 0.9696048632218845\nB 0.9696048632218845\nB 0.9696048632218845\nB 0.9696048632218845\nB 0.9696048632218845\nM 0.8333333333333334\nB 0.9696048632218845\nB 0.9696048632218845\nB 0.9696048632218845\nM 0.8333333333333334\nB 0.9696048632218845\nB 0.9696048632218845\nB 0.9696048632218845\n('B', 0.9696048632218845)\nB 0.9696048632218845\nB 0.9696048632218845\nM 0.8333333333333334\nM 0.8333333333333334\nB 0.9696048632218845\nB 0.9696048632218845\nM 0.8333333333333334\nB 0.9696048632218845\nB 0.9696048632218845\nB 0.9696048632218845\nB 0.9696048632218845\nB 0.9696048632218845\nM 0.8333333333333334\nB 0.9696048632218845\nB 0.9696048632218845\nB 0.9696048632218845\nM 0.8333333333333334\nB 0.9696048632218845\nB 0.9696048632218845\nB 0.9696048632218845\n('B', 0.9696048632218845)\nB 0.9696048632218845\nB 0.9696048632218845\nM 0.8333333333333334\nM 0.8333333333333334\nB 0.9696048632218845\nB 0.9696048632218845\nB 0.9696048632218845\nB 0.9696048632218845\nB 0.9696048632218845\nB 0.9696048632218845\nB 0.9696048632218845\nB 0.9696048632218845\nM 0.8333333333333334\nB 0.9696048632218845\nB 0.9696048632218845\nB 0.9696048632218845\nM 0.8333333333333334\nB 0.9696048632218845\nB 0.9696048632218845\nB 0.9696048632218845\n('B', 0.9696048632218845)\nB 0.9696048632218845\nB 0.9696048632218845\nM 0.8333333333333334\nM 0.8333333333333334\nB 0.9696048632218845\nB 0.9696048632218845\nB 0.9696048632218845\nB 0.9696048632218845\nB 0.9696048632218845\nB 0.9696048632218845\nB 0.9696048632218845\nB 0.9696048632218845\nM 0.8333333333333334\nB 0.9696048632218845\nB 0.9696048632218845\nB 0.9696048632218845\nM 0.8333333333333334\nB 0.9696048632218845\nB 0.9696048632218845\nB 0.9696048632218845\n('B', 0.9696048632218845)\nB 0.9696048632218845\nB 0.9696048632218845\nM 0.8333333333333334\nM 0.8333333333333334\nB 0.9696048632218845\nB 0.9696048632218845\nM 0.8333333333333334\nB 0.9696048632218845\nB 0.9696048632218845\nB 0.9696048632218845\nB 0.9696048632218845\nB 0.9696048632218845\nM 0.8333333333333334\nB 0.9696048632218845\nB 0.9696048632218845\nB 0.9696048632218845\nM 0.8333333333333334\nB 0.9696048632218845\nB 0.9696048632218845\nB 0.9696048632218845\n('B', 0.9696048632218845)\nB 0.9696048632218845\nB 0.9696048632218845\nM 0.8333333333333334\nM 0.8333333333333334\nB 0.9696048632218845\nB 0.9696048632218845\nM 0.8333333333333334\nB 0.9696048632218845\nB 0.9696048632218845\nB 0.9696048632218845\nB 0.9696048632218845\nB 0.9696048632218845\nM 0.8333333333333334\nB 0.9696048632218845\nB 0.9696048632218845\nB 0.9696048632218845\nM 0.8333333333333334\nB 0.9696048632218845\nB 0.9696048632218845\nB 0.9696048632218845\n('B', 0.9696048632218845)\nB 0.9696048632218845\nB 0.9696048632218845\nM 0.8333333333333334\nM 0.8333333333333334\nB 0.9696048632218845\nB 0.9696048632218845\nM 0.8333333333333334\nB 0.9696048632218845\nB 0.9696048632218845\nB 0.9696048632218845\nB 0.9696048632218845\nB 0.9696048632218845\nM 0.8333333333333334\nB 0.9696048632218845\nB 0.9696048632218845\nB 0.9696048632218845\nM 0.8333333333333334\nB 0.9696048632218845\nB 0.9696048632218845\nB 0.9696048632218845\n('B', 0.9696048632218845)\nB 0.9696048632218845\nB 0.9696048632218845\nM 0.8333333333333334\nM 0.8333333333333334\nB 0.9696048632218845\nB 0.9696048632218845\nM 0.8333333333333334\nB 0.9696048632218845\nB 0.9696048632218845\nB 0.9696048632218845\nB 0.9696048632218845\nB 0.9696048632218845\nM 0.8333333333333334\nB 0.9696048632218845\nB 0.9696048632218845\nB 0.9696048632218845\nM 0.8333333333333334\nB 0.9696048632218845\nB 0.9696048632218845\nB 0.9696048632218845\n('B', 0.9696048632218845)\nB 0.9696048632218845\nB 0.9696048632218845\nM 0.8333333333333334\nM 0.8333333333333334\nB 0.9696048632218845\nB 0.9696048632218845\nM 0.8333333333333334\nB 0.9696048632218845\nB 0.9696048632218845\nB 0.9696048632218845\nB 0.9696048632218845\nB 0.9696048632218845\nM 0.8333333333333334\nB 0.9696048632218845\nB 0.9696048632218845\nB 0.9696048632218845\nM 0.8333333333333334\nB 0.9696048632218845\nB 0.9696048632218845\nB 0.9696048632218845\n('B', 0.9696048632218845)\n"
     ]
    },
    {
     "data": {
      "text/plain": [
       "<Figure size 432x288 with 0 Axes>"
      ]
     },
     "execution_count": 0,
     "metadata": {},
     "output_type": "execute_result"
    }
   ],
   "source": [
    "fig = plt.figure()\n",
    "for elem in data_eval_b:\n",
    "    print (classifyy(forest.forest, elem[1:], forest.feats))"
   ]
  }
 ],
 "metadata": {
  "kernelspec": {
   "display_name": "Python 2",
   "language": "python",
   "name": "python2"
  },
  "language_info": {
   "codemirror_mode": {
    "name": "ipython",
    "version": 2
   },
   "file_extension": ".py",
   "mimetype": "text/x-python",
   "name": "python",
   "nbconvert_exporter": "python",
   "pygments_lexer": "ipython2",
   "version": "2.7.6"
  }
 },
 "nbformat": 4,
 "nbformat_minor": 0
}
