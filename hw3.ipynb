{
 "cells": [
  {
   "cell_type": "markdown",
   "metadata": {
    "collapsed": true
   },
   "source": [
    "Домашнее задание 3."
   ]
  },
  {
   "cell_type": "code",
   "execution_count": 52,
   "metadata": {},
   "outputs": [],
   "source": [
    "import numpy as np\n",
    "import pandas as pd\n",
    "import matplotlib as plt\n",
    "from collections import Counter"
   ]
  },
  {
   "cell_type": "markdown",
   "metadata": {},
   "source": [
    "Задание 3."
   ]
  },
  {
   "cell_type": "code",
   "execution_count": 78,
   "metadata": {},
   "outputs": [],
   "source": [
    "def entropy(classes):\n",
    "    unique_classes = np.unique(classes)\n",
    "    probabilities = np.array([0.1] * len(unique_classes))\n",
    "    i = 0\n",
    "    for cl in unique_classes:\n",
    "        n = len(classes[classes == cl])\n",
    "        probabilities[i] = (n + 0.1 - 0.1) / len(classes)\n",
    "        i += 1\n",
    "    return -np.sum(probabilities * np.log2(probabilities))\n",
    "\n",
    "\n",
    "def gini(classes):\n",
    "    unique_classes = np.unique(classes)\n",
    "    probabilities = np.array([0.1] * len(unique_classes))\n",
    "    i = 0\n",
    "    for cl in unique_classes:\n",
    "        n = len(classes[classes == cl])\n",
    "        probabilities[i] = (n + 0.1 - 0.1) / len(classes)\n",
    "        i += 1\n",
    "    return np.sum(probabilities * (1 - probabilities))\n",
    "\n",
    "\n",
    "def miss_error(classes):\n",
    "    max = Counter(y).most_common(1)[0][1] / len(classes)\n",
    "    return 1 - max\n",
    "\n",
    "\n",
    "impurities = {\"entropy\": entropy, \"gini\": gini, \"miss_error\": miss_error}\n",
    "\n",
    "features = []\n",
    "\n",
    "class Tree:\n",
    "    children = []\n",
    "    isLeaf = True\n",
    "\n",
    "    def __init__(self, data, impurity, max_depth, depth = 0):\n",
    "        features = []\n",
    "        y = data[:, 0]\n",
    "        x = data[:, 1:]\n",
    "        if len(np.unique(y)) == 1:\n",
    "            self.isLeaf = True\n",
    "            self.cl = np.unique(y)[0]\n",
    "        elif depth == max_depth:\n",
    "            self.isLeaf = True\n",
    "            cl = Counter(y).most_common(1)[0][0]\n",
    "            self.cl = cl\n",
    "        else:\n",
    "            maxIG = 0\n",
    "            I_node = impurity(y)\n",
    "            for i in range(len(x[0])):\n",
    "                if i not in features:\n",
    "                    feature_data = x[:, i]\n",
    "                    for j in range(len(feature_data)):\n",
    "                        left = y[feature_data <= feature_data[j]]\n",
    "                        right = y[feature_data > feature_data[j]]\n",
    "                        if len(left) == 0 or len(right) == 0:\n",
    "                            continue\n",
    "                        I_left = impurity(left) * len(left) / len(y)\n",
    "                        I_right = impurity(right) * len(right) / len(y)\n",
    "                        IG = I_node - I_left - I_right\n",
    "                        if maxIG < IG:\n",
    "                            maxIG = IG\n",
    "                            self.sep_feature = i\n",
    "                            self.separator = feature_data[j]\n",
    "            if maxIG > 0:\n",
    "                features.append(self.sep_feature)\n",
    "                self.isLeaf = False\n",
    "                left = np.array([False] * len(data))\n",
    "                right = np.array([False] * len(data))\n",
    "                for i in range(len(y)):\n",
    "                    if data[i][self.sep_feature + 1] <= self.separator:\n",
    "                        left[i] = True\n",
    "                    else:\n",
    "                        right[i] = True\n",
    "                self.children.append(Tree(data[left], impurity, max_depth, depth + 1))\n",
    "                self.children.append(Tree(data[right], impurity, max_depth, depth + 1))\n",
    "            else:\n",
    "                self.isLeaf = True\n",
    "                cl = Counter(y).most_common(1)[0][0]\n",
    "                self.cl = cl\n",
    "\n",
    "    def classify(self, x):\n",
    "        if self.isLeaf:\n",
    "            return self.cl\n",
    "        else:\n",
    "            if x[self.sep_feature] <= self.separator:\n",
    "                return self.children[0].classify(x)\n",
    "            else:\n",
    "                return self.children[1].classify(x)"
   ]
  },
  {
   "cell_type": "code",
   "execution_count": 54,
   "metadata": {},
   "outputs": [],
   "source": [
    "data = np.array(pd.read_csv('/Users/user/PycharmProjects/MLHW1/cancer.csv'))\n"
   ]
  },
  {
   "cell_type": "markdown",
   "metadata": {},
   "source": []
  },
  {
   "cell_type": "code",
   "execution_count": 55,
   "metadata": {},
   "outputs": [
    {
     "name": "stdout",
     "output_type": "stream",
     "text": [
      "Энтропия\ndepth: 1 Accuracy: "
     ]
    },
    {
     "name": "stdout",
     "output_type": "stream",
     "text": [
      "0.9053254437869822\ndepth: 2 Accuracy: "
     ]
    },
    {
     "name": "stdout",
     "output_type": "stream",
     "text": [
      "0.9053254437869822\ndepth: 3 Accuracy: "
     ]
    },
    {
     "name": "stdout",
     "output_type": "stream",
     "text": [
      "0.9112426035502958\ndepth: 4 Accuracy: "
     ]
    },
    {
     "name": "stdout",
     "output_type": "stream",
     "text": [
      "0.9053254437869822\ndepth: 5 Accuracy: "
     ]
    },
    {
     "name": "stdout",
     "output_type": "stream",
     "text": [
      "0.893491124260355\ndepth: 6 Accuracy: "
     ]
    },
    {
     "name": "stdout",
     "output_type": "stream",
     "text": [
      "0.893491124260355\ndepth: 7 Accuracy: "
     ]
    },
    {
     "name": "stdout",
     "output_type": "stream",
     "text": [
      "0.8816568047337278\ndepth: 8 Accuracy: "
     ]
    },
    {
     "name": "stdout",
     "output_type": "stream",
     "text": [
      "0.863905325443787\ndepth: 9 Accuracy: "
     ]
    },
    {
     "name": "stdout",
     "output_type": "stream",
     "text": [
      "0.893491124260355\ndepth: 10 Accuracy: "
     ]
    },
    {
     "name": "stdout",
     "output_type": "stream",
     "text": [
      "0.8994082840236687\n"
     ]
    }
   ],
   "source": [
    "print (\"Энтропия\")\n",
    "for j in range(1, 11):\n",
    "    np.random.shuffle(data)\n",
    "    data_tr = data[:400]\n",
    "    data_eval = data[400:]\n",
    "    print(\"depth: \" + str(j), end = ' Accuracy: ')\n",
    "    desission_tree = Tree(data_tr, impurities['entropy'], j)\n",
    "    y = data_eval[:, 0]\n",
    "    y_received = []\n",
    "    x = data_eval[:, 1:]\n",
    "    for i in range(len(data_eval)):\n",
    "        y_received.append(desission_tree.classify(x[i]))\n",
    "    y_received = np.array(y_received)\n",
    "    k = 0\n",
    "    for i in range(len(y_received)):\n",
    "        if y_received[i] == y[i]:\n",
    "            k += 1\n",
    "    print (k / len(y_received))"
   ]
  },
  {
   "cell_type": "markdown",
   "metadata": {},
   "source": []
  },
  {
   "cell_type": "code",
   "execution_count": 56,
   "metadata": {},
   "outputs": [
    {
     "name": "stdout",
     "output_type": "stream",
     "text": [
      "Джини\ndepth: 1 Accuracy: "
     ]
    },
    {
     "name": "stdout",
     "output_type": "stream",
     "text": [
      "0.9112426035502958\ndepth: 2 Accuracy: "
     ]
    },
    {
     "name": "stdout",
     "output_type": "stream",
     "text": [
      "0.8816568047337278\ndepth: 3 Accuracy: "
     ]
    },
    {
     "name": "stdout",
     "output_type": "stream",
     "text": [
      "0.9053254437869822\ndepth: 4 Accuracy: "
     ]
    },
    {
     "name": "stdout",
     "output_type": "stream",
     "text": [
      "0.9289940828402367\ndepth: 5 Accuracy: "
     ]
    },
    {
     "name": "stdout",
     "output_type": "stream",
     "text": [
      "0.8875739644970414\ndepth: 6 Accuracy: "
     ]
    },
    {
     "name": "stdout",
     "output_type": "stream",
     "text": [
      "0.8875739644970414\ndepth: 7 Accuracy: "
     ]
    },
    {
     "name": "stdout",
     "output_type": "stream",
     "text": [
      "0.8994082840236687\ndepth: 8 Accuracy: "
     ]
    },
    {
     "name": "stdout",
     "output_type": "stream",
     "text": [
      "0.9171597633136095\ndepth: 9 Accuracy: "
     ]
    },
    {
     "name": "stdout",
     "output_type": "stream",
     "text": [
      "0.8757396449704142\ndepth: 10 Accuracy: "
     ]
    },
    {
     "name": "stdout",
     "output_type": "stream",
     "text": [
      "0.8875739644970414\n"
     ]
    }
   ],
   "source": [
    "print (\"Джини\")\n",
    "for j in range(1, 11):\n",
    "    np.random.shuffle(data)\n",
    "    data_tr = data[:400]\n",
    "    data_eval = data[400:]\n",
    "    print(\"depth: \" + str(j), end = ' Accuracy: ')\n",
    "    decision_tree = Tree(data_tr, impurities['gini'], j)\n",
    "    y = data_eval[:, 0]\n",
    "    y_received = []\n",
    "    x = data_eval[:, 1:]\n",
    "    for i in range(len(data_eval)):\n",
    "        y_received.append(decision_tree.classify(x[i]))\n",
    "    y_received = np.array(y_received)\n",
    "    k = 0\n",
    "    for i in range(len(y_received)):\n",
    "        if y_received[i] == y[i]:\n",
    "            k += 1\n",
    "    print (k / len(y_received))\n",
    "    node = None"
   ]
  },
  {
   "cell_type": "markdown",
   "metadata": {},
   "source": []
  },
  {
   "cell_type": "code",
   "execution_count": 66,
   "metadata": {},
   "outputs": [
    {
     "name": "stdout",
     "output_type": "stream",
     "text": [
      "Misclassification error\ndepth: 1 Accuracy: "
     ]
    },
    {
     "name": "stdout",
     "output_type": "stream",
     "text": [
      "0.9053254437869822\ndepth: 2 Accuracy: "
     ]
    },
    {
     "name": "stdout",
     "output_type": "stream",
     "text": [
      "0.9112426035502958\ndepth: 3 Accuracy: "
     ]
    },
    {
     "name": "stdout",
     "output_type": "stream",
     "text": [
      "0.893491124260355\ndepth: 4 Accuracy: "
     ]
    },
    {
     "name": "stdout",
     "output_type": "stream",
     "text": [
      "0.8816568047337278\ndepth: 5 Accuracy: "
     ]
    },
    {
     "name": "stdout",
     "output_type": "stream",
     "text": [
      "0.893491124260355\ndepth: 6 Accuracy: "
     ]
    },
    {
     "name": "stdout",
     "output_type": "stream",
     "text": [
      "0.9349112426035503\ndepth: 7 Accuracy: "
     ]
    },
    {
     "name": "stdout",
     "output_type": "stream",
     "text": [
      "0.893491124260355\ndepth: 8 Accuracy: "
     ]
    },
    {
     "name": "stdout",
     "output_type": "stream",
     "text": [
      "0.893491124260355\ndepth: 9 Accuracy: "
     ]
    },
    {
     "name": "stdout",
     "output_type": "stream",
     "text": [
      "0.9112426035502958\ndepth: 10 Accuracy: "
     ]
    },
    {
     "name": "stdout",
     "output_type": "stream",
     "text": [
      "0.9171597633136095\n"
     ]
    }
   ],
   "source": [
    "print (\"Misclassification error\")\n",
    "for j in range(1, 11):\n",
    "    np.random.shuffle(data)\n",
    "    data_tr = data[:400]\n",
    "    data_eval = data[400:]\n",
    "    print(\"depth: \" + str(j), end = ' Accuracy: ')\n",
    "    desission_tree = Tree(data_tr, impurities['miss_error'], j)\n",
    "    y = data_eval[:, 0]\n",
    "    y_received = []\n",
    "    x = data_eval[:, 1:]\n",
    "    for i in range(len(data_eval)):\n",
    "        y_received.append(desission_tree.classify(x[i]))\n",
    "    y_received = np.array(y_received)\n",
    "    k = 0\n",
    "    for i in range(len(y_received)):\n",
    "        if y_received[i] == y[i]:\n",
    "            k += 1\n",
    "    print (k / len(y_received))\n",
    "    node = None"
   ]
  },
  {
   "cell_type": "markdown",
   "metadata": {},
   "source": []
  },
  {
   "cell_type": "code",
   "execution_count": 67,
   "metadata": {},
   "outputs": [],
   "source": [
    "data = np.array(pd.read_csv('/Users/user/PycharmProjects/MLHW1/spam.csv'))\n",
    "y = data[:, len(data[0]) - 1]\n",
    "x =  data[:, :len(data[0]) - 1]\n",
    "data = np.column_stack((y, x))"
   ]
  },
  {
   "cell_type": "code",
   "execution_count": 76,
   "metadata": {},
   "outputs": [
    {
     "name": "stdout",
     "output_type": "stream",
     "text": [
      "Энтропия\ndepth: 1 Accuracy: "
     ]
    },
    {
     "name": "stdout",
     "output_type": "stream",
     "text": [
      "0.7825\ndepth: 2 Accuracy: "
     ]
    },
    {
     "name": "stdout",
     "output_type": "stream",
     "text": [
      "0.785\ndepth: 3 Accuracy: "
     ]
    },
    {
     "name": "stdout",
     "output_type": "stream",
     "text": [
      "0.77\ndepth: 4 Accuracy: "
     ]
    },
    {
     "name": "stdout",
     "output_type": "stream",
     "text": [
      "0.78\ndepth: 5 Accuracy: "
     ]
    },
    {
     "name": "stdout",
     "output_type": "stream",
     "text": [
      "0.7775\ndepth: 6 Accuracy: "
     ]
    },
    {
     "name": "stdout",
     "output_type": "stream",
     "text": [
      "0.765\ndepth: 7 Accuracy: "
     ]
    },
    {
     "name": "stdout",
     "output_type": "stream",
     "text": [
      "0.78\ndepth: 8 Accuracy: "
     ]
    },
    {
     "name": "stdout",
     "output_type": "stream",
     "text": [
      "0.7925\ndepth: 9 Accuracy: "
     ]
    },
    {
     "name": "stdout",
     "output_type": "stream",
     "text": [
      "0.7575\ndepth: 10 Accuracy: "
     ]
    },
    {
     "name": "stdout",
     "output_type": "stream",
     "text": [
      "0.7875\n"
     ]
    }
   ],
   "source": [
    "print (\"Энтропия\")\n",
    "for j in range(1, 11):\n",
    "    np.random.shuffle(data)\n",
    "    data_tr = data[400:]\n",
    "    data_eval = data[:400]\n",
    "    print(\"depth: \" + str(j), end = ' Accuracy: ')\n",
    "    desission_tree = Tree(data_tr, impurities['entropy'], j)\n",
    "    y = data_eval[:, 0]\n",
    "    y_received = []\n",
    "    x = data_eval[:, 1:]\n",
    "    for i in range(len(data_eval)):\n",
    "        y_received.append(desission_tree.classify(x[i]))\n",
    "    y_received = np.array(y_received)\n",
    "    k = 0\n",
    "    for i in range(len(y_received)):\n",
    "        if y_received[i] == y[i]:\n",
    "            k += 1\n",
    "    print (k / len(y_received))"
   ]
  },
  {
   "cell_type": "markdown",
   "metadata": {},
   "source": []
  },
  {
   "cell_type": "code",
   "execution_count": 79,
   "metadata": {},
   "outputs": [
    {
     "name": "stdout",
     "output_type": "stream",
     "text": [
      "Джини\ndepth: 1 Accuracy: "
     ]
    },
    {
     "name": "stdout",
     "output_type": "stream",
     "text": [
      "0.7875\ndepth: 2 Accuracy: "
     ]
    },
    {
     "name": "stdout",
     "output_type": "stream",
     "text": [
      "0.8225\ndepth: 3 Accuracy: "
     ]
    },
    {
     "name": "stdout",
     "output_type": "stream",
     "text": [
      "0.8\ndepth: 4 Accuracy: "
     ]
    },
    {
     "name": "stdout",
     "output_type": "stream",
     "text": [
      "0.7725\ndepth: 5 Accuracy: "
     ]
    },
    {
     "name": "stdout",
     "output_type": "stream",
     "text": [
      "0.805\ndepth: 6 Accuracy: "
     ]
    },
    {
     "name": "stdout",
     "output_type": "stream",
     "text": [
      "0.76\ndepth: 7 Accuracy: "
     ]
    },
    {
     "name": "stdout",
     "output_type": "stream",
     "text": [
      "0.7975\ndepth: 8 Accuracy: "
     ]
    },
    {
     "name": "stdout",
     "output_type": "stream",
     "text": [
      "0.7725\ndepth: 9 Accuracy: "
     ]
    },
    {
     "name": "stdout",
     "output_type": "stream",
     "text": [
      "0.75\ndepth: 10 Accuracy: "
     ]
    }
   ],
   "source": [
    "print (\"Джини\")\n",
    "for j in range(1, 11):\n",
    "    np.random.shuffle(data)\n",
    "    data_tr = data[400:]\n",
    "    data_eval = data[:400]\n",
    "    print(\"depth: \" + str(j), end = ' Accuracy: ')\n",
    "    decision_tree = Tree(data_tr, impurities['gini'], j)\n",
    "    y = data_eval[:, 0]\n",
    "    y_received = []\n",
    "    x = data_eval[:, 1:]\n",
    "    for i in range(len(data_eval)):\n",
    "        y_received.append(decision_tree.classify(x[i]))\n",
    "    y_received = np.array(y_received)\n",
    "    k = 0\n",
    "    for i in range(len(y_received)):\n",
    "        if y_received[i] == y[i]:\n",
    "            k += 1\n",
    "    print (k / len(y_received))\n"
   ]
  },
  {
   "cell_type": "code",
   "execution_count": null,
   "metadata": {},
   "outputs": [],
   "source": [
    "print (\"Misclassification error\")\n",
    "for j in range(1, 11):\n",
    "    np.random.shuffle(data)\n",
    "    data_tr = data[:400]\n",
    "    data_eval = data[400:]\n",
    "    print(\"depth: \" + str(j), end = ' Accuracy: ')\n",
    "    desission_tree = Tree(data_tr, impurities['miss_error'], j)\n",
    "    y = data_eval[:, 0]\n",
    "    y_received = []\n",
    "    x = data_eval[:, 1:]\n",
    "    for i in range(len(data_eval)):\n",
    "        y_received.append(desission_tree.classify(x[i]))\n",
    "    y_received = np.array(y_received)\n",
    "    k = 0\n",
    "    for i in range(len(y_received)):\n",
    "        if y_received[i] == y[i]:\n",
    "            k += 1\n",
    "    print (k / len(y_received))\n",
    "    node = None"
   ]
  }
 ],
 "metadata": {
  "kernelspec": {
   "display_name": "Python 2",
   "language": "python",
   "name": "python2"
  },
  "language_info": {
   "codemirror_mode": {
    "name": "ipython",
    "version": 2
   },
   "file_extension": ".py",
   "mimetype": "text/x-python",
   "name": "python",
   "nbconvert_exporter": "python",
   "pygments_lexer": "ipython2",
   "version": "2.7.6"
  }
 },
 "nbformat": 4,
 "nbformat_minor": 0
}
