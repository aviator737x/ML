{
 "cells": [
  {
   "cell_type": "code",
   "execution_count": 246,
   "metadata": {},
   "outputs": [],
   "source": [
    "import warnings\n",
    "warnings.filterwarnings('ignore')\n",
    "import numpy as np\n",
    "import pandas as pd\n",
    "import matplotlib.pyplot as plt\n",
    "from sklearn.model_selection import train_test_split\n",
    "from sklearn.preprocessing import MinMaxScaler\n",
    "import os\n",
    "import torch\n",
    "from torch.utils.data import TensorDataset, DataLoader\n",
    "import torch.nn as nn\n",
    "import torch.nn.functional as F\n",
    "import torch.optim as optim"
   ]
  },
  {
   "cell_type": "markdown",
   "metadata": {},
   "source": [
    "Задание 1"
   ]
  },
  {
   "cell_type": "code",
   "execution_count": 247,
   "metadata": {},
   "outputs": [],
   "source": [
    "cancer_data = pd.read_csv('cancer.csv')\n",
    "cancer_label = cancer_data['label']\n",
    "cancer_x = cancer_data.drop(['label'], axis=1).values\n",
    "cancer_x = MinMaxScaler().fit_transform(cancer_x)\n",
    "cancer_x = np.column_stack((cancer_x, np.array([1] * len(cancer_x))))\n",
    "cancer_label = np.array([1 if label == 'M' else 0 for label in cancer_label.values])\n",
    "cancer_x_train, cancer_x_eval, cancer_label_train, cancer_label_eval = train_test_split(cancer_x, cancer_label, train_size=0.8)"
   ]
  },
  {
   "cell_type": "code",
   "execution_count": 248,
   "metadata": {},
   "outputs": [],
   "source": [
    "def classify(w, X):\n",
    "    classes = []\n",
    "    for x in X:\n",
    "        pr = w @ x\n",
    "        if pr > 0.5:\n",
    "            classes.append(1)\n",
    "        else:\n",
    "            classes.append(0)\n",
    "    return np.array(classes)\n",
    "\n",
    "\n",
    "def grad(w, data):\n",
    "    s = np.zeros(len(data[0][1:]))\n",
    "    N = 0\n",
    "    for vec in data:\n",
    "        x = vec[1:]\n",
    "        y = vec[0]\n",
    "        s += y / (1 + np.exp(y * (w @ x))) * x\n",
    "        N += 1\n",
    "    return (-1) * s / N"
   ]
  },
  {
   "cell_type": "code",
   "execution_count": 249,
   "metadata": {},
   "outputs": [],
   "source": [
    "accuracy = []\n",
    "inds = []\n",
    "batch_size = 25\n",
    "w = np.zeros(len(cancer_x_train[0]))\n",
    "classes = classify(w, cancer_x_eval)\n",
    "biggest_acc = len(classes[classes == cancer_label_eval]) / len(classes)\n",
    "best = w\n",
    "prev = w\n",
    "k = 0\n",
    "ind = 0\n",
    "flag = False\n",
    "while True:\n",
    "    prev = best\n",
    "    bigbigacc = biggest_acc\n",
    "    for i in range(0, len(cancer_x_train), batch_size):\n",
    "        X = cancer_x_train[i:i+batch_size]\n",
    "        Y = cancer_label_train[i:i+batch_size]\n",
    "        w = w - 0.01 * grad(w, np.column_stack((Y, X)))\n",
    "        classes = classify(w, cancer_x_eval)\n",
    "        acc = len(classes[classes == cancer_label_eval]) / len(classes)\n",
    "        accuracy.append(acc)\n",
    "        inds.append(ind)\n",
    "        ind += 1\n",
    "        if acc <= biggest_acc - 0.001:\n",
    "            flag = True\n",
    "            break\n",
    "        else:\n",
    "            best = w\n",
    "            biggest_acc = acc\n",
    "    if flag:\n",
    "        break\n",
    "            "
   ]
  },
  {
   "cell_type": "code",
   "execution_count": 250,
   "metadata": {},
   "outputs": [
    {
     "data": {
      "text/plain": [
       "<matplotlib.collections.PathCollection at 0x1a3edbc2b0>"
      ]
     },
     "execution_count": 250,
     "metadata": {},
     "output_type": "execute_result"
    },
    {
     "data": {
      "image/png": "[encoded data removed]",
      "text/plain": [
       "<Figure size 432x288 with 1 Axes>"
      ]
     },
     "metadata": {},
     "output_type": "display_data"
    }
   ],
   "source": [
    "plt.scatter(inds, accuracy)"
   ]
  },
  {
   "cell_type": "code",
   "execution_count": 251,
   "metadata": {},
   "outputs": [],
   "source": [
    "spam_data = pd.read_csv('spam.csv')\n",
    "spam_label = spam_data['label']\n",
    "spam_x = spam_data.drop(['label'], axis=1).values\n",
    "spam_x = MinMaxScaler().fit_transform(spam_x)\n",
    "spam_x = np.column_stack((spam_x, np.array([1] * len(spam_x))))\n",
    "#cancer_label = np.array([1 if label == 'M' else 0 for label in cancer_label.values])\n",
    "spam_x_train, spam_x_eval, spam_label_train, spam_label_eval = train_test_split(spam_x, spam_label, train_size=0.8)"
   ]
  },
  {
   "cell_type": "code",
   "execution_count": 252,
   "metadata": {},
   "outputs": [],
   "source": [
    "accuracy = []\n",
    "inds = []\n",
    "batch_size = 200\n",
    "w = np.zeros(len(spam_x_train[0]))\n",
    "classes = classify(w, spam_x_eval)\n",
    "biggest_acc = len(classes[classes == spam_label_eval]) / len(classes)\n",
    "best = w\n",
    "prev = w\n",
    "k = 0\n",
    "ind = 0\n",
    "flag = False\n",
    "while True:\n",
    "    prev = best\n",
    "    bigbigacc = biggest_acc\n",
    "    for i in range(0, len(spam_x_train), batch_size):\n",
    "        X = spam_x_train[i:i+batch_size]\n",
    "        Y = spam_label_train[i:i+batch_size]\n",
    "        w = w - 0.01 * grad(w, np.column_stack((Y, X)))\n",
    "        classes = classify(w, spam_x_eval)\n",
    "        acc = len(classes[classes == spam_label_eval]) / len(classes)\n",
    "        accuracy.append(acc)\n",
    "        inds.append(ind)\n",
    "        ind += 1\n",
    "        if acc <= biggest_acc - 0.01:\n",
    "            flag = True\n",
    "            break\n",
    "        else:\n",
    "            best = w\n",
    "            biggest_acc = acc\n",
    "    if flag:\n",
    "        break"
   ]
  },
  {
   "cell_type": "code",
   "execution_count": 253,
   "metadata": {},
   "outputs": [
    {
     "data": {
      "text/plain": [
       "<matplotlib.collections.PathCollection at 0x1a3e93beb8>"
      ]
     },
     "execution_count": 253,
     "metadata": {},
     "output_type": "execute_result"
    },
    {
     "data": {
      "image/png": "[encoded data removed]",
      "text/plain": [
       "<Figure size 432x288 with 1 Axes>"
      ]
     },
     "metadata": {},
     "output_type": "display_data"
    }
   ],
   "source": [
    "plt.scatter(inds, accuracy)"
   ]
  },
  {
   "cell_type": "markdown",
   "metadata": {},
   "source": [
    "Задание 2"
   ]
  },
  {
   "cell_type": "code",
   "execution_count": 254,
   "metadata": {},
   "outputs": [
    {
     "name": "stdout",
     "output_type": "stream",
     "text": [
      "(10000, 785)\n"
     ]
    },
    {
     "name": "stdout",
     "output_type": "stream",
     "text": [
      "(10000, 1, 28, 28)\n"
     ]
    }
   ],
   "source": [
    "mnist_data = pd.read_csv('mnist.csv')\n",
    "print(mnist_data.shape)\n",
    "mnist_labels = mnist_data['label']\n",
    "mnist_x = mnist_data.drop(['label'], axis=1).values\n",
    "new_mnist_x = []\n",
    "for x in mnist_x:\n",
    "    matr = []\n",
    "    k = 0\n",
    "    for i in range(28):\n",
    "        a = []\n",
    "        for j in range(28):\n",
    "            a.append(x[k])\n",
    "            k += 1\n",
    "        matr.append(a)\n",
    "    new_mnist_x.append([matr])\n",
    "mnist_x = np.array(new_mnist_x)\n",
    "print(mnist_x.shape)"
   ]
  },
  {
   "cell_type": "code",
   "execution_count": 255,
   "metadata": {},
   "outputs": [
    {
     "data": {
      "text/plain": [
       "'/Users/user/PycharmProjects/MLHW1'"
      ]
     },
     "execution_count": 255,
     "metadata": {},
     "output_type": "execute_result"
    }
   ],
   "source": [
    " os.getcwd()\n",
    " #os.chdir('../')\n",
    "# os.getcwd()\n",
    "#os.chdir('./notMNIST_small')"
   ]
  },
  {
   "cell_type": "code",
   "execution_count": 269,
   "metadata": {},
   "outputs": [
    {
     "name": "stdout",
     "output_type": "stream",
     "text": [
      "I\n"
     ]
    },
    {
     "name": "stdout",
     "output_type": "stream",
     "text": [
      "G\n"
     ]
    },
    {
     "name": "stdout",
     "output_type": "stream",
     "text": [
      "A\n"
     ]
    },
    {
     "name": "stdout",
     "output_type": "stream",
     "text": [
      "F\n"
     ]
    },
    {
     "name": "stdout",
     "output_type": "stream",
     "text": [
      "H\n"
     ]
    },
    {
     "name": "stdout",
     "output_type": "stream",
     "text": [
      "J\n"
     ]
    },
    {
     "name": "stdout",
     "output_type": "stream",
     "text": [
      "C\n"
     ]
    },
    {
     "name": "stdout",
     "output_type": "stream",
     "text": [
      "D\n"
     ]
    },
    {
     "name": "stdout",
     "output_type": "stream",
     "text": [
      "E\n"
     ]
    },
    {
     "name": "stdout",
     "output_type": "stream",
     "text": [
      "B\n"
     ]
    }
   ],
   "source": [
    "notMNIST_small_labels = []\n",
    "notMNIST_small_x = []\n",
    "cur_label = 'A'\n",
    "for path in os.listdir('notMNIST_small'):\n",
    "    cur_label = path\n",
    "    print(cur_label)\n",
    "    for file in os.listdir('notMNIST_small' + '/' + path):\n",
    "        if os.path.getsize('notMNIST_small' + '/' + path + '/' + file) != 0:\n",
    "            notMNIST_small_x.append([plt.imread('notMNIST_small' + '/' + path + '/' + file)])\n",
    "            notMNIST_small_labels.append(cur_label)\n",
    "notMNIST_small_labels = np.array(notMNIST_small_labels)\n",
    "notMNIST_small_x = np.array(notMNIST_small_x)"
   ]
  },
  {
   "cell_type": "code",
   "execution_count": 257,
   "metadata": {},
   "outputs": [
    {
     "name": "stdout",
     "output_type": "stream",
     "text": [
      "(18724, 28, 28)\n"
     ]
    }
   ],
   "source": [
    "print(notMNIST_small_x.shape)"
   ]
  },
  {
   "cell_type": "markdown",
   "metadata": {},
   "source": [
    "Задание 3"
   ]
  },
  {
   "cell_type": "code",
   "execution_count": 258,
   "metadata": {},
   "outputs": [],
   "source": [
    "mnist_x_train, mnist_x_eval, mnist_labels_train, mnist_labels_eval = train_test_split(mnist_x, mnist_labels, train_size=0.8)"
   ]
  },
  {
   "cell_type": "code",
   "execution_count": 259,
   "metadata": {},
   "outputs": [],
   "source": [
    "#https://python-scripts.com/build-neural-network\n",
    "class Net(nn.Module):\n",
    "    def __init__(self, action):\n",
    "        super(Net, self).__init__() \n",
    "        self.convolution1 = nn.Conv2d(1,8,3)\n",
    "        self.convolution2 = nn.Conv2d(8,8,3)\n",
    "        self.convolution3 = nn.Conv2d(8,8,3)\n",
    "        self.fc1 = nn.Linear(8 * 22 * 22, 64)  # 1й связанный слой\n",
    "        self.action = action                         # Нелинейный слой\n",
    "        self.fc2 = nn.Linear(64, 10) # 2й связанный слой\n",
    "    \n",
    "    def forward(self, x):                              # Передний пропуск: складывание каждого слоя вместе\n",
    "        x = self.action(self.convolution1(x))\n",
    "        x = self.action(self.convolution2(x))\n",
    "        x = self.action(self.convolution3(x))\n",
    "        x = x.view(-1, 8 * 22 * 22)\n",
    "        x = self.action(self.fc1(x))\n",
    "        x = self.fc2(x)\n",
    "        return x"
   ]
  },
  {
   "cell_type": "code",
   "execution_count": 260,
   "metadata": {},
   "outputs": [],
   "source": [
    "t1 = []\n",
    "for x in mnist_x_train:\n",
    "    t1.append(torch.Tensor(x))\n",
    "trl = DataLoader(TensorDataset(torch.stack(t1), torch.Tensor(mnist_labels_train).long()), batch_size=4,shuffle=True )"
   ]
  },
  {
   "cell_type": "code",
   "execution_count": 261,
   "metadata": {},
   "outputs": [],
   "source": [
    "t2 = []\n",
    "for x in mnist_x_eval:\n",
    "    t2.append(torch.Tensor(x))\n",
    "evl = DataLoader(TensorDataset(torch.stack(t2), torch.Tensor(np.array(mnist_labels_eval)).long()), batch_size=5,shuffle=True )"
   ]
  },
  {
   "cell_type": "code",
   "execution_count": 280,
   "metadata": {},
   "outputs": [
    {
     "name": "stdout",
     "output_type": "stream",
     "text": [
      "relu\n"
     ]
    },
    {
     "name": "stdout",
     "output_type": "stream",
     "text": [
      "[2, 100] loss 1.5842681747674943\n"
     ]
    },
    {
     "name": "stdout",
     "output_type": "stream",
     "text": [
      "[2, 200] loss 0.8624229374527931\n"
     ]
    },
    {
     "name": "stdout",
     "output_type": "stream",
     "text": [
      "[2, 300] loss 0.8293401351571084\n"
     ]
    },
    {
     "name": "stdout",
     "output_type": "stream",
     "text": [
      "[2, 400] loss 0.6259609788656235\n"
     ]
    },
    {
     "name": "stdout",
     "output_type": "stream",
     "text": [
      "[2, 500] loss 0.4376927733421326\n"
     ]
    },
    {
     "name": "stdout",
     "output_type": "stream",
     "text": [
      "[2, 600] loss 0.5092439466714859\n"
     ]
    },
    {
     "name": "stdout",
     "output_type": "stream",
     "text": [
      "[2, 700] loss 0.3984462648630142\n"
     ]
    },
    {
     "name": "stdout",
     "output_type": "stream",
     "text": [
      "[2, 800] loss 0.3506566536426544\n"
     ]
    },
    {
     "name": "stdout",
     "output_type": "stream",
     "text": [
      "[2, 900] loss 0.3349562433362007\n"
     ]
    },
    {
     "name": "stdout",
     "output_type": "stream",
     "text": [
      "[2, 1000] loss 0.37261568635702136\n"
     ]
    },
    {
     "name": "stdout",
     "output_type": "stream",
     "text": [
      "[2, 1100] loss 0.341104109287262\n"
     ]
    },
    {
     "name": "stdout",
     "output_type": "stream",
     "text": [
      "[2, 1200] loss 0.2643351539969444\n"
     ]
    },
    {
     "name": "stdout",
     "output_type": "stream",
     "text": [
      "[2, 1300] loss 0.3179240733385086\n"
     ]
    },
    {
     "name": "stdout",
     "output_type": "stream",
     "text": [
      "[2, 1400] loss 0.32115470051765443\n"
     ]
    },
    {
     "name": "stdout",
     "output_type": "stream",
     "text": [
      "[2, 1500] loss 0.1929790759086609\n"
     ]
    },
    {
     "name": "stdout",
     "output_type": "stream",
     "text": [
      "[2, 1600] loss 0.22604171425104141\n"
     ]
    },
    {
     "name": "stdout",
     "output_type": "stream",
     "text": [
      "[2, 1700] loss 0.2504437041282654\n"
     ]
    },
    {
     "name": "stdout",
     "output_type": "stream",
     "text": [
      "[2, 1800] loss 0.2716637718677521\n"
     ]
    },
    {
     "name": "stdout",
     "output_type": "stream",
     "text": [
      "[2, 1900] loss 0.25588771641254426\n"
     ]
    },
    {
     "name": "stdout",
     "output_type": "stream",
     "text": [
      "[2, 2000] loss 0.15115087658166884\n"
     ]
    },
    {
     "name": "stdout",
     "output_type": "stream",
     "text": [
      "accuracy 0.942\n"
     ]
    },
    {
     "name": "stdout",
     "output_type": "stream",
     "text": [
      "[2, 100] loss 0.3643702772259712\n"
     ]
    },
    {
     "name": "stdout",
     "output_type": "stream",
     "text": [
      "[2, 200] loss 0.27668907105922697\n"
     ]
    },
    {
     "name": "stdout",
     "output_type": "stream",
     "text": [
      "[2, 300] loss 0.2582950133085251\n"
     ]
    },
    {
     "name": "stdout",
     "output_type": "stream",
     "text": [
      "[2, 400] loss 0.2514592131972313\n"
     ]
    },
    {
     "name": "stdout",
     "output_type": "stream",
     "text": [
      "[2, 500] loss 0.18047883570194245\n"
     ]
    },
    {
     "name": "stdout",
     "output_type": "stream",
     "text": [
      "[2, 600] loss 0.16991387248039247\n"
     ]
    },
    {
     "name": "stdout",
     "output_type": "stream",
     "text": [
      "[2, 700] loss 0.15001598566770555\n"
     ]
    },
    {
     "name": "stdout",
     "output_type": "stream",
     "text": [
      "[2, 800] loss 0.2277452278137207\n"
     ]
    },
    {
     "name": "stdout",
     "output_type": "stream",
     "text": [
      "[2, 900] loss 0.17617300748825074\n"
     ]
    },
    {
     "name": "stdout",
     "output_type": "stream",
     "text": [
      "[2, 1000] loss 0.12736843883991242\n"
     ]
    },
    {
     "name": "stdout",
     "output_type": "stream",
     "text": [
      "[2, 1100] loss 0.17901306211948395\n"
     ]
    },
    {
     "name": "stdout",
     "output_type": "stream",
     "text": [
      "[2, 1200] loss 0.17946837604045868\n"
     ]
    },
    {
     "name": "stdout",
     "output_type": "stream",
     "text": [
      "[2, 1300] loss 0.2373565450310707\n"
     ]
    },
    {
     "name": "stdout",
     "output_type": "stream",
     "text": [
      "[2, 1400] loss 0.15218584656715392\n"
     ]
    },
    {
     "name": "stdout",
     "output_type": "stream",
     "text": [
      "[2, 1500] loss 0.15746353566646576\n"
     ]
    },
    {
     "name": "stdout",
     "output_type": "stream",
     "text": [
      "[2, 1600] loss 0.17503441303968428\n"
     ]
    },
    {
     "name": "stdout",
     "output_type": "stream",
     "text": [
      "[2, 1700] loss 0.16995774269104003\n"
     ]
    },
    {
     "name": "stdout",
     "output_type": "stream",
     "text": [
      "[2, 1800] loss 0.17412167638540268\n"
     ]
    },
    {
     "name": "stdout",
     "output_type": "stream",
     "text": [
      "[2, 1900] loss 0.1594034445285797\n"
     ]
    },
    {
     "name": "stdout",
     "output_type": "stream",
     "text": [
      "[2, 2000] loss 0.15357474654912948\n"
     ]
    },
    {
     "name": "stdout",
     "output_type": "stream",
     "text": [
      "accuracy 0.9575\n"
     ]
    }
   ],
   "source": [
    "print('relu')\n",
    "neural_net1 = Net(F.relu)\n",
    "epoch = 2\n",
    "optimr = optim.SGD(neural_net1.parameters(), lr=0.001, momentum=0.9)\n",
    "for i in range(epoch):\n",
    "    rl = 0\n",
    "    for k, t in enumerate(trl, 0):\n",
    "        xs, ls = t\n",
    "        optimr.zero_grad()\n",
    "        outs = neural_net1(xs)\n",
    "        loss = nn.CrossEntropyLoss()(outs, ls.view(-1))\n",
    "        loss.backward()\n",
    "        optimr.step()\n",
    "        rl += loss.item()\n",
    "        if (k + 1) % 100 == 0:\n",
    "            print(\"[\" + str(2) + \", \" +  str(k + 1) + \"] loss \" + str(rl / 100) )\n",
    "            rl = 0.0\n",
    "    tpfs = 0.0\n",
    "    N = 0\n",
    "    with torch.no_grad():\n",
    "        for t in evl:\n",
    "            xs, labels = t\n",
    "            outs = neural_net1(xs)\n",
    "            pr = torch.max(outs.data, 1)[1]\n",
    "            for j in range(pr.size(0)):\n",
    "                N += 1\n",
    "                if pr[j] == labels[j]:\n",
    "                    tpfs += 1\n",
    "    print(\"accuracy \" + str(tpfs / N))"
   ]
  },
  {
   "cell_type": "code",
   "execution_count": 281,
   "metadata": {},
   "outputs": [
    {
     "name": "stdout",
     "output_type": "stream",
     "text": [
      "tanh\n"
     ]
    },
    {
     "name": "stdout",
     "output_type": "stream",
     "text": [
      "[2, 100] loss 2.0721581399440767\n"
     ]
    },
    {
     "name": "stdout",
     "output_type": "stream",
     "text": [
      "[2, 200] loss 1.0653016877174377\n"
     ]
    },
    {
     "name": "stdout",
     "output_type": "stream",
     "text": [
      "[2, 300] loss 0.6516395074129104\n"
     ]
    },
    {
     "name": "stdout",
     "output_type": "stream",
     "text": [
      "[2, 400] loss 0.5749579080939293\n"
     ]
    },
    {
     "name": "stdout",
     "output_type": "stream",
     "text": [
      "[2, 500] loss 0.5087928104400635\n"
     ]
    },
    {
     "name": "stdout",
     "output_type": "stream",
     "text": [
      "[2, 600] loss 0.4474393460154533\n"
     ]
    },
    {
     "name": "stdout",
     "output_type": "stream",
     "text": [
      "[2, 700] loss 0.39703633219003676\n"
     ]
    },
    {
     "name": "stdout",
     "output_type": "stream",
     "text": [
      "[2, 800] loss 0.38814963430166244\n"
     ]
    },
    {
     "name": "stdout",
     "output_type": "stream",
     "text": [
      "[2, 900] loss 0.3808062508702278\n"
     ]
    },
    {
     "name": "stdout",
     "output_type": "stream",
     "text": [
      "[2, 1000] loss 0.3368044704198837\n"
     ]
    },
    {
     "name": "stdout",
     "output_type": "stream",
     "text": [
      "[2, 1100] loss 0.3579221671819687\n"
     ]
    },
    {
     "name": "stdout",
     "output_type": "stream",
     "text": [
      "[2, 1200] loss 0.3440120470523834\n"
     ]
    },
    {
     "name": "stdout",
     "output_type": "stream",
     "text": [
      "[2, 1300] loss 0.2816291564702988\n"
     ]
    },
    {
     "name": "stdout",
     "output_type": "stream",
     "text": [
      "[2, 1400] loss 0.3502041038870811\n"
     ]
    },
    {
     "name": "stdout",
     "output_type": "stream",
     "text": [
      "[2, 1500] loss 0.3434672370553017\n"
     ]
    },
    {
     "name": "stdout",
     "output_type": "stream",
     "text": [
      "[2, 1600] loss 0.31604379951953887\n"
     ]
    },
    {
     "name": "stdout",
     "output_type": "stream",
     "text": [
      "[2, 1700] loss 0.30847554802894595\n"
     ]
    },
    {
     "name": "stdout",
     "output_type": "stream",
     "text": [
      "[2, 1800] loss 0.25398883044719694\n"
     ]
    },
    {
     "name": "stdout",
     "output_type": "stream",
     "text": [
      "[2, 1900] loss 0.23079733908176422\n"
     ]
    },
    {
     "name": "stdout",
     "output_type": "stream",
     "text": [
      "[2, 2000] loss 0.22391043305397035\n"
     ]
    },
    {
     "name": "stdout",
     "output_type": "stream",
     "text": [
      "accuracy 0.925\n"
     ]
    },
    {
     "name": "stdout",
     "output_type": "stream",
     "text": [
      "[2, 100] loss 0.23778727293014526\n"
     ]
    },
    {
     "name": "stdout",
     "output_type": "stream",
     "text": [
      "[2, 200] loss 0.18751559853553773\n"
     ]
    },
    {
     "name": "stdout",
     "output_type": "stream",
     "text": [
      "[2, 300] loss 0.2517437076568603\n"
     ]
    },
    {
     "name": "stdout",
     "output_type": "stream",
     "text": [
      "[2, 400] loss 0.21523745059967042\n"
     ]
    },
    {
     "name": "stdout",
     "output_type": "stream",
     "text": [
      "[2, 500] loss 0.22762020111083983\n"
     ]
    },
    {
     "name": "stdout",
     "output_type": "stream",
     "text": [
      "[2, 600] loss 0.21268319487571716\n"
     ]
    },
    {
     "name": "stdout",
     "output_type": "stream",
     "text": [
      "[2, 700] loss 0.24489453434944153\n"
     ]
    },
    {
     "name": "stdout",
     "output_type": "stream",
     "text": [
      "[2, 800] loss 0.1793753457069397\n"
     ]
    },
    {
     "name": "stdout",
     "output_type": "stream",
     "text": [
      "[2, 900] loss 0.16630350947380065\n"
     ]
    },
    {
     "name": "stdout",
     "output_type": "stream",
     "text": [
      "[2, 1000] loss 0.19457859992980958\n"
     ]
    },
    {
     "name": "stdout",
     "output_type": "stream",
     "text": [
      "[2, 1100] loss 0.18429794907569885\n"
     ]
    },
    {
     "name": "stdout",
     "output_type": "stream",
     "text": [
      "[2, 1200] loss 0.205609992146492\n"
     ]
    },
    {
     "name": "stdout",
     "output_type": "stream",
     "text": [
      "[2, 1300] loss 0.22819141328334808\n"
     ]
    },
    {
     "name": "stdout",
     "output_type": "stream",
     "text": [
      "[2, 1400] loss 0.21955700516700744\n"
     ]
    },
    {
     "name": "stdout",
     "output_type": "stream",
     "text": [
      "[2, 1500] loss 0.1894108098745346\n"
     ]
    },
    {
     "name": "stdout",
     "output_type": "stream",
     "text": [
      "[2, 1600] loss 0.21589939475059508\n"
     ]
    },
    {
     "name": "stdout",
     "output_type": "stream",
     "text": [
      "[2, 1700] loss 0.19981195271015167\n"
     ]
    },
    {
     "name": "stdout",
     "output_type": "stream",
     "text": [
      "[2, 1800] loss 0.22015190362930298\n"
     ]
    },
    {
     "name": "stdout",
     "output_type": "stream",
     "text": [
      "[2, 1900] loss 0.15777244091033935\n"
     ]
    },
    {
     "name": "stdout",
     "output_type": "stream",
     "text": [
      "[2, 2000] loss 0.17863701403141022\n"
     ]
    },
    {
     "name": "stdout",
     "output_type": "stream",
     "text": [
      "accuracy 0.938\n"
     ]
    }
   ],
   "source": [
    "print('tanh')\n",
    "neural_net2 = Net(F.tanh)\n",
    "epoch = 2\n",
    "optimr = optim.SGD(neural_net2.parameters(), lr=0.001, momentum=0.9)\n",
    "for i in range(epoch):\n",
    "    rl = 0\n",
    "    for k, t in enumerate(trl, 0):\n",
    "        xs, ls = t\n",
    "        optimr.zero_grad()\n",
    "        outs = neural_net2(xs)\n",
    "        loss = nn.CrossEntropyLoss()(outs, ls.view(-1))\n",
    "        loss.backward()\n",
    "        optimr.step()\n",
    "        rl += loss.item()\n",
    "        if (k + 1) % 100 == 0:\n",
    "            print(\"[\" + str(2) + \", \" +  str(k + 1) + \"] loss \" + str(rl / 100) )\n",
    "            rl = 0.0\n",
    "    tpfs = 0.0\n",
    "    N = 0\n",
    "    with torch.no_grad():\n",
    "        for t in evl:\n",
    "            xs, labels = t\n",
    "            outs = neural_net2(xs)\n",
    "            pr = torch.max(outs.data, 1)[1]\n",
    "            for j in range(pr.size(0)):\n",
    "                N += 1\n",
    "                if pr[j] == labels[j]:\n",
    "                    tpfs += 1\n",
    "    print(\"accuracy \" + str(tpfs / N))"
   ]
  },
  {
   "cell_type": "code",
   "execution_count": 282,
   "metadata": {},
   "outputs": [
    {
     "name": "stdout",
     "output_type": "stream",
     "text": [
      "sigmoid\n"
     ]
    },
    {
     "name": "stdout",
     "output_type": "stream",
     "text": [
      "[2, 100] loss 1.4935320436954498\n"
     ]
    },
    {
     "name": "stdout",
     "output_type": "stream",
     "text": [
      "[2, 200] loss 1.1106146448850631\n"
     ]
    },
    {
     "name": "stdout",
     "output_type": "stream",
     "text": [
      "[2, 300] loss 0.8376926782727242\n"
     ]
    },
    {
     "name": "stdout",
     "output_type": "stream",
     "text": [
      "[2, 400] loss 0.6515649098157883\n"
     ]
    },
    {
     "name": "stdout",
     "output_type": "stream",
     "text": [
      "[2, 500] loss 0.535327824652195\n"
     ]
    },
    {
     "name": "stdout",
     "output_type": "stream",
     "text": [
      "[2, 600] loss 0.4790669038891792\n"
     ]
    },
    {
     "name": "stdout",
     "output_type": "stream",
     "text": [
      "[2, 700] loss 0.3041967499256134\n"
     ]
    },
    {
     "name": "stdout",
     "output_type": "stream",
     "text": [
      "[2, 800] loss 0.5416801714897156\n"
     ]
    },
    {
     "name": "stdout",
     "output_type": "stream",
     "text": [
      "[2, 900] loss 0.30807311803102494\n"
     ]
    },
    {
     "name": "stdout",
     "output_type": "stream",
     "text": [
      "[2, 1000] loss 0.3918309536576271\n"
     ]
    },
    {
     "name": "stdout",
     "output_type": "stream",
     "text": [
      "[2, 1100] loss 0.2843442523479462\n"
     ]
    },
    {
     "name": "stdout",
     "output_type": "stream",
     "text": [
      "[2, 1200] loss 0.2573412442207336\n"
     ]
    },
    {
     "name": "stdout",
     "output_type": "stream",
     "text": [
      "[2, 1300] loss 0.2302682074904442\n"
     ]
    },
    {
     "name": "stdout",
     "output_type": "stream",
     "text": [
      "[2, 1400] loss 0.24717441767454149\n"
     ]
    },
    {
     "name": "stdout",
     "output_type": "stream",
     "text": [
      "[2, 1500] loss 0.21130383074283599\n"
     ]
    },
    {
     "name": "stdout",
     "output_type": "stream",
     "text": [
      "[2, 1600] loss 0.27290642619132993\n"
     ]
    },
    {
     "name": "stdout",
     "output_type": "stream",
     "text": [
      "[2, 1700] loss 0.25098705261945725\n"
     ]
    },
    {
     "name": "stdout",
     "output_type": "stream",
     "text": [
      "[2, 1800] loss 0.22585137456655502\n"
     ]
    },
    {
     "name": "stdout",
     "output_type": "stream",
     "text": [
      "[2, 1900] loss 0.2784845843911171\n"
     ]
    },
    {
     "name": "stdout",
     "output_type": "stream",
     "text": [
      "[2, 2000] loss 0.07577138781547546\n"
     ]
    },
    {
     "name": "stdout",
     "output_type": "stream",
     "text": [
      "accuracy 0.9395\n"
     ]
    },
    {
     "name": "stdout",
     "output_type": "stream",
     "text": [
      "[2, 100] loss 0.21424076557159424\n"
     ]
    },
    {
     "name": "stdout",
     "output_type": "stream",
     "text": [
      "[2, 200] loss 0.19273580759763717\n"
     ]
    },
    {
     "name": "stdout",
     "output_type": "stream",
     "text": [
      "[2, 300] loss 0.21371522724628447\n"
     ]
    },
    {
     "name": "stdout",
     "output_type": "stream",
     "text": [
      "[2, 400] loss 0.16257637202739716\n"
     ]
    },
    {
     "name": "stdout",
     "output_type": "stream",
     "text": [
      "[2, 500] loss 0.15382540106773376\n"
     ]
    },
    {
     "name": "stdout",
     "output_type": "stream",
     "text": [
      "[2, 600] loss 0.1779417061805725\n"
     ]
    },
    {
     "name": "stdout",
     "output_type": "stream",
     "text": [
      "[2, 700] loss 0.18603299647569657\n"
     ]
    },
    {
     "name": "stdout",
     "output_type": "stream",
     "text": [
      "[2, 800] loss 0.17841750621795655\n"
     ]
    },
    {
     "name": "stdout",
     "output_type": "stream",
     "text": [
      "[2, 900] loss 0.17322173595428467\n"
     ]
    },
    {
     "name": "stdout",
     "output_type": "stream",
     "text": [
      "[2, 1000] loss 0.169003626704216\n"
     ]
    },
    {
     "name": "stdout",
     "output_type": "stream",
     "text": [
      "[2, 1100] loss 0.16990321457386018\n"
     ]
    },
    {
     "name": "stdout",
     "output_type": "stream",
     "text": [
      "[2, 1200] loss 0.12105210900306701\n"
     ]
    },
    {
     "name": "stdout",
     "output_type": "stream",
     "text": [
      "[2, 1300] loss 0.1326449543237686\n"
     ]
    },
    {
     "name": "stdout",
     "output_type": "stream",
     "text": [
      "[2, 1400] loss 0.13738826870918275\n"
     ]
    },
    {
     "name": "stdout",
     "output_type": "stream",
     "text": [
      "[2, 1500] loss 0.22121696591377257\n"
     ]
    },
    {
     "name": "stdout",
     "output_type": "stream",
     "text": [
      "[2, 1600] loss 0.22055665880441666\n"
     ]
    },
    {
     "name": "stdout",
     "output_type": "stream",
     "text": [
      "[2, 1700] loss 0.1603083872795105\n"
     ]
    },
    {
     "name": "stdout",
     "output_type": "stream",
     "text": [
      "[2, 1800] loss 0.2444873958826065\n"
     ]
    },
    {
     "name": "stdout",
     "output_type": "stream",
     "text": [
      "[2, 1900] loss 0.20311177492141724\n"
     ]
    },
    {
     "name": "stdout",
     "output_type": "stream",
     "text": [
      "[2, 2000] loss 0.15151870965957642\n"
     ]
    },
    {
     "name": "stdout",
     "output_type": "stream",
     "text": [
      "accuracy 0.955\n"
     ]
    }
   ],
   "source": [
    "print('sigmoid')\n",
    "neural_net3 = Net(F.sigmoid)\n",
    "epoch = 2\n",
    "optimr = optim.SGD(neural_net3.parameters(), lr=0.001, momentum=0.9)\n",
    "for i in range(epoch):\n",
    "    rl = 0\n",
    "    for k, t in enumerate(trl, 0):\n",
    "        xs, ls = t\n",
    "        optimr.zero_grad()\n",
    "        outs = neural_net3(xs)\n",
    "        loss = nn.CrossEntropyLoss()(outs, ls.view(-1))\n",
    "        loss.backward()\n",
    "        optimr.step()\n",
    "        rl += loss.item()\n",
    "        if (k + 1) % 100 == 0:\n",
    "            print(\"[\" + str(2) + \", \" +  str(k + 1) + \"] loss \" + str(rl / 100) )\n",
    "            rl = 0.0\n",
    "    tpfs = 0.0\n",
    "    N = 0\n",
    "    with torch.no_grad():\n",
    "        for t in evl:\n",
    "            xs, labels = t\n",
    "            outs = neural_net3(xs)\n",
    "            pr = torch.max(outs.data, 1)[1]\n",
    "            for j in range(pr.size(0)):\n",
    "                N += 1\n",
    "                if pr[j] == labels[j]:\n",
    "                    tpfs += 1\n",
    "    print(\"accuracy \" + str(tpfs / N))"
   ]
  },
  {
   "cell_type": "code",
   "execution_count": 292,
   "metadata": {},
   "outputs": [],
   "source": [
    "mnist_x_train, mnist_x_eval, mnist_labels_train, mnist_labels_eval = train_test_split(notMNIST_small_x, notMNIST_small_labels, train_size=0.9)"
   ]
  },
  {
   "cell_type": "markdown",
   "metadata": {},
   "source": [
    "Задание 4"
   ]
  },
  {
   "cell_type": "code",
   "execution_count": 295,
   "metadata": {},
   "outputs": [
    {
     "name": "stdout",
     "output_type": "stream",
     "text": [
      "relu\n"
     ]
    },
    {
     "name": "stdout",
     "output_type": "stream",
     "text": [
      "[2, 100] loss 2.255184757709503\n"
     ]
    },
    {
     "name": "stdout",
     "output_type": "stream",
     "text": [
      "[2, 200] loss 2.0155747854709625\n"
     ]
    },
    {
     "name": "stdout",
     "output_type": "stream",
     "text": [
      "[2, 300] loss 1.9180078387260437\n"
     ]
    },
    {
     "name": "stdout",
     "output_type": "stream",
     "text": [
      "[2, 400] loss 1.7002407222986222\n"
     ]
    },
    {
     "name": "stdout",
     "output_type": "stream",
     "text": [
      "[2, 500] loss 1.5687793269753456\n"
     ]
    },
    {
     "name": "stdout",
     "output_type": "stream",
     "text": [
      "[2, 600] loss 1.6886171114444732\n"
     ]
    },
    {
     "name": "stdout",
     "output_type": "stream",
     "text": [
      "[2, 700] loss 1.5172352793812751\n"
     ]
    },
    {
     "name": "stdout",
     "output_type": "stream",
     "text": [
      "[2, 800] loss 2.3685114586353304\n"
     ]
    },
    {
     "name": "stdout",
     "output_type": "stream",
     "text": [
      "[2, 900] loss 2.1015749990940096\n"
     ]
    },
    {
     "name": "stdout",
     "output_type": "stream",
     "text": [
      "[2, 1000] loss 1.5603172636032105\n"
     ]
    },
    {
     "name": "stdout",
     "output_type": "stream",
     "text": [
      "[2, 1100] loss 1.1030340990424157\n"
     ]
    },
    {
     "name": "stdout",
     "output_type": "stream",
     "text": [
      "[2, 1200] loss 0.8300529491901397\n"
     ]
    },
    {
     "name": "stdout",
     "output_type": "stream",
     "text": [
      "[2, 1300] loss 0.945858528316021\n"
     ]
    },
    {
     "name": "stdout",
     "output_type": "stream",
     "text": [
      "[2, 1400] loss 0.7511605158448219\n"
     ]
    },
    {
     "name": "stdout",
     "output_type": "stream",
     "text": [
      "[2, 1500] loss 0.8168084979057312\n"
     ]
    },
    {
     "name": "stdout",
     "output_type": "stream",
     "text": [
      "[2, 1600] loss 0.6627012786269187\n"
     ]
    },
    {
     "name": "stdout",
     "output_type": "stream",
     "text": [
      "[2, 1700] loss 0.5887615874409675\n"
     ]
    },
    {
     "name": "stdout",
     "output_type": "stream",
     "text": [
      "[2, 1800] loss 0.668185693025589\n"
     ]
    },
    {
     "name": "stdout",
     "output_type": "stream",
     "text": [
      "[2, 1900] loss 0.5573740404844284\n"
     ]
    },
    {
     "name": "stdout",
     "output_type": "stream",
     "text": [
      "[2, 2000] loss 0.5749480712413788\n"
     ]
    },
    {
     "name": "stdout",
     "output_type": "stream",
     "text": [
      "accuracy 0.828\n"
     ]
    },
    {
     "name": "stdout",
     "output_type": "stream",
     "text": [
      "[2, 100] loss 0.579260131418705\n"
     ]
    },
    {
     "name": "stdout",
     "output_type": "stream",
     "text": [
      "[2, 200] loss 0.524039920270443\n"
     ]
    },
    {
     "name": "stdout",
     "output_type": "stream",
     "text": [
      "[2, 300] loss 0.36056091338396073\n"
     ]
    },
    {
     "name": "stdout",
     "output_type": "stream",
     "text": [
      "[2, 400] loss 0.49104167938232424\n"
     ]
    },
    {
     "name": "stdout",
     "output_type": "stream",
     "text": [
      "[2, 500] loss 0.48192631512880324\n"
     ]
    },
    {
     "name": "stdout",
     "output_type": "stream",
     "text": [
      "[2, 600] loss 0.45459129840135576\n"
     ]
    },
    {
     "name": "stdout",
     "output_type": "stream",
     "text": [
      "[2, 700] loss 0.4455763083696365\n"
     ]
    },
    {
     "name": "stdout",
     "output_type": "stream",
     "text": [
      "[2, 800] loss 0.3687378591299057\n"
     ]
    },
    {
     "name": "stdout",
     "output_type": "stream",
     "text": [
      "[2, 900] loss 0.3596147298812866\n"
     ]
    },
    {
     "name": "stdout",
     "output_type": "stream",
     "text": [
      "[2, 1000] loss 0.37431854993104935\n"
     ]
    },
    {
     "name": "stdout",
     "output_type": "stream",
     "text": [
      "[2, 1100] loss 0.3246146649122238\n"
     ]
    },
    {
     "name": "stdout",
     "output_type": "stream",
     "text": [
      "[2, 1200] loss 0.3505014878511429\n"
     ]
    },
    {
     "name": "stdout",
     "output_type": "stream",
     "text": [
      "[2, 1300] loss 0.40499123573303225\n"
     ]
    },
    {
     "name": "stdout",
     "output_type": "stream",
     "text": [
      "[2, 1400] loss 0.41522406578063964\n"
     ]
    },
    {
     "name": "stdout",
     "output_type": "stream",
     "text": [
      "[2, 1500] loss 0.5439296787977219\n"
     ]
    },
    {
     "name": "stdout",
     "output_type": "stream",
     "text": [
      "[2, 1600] loss 0.3368798792362213\n"
     ]
    },
    {
     "name": "stdout",
     "output_type": "stream",
     "text": [
      "[2, 1700] loss 0.39712013840675353\n"
     ]
    },
    {
     "name": "stdout",
     "output_type": "stream",
     "text": [
      "[2, 1800] loss 0.4840779364109039\n"
     ]
    },
    {
     "name": "stdout",
     "output_type": "stream",
     "text": [
      "[2, 1900] loss 0.37095170468091965\n"
     ]
    },
    {
     "name": "stdout",
     "output_type": "stream",
     "text": [
      "[2, 2000] loss 0.3413337391614914\n"
     ]
    },
    {
     "name": "stdout",
     "output_type": "stream",
     "text": [
      "accuracy 0.8915\n"
     ]
    }
   ],
   "source": [
    "print('relu')\n",
    "neural_net = Net(F.relu)\n",
    "epoch = 2\n",
    "optimr = optim.SGD(neural_net.parameters(), lr=0.005, momentum=0.9)\n",
    "acc = 0\n",
    "while acc < 0.87:\n",
    "    rl = 0\n",
    "    for k, t in enumerate(trl, 0):\n",
    "        xs, ls = t\n",
    "        optimr.zero_grad()\n",
    "        outs = neural_net(xs)\n",
    "        loss = nn.CrossEntropyLoss()(outs, ls.view(-1))\n",
    "        loss.backward()\n",
    "        optimr.step()\n",
    "        rl += loss.item()\n",
    "        if (k + 1) % 100 == 0:\n",
    "            print(\"[\" + str(2) + \", \" +  str(k + 1) + \"] loss \" + str(rl / 100))\n",
    "            rl = 0.0\n",
    "    tpfs = 0.0\n",
    "    N = 0\n",
    "    with torch.no_grad():\n",
    "        for t in evl:\n",
    "            xs, labels = t\n",
    "            outs = neural_net(xs)\n",
    "            pr = torch.max(outs.data, 1)[1]\n",
    "            for j in range(pr.size(0)):\n",
    "                N += 1\n",
    "                if pr[j] == labels[j]:\n",
    "                    tpfs += 1\n",
    "    print(\"accuracy \" + str(tpfs / N))\n",
    "    acc = tpfs / N"
   ]
  },
  {
   "cell_type": "code",
   "execution_count": null,
   "metadata": {},
   "outputs": [],
   "source": []
  }
 ],
 "metadata": {
  "kernelspec": {
   "display_name": "Python 2",
   "language": "python",
   "name": "python2"
  },
  "language_info": {
   "codemirror_mode": {
    "name": "ipython",
    "version": 2
   },
   "file_extension": ".py",
   "mimetype": "text/x-python",
   "name": "python",
   "nbconvert_exporter": "python",
   "pygments_lexer": "ipython2",
   "version": "2.7.6"
  }
 },
 "nbformat": 4,
 "nbformat_minor": 0
}
