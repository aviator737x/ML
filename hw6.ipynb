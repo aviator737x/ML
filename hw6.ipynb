{
 "cells": [
  {
   "cell_type": "code",
   "execution_count": 246,
   "metadata": {},
   "outputs": [],
   "source": [
    "import warnings\n",
    "warnings.filterwarnings('ignore')\n",
    "import numpy as np\n",
    "import pandas as pd\n",
    "import matplotlib.pyplot as plt\n",
    "from sklearn.model_selection import train_test_split\n",
    "from sklearn.preprocessing import MinMaxScaler\n",
    "import os\n",
    "import torch\n",
    "import torchvision\n",
    "from torch.utils.data import TensorDataset, DataLoader\n",
    "import torch.nn as nn\n",
    "import torch.nn.functional as F\n",
    "import torch.optim as optim"
   ]
  },
  {
   "cell_type": "markdown",
   "metadata": {},
   "source": []
  },
  {
   "cell_type": "code",
   "execution_count": 247,
   "metadata": {},
   "outputs": [],
   "source": [
    "cancer_data = pd.read_csv('cancer.csv')\n",
    "cancer_label = cancer_data['label']\n",
    "cancer_x = cancer_data.drop(['label'], axis=1).values\n",
    "cancer_x = MinMaxScaler().fit_transform(cancer_x)\n",
    "cancer_x = np.column_stack((cancer_x, np.array([1] * len(cancer_x))))\n",
    "cancer_label = np.array([1 if label == 'M' else 0 for label in cancer_label.values])\n",
    "cancer_x_train, cancer_x_eval, cancer_label_train, cancer_label_eval = train_test_split(cancer_x, cancer_label, train_size=0.8)"
   ]
  },
  {
   "cell_type": "code",
   "execution_count": 248,
   "metadata": {},
   "outputs": [],
   "source": [
    "def classify(w, X):\n",
    "    classes = []\n",
    "    for x in X:\n",
    "        pr = w @ x\n",
    "        if pr > 0.5:\n",
    "            classes.append(1)\n",
    "        else:\n",
    "            classes.append(0)\n",
    "    return np.array(classes)\n",
    "\n",
    "\n",
    "def grad(w, data):\n",
    "    s = np.zeros(len(data[0][1:]))\n",
    "    N = 0\n",
    "    for vec in data:\n",
    "        x = vec[1:]\n",
    "        y = vec[0]\n",
    "        s += y / (1 + np.exp(y * (w @ x))) * x\n",
    "        N += 1\n",
    "    return (-1) * s / N"
   ]
  },
  {
   "cell_type": "code",
   "execution_count": 249,
   "metadata": {},
   "outputs": [],
   "source": [
    "accuracy = []\n",
    "inds = []\n",
    "batch_size = 25\n",
    "w = np.zeros(len(cancer_x_train[0]))\n",
    "classes = classify(w, cancer_x_eval)\n",
    "biggest_acc = len(classes[classes == cancer_label_eval]) / len(classes)\n",
    "best = w\n",
    "prev = w\n",
    "k = 0\n",
    "ind = 0\n",
    "flag = False\n",
    "while True:\n",
    "    prev = best\n",
    "    bigbigacc = biggest_acc\n",
    "    for i in range(0, len(cancer_x_train), batch_size):\n",
    "        X = cancer_x_train[i:i+batch_size]\n",
    "        Y = cancer_label_train[i:i+batch_size]\n",
    "        w = w - 0.01 * grad(w, np.column_stack((Y, X)))\n",
    "        classes = classify(w, cancer_x_eval)\n",
    "        acc = len(classes[classes == cancer_label_eval]) / len(classes)\n",
    "        accuracy.append(acc)\n",
    "        inds.append(ind)\n",
    "        ind += 1\n",
    "        if acc <= biggest_acc - 0.001:\n",
    "            flag = True\n",
    "            break\n",
    "        else:\n",
    "            best = w\n",
    "            biggest_acc = acc\n",
    "    if flag:\n",
    "        break\n",
    "            "
   ]
  },
  {
   "cell_type": "code",
   "execution_count": 250,
   "metadata": {},
   "outputs": [
    {
     "data": {
      "text/plain": [
       "<matplotlib.collections.PathCollection at 0x1a3edbc2b0>"
      ]
     },
     "execution_count": 250,
     "metadata": {},
     "output_type": "execute_result"
    },
    {
     "data": {
      "image/png": "[encoded data removed]",
      "text/plain": [
       "<Figure size 432x288 with 1 Axes>"
      ]
     },
     "metadata": {},
     "output_type": "display_data"
    }
   ],
   "source": [
    "plt.scatter(inds, accuracy)"
   ]
  },
  {
   "cell_type": "code",
   "execution_count": 251,
   "metadata": {},
   "outputs": [],
   "source": [
    "spam_data = pd.read_csv('spam.csv')\n",
    "spam_label = spam_data['label']\n",
    "spam_x = spam_data.drop(['label'], axis=1).values\n",
    "spam_x = MinMaxScaler().fit_transform(spam_x)\n",
    "spam_x = np.column_stack((spam_x, np.array([1] * len(spam_x))))\n",
    "#cancer_label = np.array([1 if label == 'M' else 0 for label in cancer_label.values])\n",
    "spam_x_train, spam_x_eval, spam_label_train, spam_label_eval = train_test_split(spam_x, spam_label, train_size=0.8)"
   ]
  },
  {
   "cell_type": "code",
   "execution_count": 252,
   "metadata": {},
   "outputs": [],
   "source": [
    "accuracy = []\n",
    "inds = []\n",
    "batch_size = 200\n",
    "w = np.zeros(len(spam_x_train[0]))\n",
    "classes = classify(w, spam_x_eval)\n",
    "biggest_acc = len(classes[classes == spam_label_eval]) / len(classes)\n",
    "best = w\n",
    "prev = w\n",
    "k = 0\n",
    "ind = 0\n",
    "flag = False\n",
    "while True:\n",
    "    prev = best\n",
    "    bigbigacc = biggest_acc\n",
    "    for i in range(0, len(spam_x_train), batch_size):\n",
    "        X = spam_x_train[i:i+batch_size]\n",
    "        Y = spam_label_train[i:i+batch_size]\n",
    "        w = w - 0.01 * grad(w, np.column_stack((Y, X)))\n",
    "        classes = classify(w, spam_x_eval)\n",
    "        acc = len(classes[classes == spam_label_eval]) / len(classes)\n",
    "        accuracy.append(acc)\n",
    "        inds.append(ind)\n",
    "        ind += 1\n",
    "        if acc <= biggest_acc - 0.01:\n",
    "            flag = True\n",
    "            break\n",
    "        else:\n",
    "            best = w\n",
    "            biggest_acc = acc\n",
    "    if flag:\n",
    "        break"
   ]
  },
  {
   "cell_type": "code",
   "execution_count": 253,
   "metadata": {},
   "outputs": [
    {
     "data": {
      "text/plain": [
       "<matplotlib.collections.PathCollection at 0x1a3e93beb8>"
      ]
     },
     "execution_count": 253,
     "metadata": {},
     "output_type": "execute_result"
    },
    {
     "data": {
      "image/png": "[encoded data removed]",
      "text/plain": [
       "<Figure size 432x288 with 1 Axes>"
      ]
     },
     "metadata": {},
     "output_type": "display_data"
    }
   ],
   "source": [
    "plt.scatter(inds, accuracy)"
   ]
  },
  {
   "cell_type": "markdown",
   "metadata": {},
   "source": []
  },
  {
   "cell_type": "markdown",
   "metadata": {},
   "source": []
  },
  {
   "cell_type": "code",
   "execution_count": 254,
   "metadata": {},
   "outputs": [
    {
     "name": "stdout",
     "output_type": "stream",
     "text": [
      "(10000, 785)\n"
     ]
    },
    {
     "name": "stdout",
     "output_type": "stream",
     "text": [
      "(10000, 1, 28, 28)\n"
     ]
    }
   ],
   "source": [
    "mnist_data = pd.read_csv('mnist.csv')\n",
    "print(mnist_data.shape)\n",
    "mnist_labels = mnist_data['label']\n",
    "mnist_x = mnist_data.drop(['label'], axis=1).values\n",
    "new_mnist_x = []\n",
    "for x in mnist_x:\n",
    "    matr = []\n",
    "    k = 0\n",
    "    for i in range(28):\n",
    "        a = []\n",
    "        for j in range(28):\n",
    "            a.append(x[k])\n",
    "            k += 1\n",
    "        matr.append(a)\n",
    "    new_mnist_x.append([matr])\n",
    "mnist_x = np.array(new_mnist_x)\n",
    "print(mnist_x.shape)"
   ]
  },
  {
   "cell_type": "code",
   "execution_count": 255,
   "metadata": {},
   "outputs": [
    {
     "data": {
      "text/plain": [
       "'/Users/user/PycharmProjects/MLHW1'"
      ]
     },
     "execution_count": 255,
     "metadata": {},
     "output_type": "execute_result"
    }
   ],
   "source": [
    " os.getcwd()\n",
    " #os.chdir('../')\n",
    "# os.getcwd()\n",
    "#os.chdir('./notMNIST_small')"
   ]
  },
  {
   "cell_type": "code",
   "execution_count": 256,
   "metadata": {},
   "outputs": [
    {
     "name": "stdout",
     "output_type": "stream",
     "text": [
      "I\n"
     ]
    },
    {
     "name": "stdout",
     "output_type": "stream",
     "text": [
      "G\n"
     ]
    },
    {
     "name": "stdout",
     "output_type": "stream",
     "text": [
      "A\n"
     ]
    },
    {
     "name": "stdout",
     "output_type": "stream",
     "text": [
      "F\n"
     ]
    },
    {
     "name": "stdout",
     "output_type": "stream",
     "text": [
      "H\n"
     ]
    },
    {
     "name": "stdout",
     "output_type": "stream",
     "text": [
      "J\n"
     ]
    },
    {
     "name": "stdout",
     "output_type": "stream",
     "text": [
      "C\n"
     ]
    },
    {
     "name": "stdout",
     "output_type": "stream",
     "text": [
      "D\n"
     ]
    },
    {
     "name": "stdout",
     "output_type": "stream",
     "text": [
      "E\n"
     ]
    },
    {
     "name": "stdout",
     "output_type": "stream",
     "text": [
      "B\n"
     ]
    }
   ],
   "source": [
    "notMNIST_small_labels = []\n",
    "notMNIST_small_x = []\n",
    "cur_label = 'A'\n",
    "for path in os.listdir('notMNIST_small'):\n",
    "    cur_label = path\n",
    "    print(cur_label)\n",
    "    for file in os.listdir('notMNIST_small' + '/' + path):\n",
    "        if os.path.getsize('notMNIST_small' + '/' + path + '/' + file) != 0:\n",
    "            notMNIST_small_x.append(plt.imread('notMNIST_small' + '/' + path + '/' + file))\n",
    "            notMNIST_small_labels.append(cur_label)\n",
    "notMNIST_small_labels = np.array(notMNIST_small_labels)\n",
    "notMNIST_small_x = np.array(notMNIST_small_x)"
   ]
  },
  {
   "cell_type": "code",
   "execution_count": 257,
   "metadata": {},
   "outputs": [
    {
     "name": "stdout",
     "output_type": "stream",
     "text": [
      "(18724, 28, 28)\n"
     ]
    }
   ],
   "source": [
    "print(notMNIST_small_x.shape)"
   ]
  },
  {
   "cell_type": "markdown",
   "metadata": {},
   "source": []
  },
  {
   "cell_type": "code",
   "execution_count": 258,
   "metadata": {},
   "outputs": [],
   "source": [
    "mnist_x_train, mnist_x_eval, mnist_labels_train, mnist_labels_eval = train_test_split(mnist_x, mnist_labels, train_size=0.8)"
   ]
  },
  {
   "cell_type": "code",
   "execution_count": 259,
   "metadata": {},
   "outputs": [],
   "source": [
    "#https://python-scripts.com/build-neural-network\n",
    "class Net(nn.Module):\n",
    "    def __init__(self, action):\n",
    "        super(Net, self).__init__() \n",
    "        self.convolution1 = nn.Conv2d(1,8,3)\n",
    "        self.convolution2 = nn.Conv2d(8,8,3)\n",
    "        self.convolution3 = nn.Conv2d(8,8,3)\n",
    "        self.fc1 = nn.Linear(8 * 22 * 22, 64)  # 1й связанный слой\n",
    "        self.action = action                         # Нелинейный слой\n",
    "        self.fc2 = nn.Linear(64, 10) # 2й связанный слой\n",
    "    \n",
    "    def forward(self, x):                              # Передний пропуск: складывание каждого слоя вместе\n",
    "        x = self.action(self.convolution1(x))\n",
    "        x = self.action(self.convolution2(x))\n",
    "        x = self.action(self.convolution3(x))\n",
    "        x = x.view(-1, 8 * 22 * 22)\n",
    "        x = self.action(self.fc1(x))\n",
    "        x = self.fc2(x)\n",
    "        return x"
   ]
  },
  {
   "cell_type": "code",
   "execution_count": 260,
   "metadata": {},
   "outputs": [],
   "source": [
    "t1 = []\n",
    "for x in mnist_x_train:\n",
    "    t1.append(torch.Tensor(x))\n",
    "trl = DataLoader(TensorDataset(torch.stack(t1), torch.Tensor(mnist_labels_train).long()), batch_size=4,shuffle=True )"
   ]
  },
  {
   "cell_type": "code",
   "execution_count": 261,
   "metadata": {},
   "outputs": [],
   "source": [
    "t2 = []\n",
    "for x in mnist_x_eval:\n",
    "    t2.append(torch.Tensor(x))\n",
    "evl = DataLoader(TensorDataset(torch.stack(t2), torch.Tensor(np.array(mnist_labels_eval)).long()), batch_size=5,shuffle=True )"
   ]
  },
  {
   "cell_type": "code",
   "execution_count": 262,
   "metadata": {},
   "outputs": [
    {
     "name": "stdout",
     "output_type": "stream",
     "text": [
      "relu\n"
     ]
    },
    {
     "name": "stdout",
     "output_type": "stream",
     "text": [
      "[2, 100] loss 136.89903593063354\n"
     ]
    },
    {
     "name": "stdout",
     "output_type": "stream",
     "text": [
      "[2, 200] loss 203.5289804637432\n"
     ]
    },
    {
     "name": "stdout",
     "output_type": "stream",
     "text": [
      "[2, 300] loss 254.0493804514408\n"
     ]
    },
    {
     "name": "stdout",
     "output_type": "stream",
     "text": [
      "[2, 400] loss 297.09353172779083\n"
     ]
    },
    {
     "name": "stdout",
     "output_type": "stream",
     "text": [
      "[2, 500] loss 338.27110600471497\n"
     ]
    },
    {
     "name": "stdout",
     "output_type": "stream",
     "text": [
      "[2, 600] loss 378.2535591125488\n"
     ]
    },
    {
     "name": "stdout",
     "output_type": "stream",
     "text": [
      "[2, 700] loss 416.8813658952713\n"
     ]
    },
    {
     "name": "stdout",
     "output_type": "stream",
     "text": [
      "[2, 800] loss 441.43240934610367\n"
     ]
    },
    {
     "name": "stdout",
     "output_type": "stream",
     "text": [
      "[2, 900] loss 476.8842476606369\n"
     ]
    },
    {
     "name": "stdout",
     "output_type": "stream",
     "text": [
      "[2, 1000] loss 506.6008640527725\n"
     ]
    },
    {
     "name": "stdout",
     "output_type": "stream",
     "text": [
      "[2, 1100] loss 540.2822290062904\n"
     ]
    },
    {
     "name": "stdout",
     "output_type": "stream",
     "text": [
      "[2, 1200] loss 567.4892272055149\n"
     ]
    },
    {
     "name": "stdout",
     "output_type": "stream",
     "text": [
      "[2, 1300] loss 596.6798580288887\n"
     ]
    },
    {
     "name": "stdout",
     "output_type": "stream",
     "text": [
      "[2, 1400] loss 620.3923460543156\n"
     ]
    },
    {
     "name": "stdout",
     "output_type": "stream",
     "text": [
      "[2, 1500] loss 651.5670644938946\n"
     ]
    },
    {
     "name": "stdout",
     "output_type": "stream",
     "text": [
      "[2, 1600] loss 669.7344718277454\n"
     ]
    },
    {
     "name": "stdout",
     "output_type": "stream",
     "text": [
      "[2, 1700] loss 694.5304472148418\n"
     ]
    },
    {
     "name": "stdout",
     "output_type": "stream",
     "text": [
      "[2, 1800] loss 717.6960356831551\n"
     ]
    },
    {
     "name": "stdout",
     "output_type": "stream",
     "text": [
      "[2, 1900] loss 738.4440635442734\n"
     ]
    },
    {
     "name": "stdout",
     "output_type": "stream",
     "text": [
      "[2, 2000] loss 767.67584836483\n"
     ]
    },
    {
     "name": "stdout",
     "output_type": "stream",
     "text": [
      "accuracy 0.9065\n"
     ]
    },
    {
     "name": "stdout",
     "output_type": "stream",
     "text": [
      "[2, 100] loss 14.777938783168793\n"
     ]
    },
    {
     "name": "stdout",
     "output_type": "stream",
     "text": [
      "[2, 200] loss 27.33758717775345\n"
     ]
    },
    {
     "name": "stdout",
     "output_type": "stream",
     "text": [
      "[2, 300] loss 42.74492859840393\n"
     ]
    },
    {
     "name": "stdout",
     "output_type": "stream",
     "text": [
      "[2, 400] loss 57.61928004026413\n"
     ]
    },
    {
     "name": "stdout",
     "output_type": "stream",
     "text": [
      "[2, 500] loss 63.25275927782059\n"
     ]
    },
    {
     "name": "stdout",
     "output_type": "stream",
     "text": [
      "[2, 600] loss 74.32597422599792\n"
     ]
    },
    {
     "name": "stdout",
     "output_type": "stream",
     "text": [
      "[2, 700] loss 90.90051877498627\n"
     ]
    },
    {
     "name": "stdout",
     "output_type": "stream",
     "text": [
      "[2, 800] loss 100.71566903591156\n"
     ]
    },
    {
     "name": "stdout",
     "output_type": "stream",
     "text": [
      "[2, 900] loss 116.58410060405731\n"
     ]
    },
    {
     "name": "stdout",
     "output_type": "stream",
     "text": [
      "[2, 1000] loss 131.68328481912613\n"
     ]
    },
    {
     "name": "stdout",
     "output_type": "stream",
     "text": [
      "[2, 1100] loss 145.36266082525253\n"
     ]
    },
    {
     "name": "stdout",
     "output_type": "stream",
     "text": [
      "[2, 1200] loss 158.46753042936325\n"
     ]
    },
    {
     "name": "stdout",
     "output_type": "stream",
     "text": [
      "[2, 1300] loss 174.76592373847961\n"
     ]
    },
    {
     "name": "stdout",
     "output_type": "stream",
     "text": [
      "[2, 1400] loss 197.64297610521317\n"
     ]
    },
    {
     "name": "stdout",
     "output_type": "stream",
     "text": [
      "[2, 1500] loss 207.74319410324097\n"
     ]
    },
    {
     "name": "stdout",
     "output_type": "stream",
     "text": [
      "[2, 1600] loss 228.72162321209908\n"
     ]
    },
    {
     "name": "stdout",
     "output_type": "stream",
     "text": [
      "[2, 1700] loss 254.0644889175892\n"
     ]
    },
    {
     "name": "stdout",
     "output_type": "stream",
     "text": [
      "[2, 1800] loss 272.3292354643345\n"
     ]
    },
    {
     "name": "stdout",
     "output_type": "stream",
     "text": [
      "[2, 1900] loss 278.98680928349495\n"
     ]
    },
    {
     "name": "stdout",
     "output_type": "stream",
     "text": [
      "[2, 2000] loss 294.3302804529667\n"
     ]
    },
    {
     "name": "stdout",
     "output_type": "stream",
     "text": [
      "accuracy 0.947\n"
     ]
    }
   ],
   "source": [
    "print('relu')\n",
    "neural_net1 = Net(F.relu)\n",
    "epoch = 2\n",
    "optimr = optim.SGD(neural_net1.parameters(), lr=0.001, momentum=0.9)\n",
    "for i in range(epoch):\n",
    "    rl = 0\n",
    "    for k, t in enumerate(trl, 0):\n",
    "        xs, ls = t\n",
    "        optimr.zero_grad()\n",
    "        outs = neural_net1(xs)\n",
    "        loss = nn.CrossEntropyLoss()(outs, ls.view(-1))\n",
    "        loss.backward()\n",
    "        optimr.step()\n",
    "        rl += loss.item()\n",
    "        if (k + 1) % 100 == 0:\n",
    "            print(\"[\" + str(2) + \", \" +  str(k + 1) + \"] loss \" + str(rl) )\n",
    "    tpfs = 0.0\n",
    "    N = 0\n",
    "    with torch.no_grad():\n",
    "        for t in evl:\n",
    "            xs, labels = t\n",
    "            outs = neural_net1(xs)\n",
    "            pr = torch.max(outs.data, 1)[1]\n",
    "            for j in range(pr.size(0)):\n",
    "                N += 1\n",
    "                if pr[j] == labels[j]:\n",
    "                    tpfs += 1\n",
    "    print(\"accuracy \" + str(tpfs / N))"
   ]
  },
  {
   "cell_type": "code",
   "execution_count": 242,
   "metadata": {},
   "outputs": [
    {
     "name": "stdout",
     "output_type": "stream",
     "text": [
      "tanh\n"
     ]
    },
    {
     "name": "stdout",
     "output_type": "stream",
     "text": [
      "[2, 100] loss 200.14215469360352\n"
     ]
    },
    {
     "name": "stdout",
     "output_type": "stream",
     "text": [
      "[2, 200] loss 301.3225455880165\n"
     ]
    },
    {
     "name": "stdout",
     "output_type": "stream",
     "text": [
      "[2, 300] loss 375.2416514456272\n"
     ]
    },
    {
     "name": "stdout",
     "output_type": "stream",
     "text": [
      "[2, 400] loss 417.9365883767605\n"
     ]
    },
    {
     "name": "stdout",
     "output_type": "stream",
     "text": [
      "[2, 500] loss 456.3204273879528\n"
     ]
    },
    {
     "name": "stdout",
     "output_type": "stream",
     "text": [
      "[2, 600] loss 494.8808151781559\n"
     ]
    },
    {
     "name": "stdout",
     "output_type": "stream",
     "text": [
      "[2, 700] loss 529.8941686749458\n"
     ]
    },
    {
     "name": "stdout",
     "output_type": "stream",
     "text": [
      "[2, 800] loss 558.6648871302605\n"
     ]
    },
    {
     "name": "stdout",
     "output_type": "stream",
     "text": [
      "[2, 900] loss 588.1407391130924\n"
     ]
    },
    {
     "name": "stdout",
     "output_type": "stream",
     "text": [
      "[2, 1000] loss 617.1968248784542\n"
     ]
    },
    {
     "name": "stdout",
     "output_type": "stream",
     "text": [
      "[2, 1100] loss 644.1844480335712\n"
     ]
    },
    {
     "name": "stdout",
     "output_type": "stream",
     "text": [
      "[2, 1200] loss 664.0815488696098\n"
     ]
    },
    {
     "name": "stdout",
     "output_type": "stream",
     "text": [
      "[2, 1300] loss 685.2776824235916\n"
     ]
    },
    {
     "name": "stdout",
     "output_type": "stream",
     "text": [
      "[2, 1400] loss 706.6844468712807\n"
     ]
    },
    {
     "name": "stdout",
     "output_type": "stream",
     "text": [
      "[2, 1500] loss 727.0025880336761\n"
     ]
    },
    {
     "name": "stdout",
     "output_type": "stream",
     "text": [
      "[2, 1600] loss 747.4788153767586\n"
     ]
    },
    {
     "name": "stdout",
     "output_type": "stream",
     "text": [
      "[2, 1700] loss 766.2153412699699\n"
     ]
    },
    {
     "name": "stdout",
     "output_type": "stream",
     "text": [
      "[2, 1800] loss 785.5107125639915\n"
     ]
    },
    {
     "name": "stdout",
     "output_type": "stream",
     "text": [
      "[2, 1900] loss 800.3373780250549\n"
     ]
    },
    {
     "name": "stdout",
     "output_type": "stream",
     "text": [
      "[2, 2000] loss 814.1183114647865\n"
     ]
    },
    {
     "name": "stdout",
     "output_type": "stream",
     "text": [
      "accuracy 0.9535\n"
     ]
    },
    {
     "name": "stdout",
     "output_type": "stream",
     "text": [
      "[2, 100] loss 15.456865340471268\n"
     ]
    },
    {
     "name": "stdout",
     "output_type": "stream",
     "text": [
      "[2, 200] loss 31.63791486620903\n"
     ]
    },
    {
     "name": "stdout",
     "output_type": "stream",
     "text": [
      "[2, 300] loss 46.32773408293724\n"
     ]
    },
    {
     "name": "stdout",
     "output_type": "stream",
     "text": [
      "[2, 400] loss 61.7569297850132\n"
     ]
    },
    {
     "name": "stdout",
     "output_type": "stream",
     "text": [
      "[2, 500] loss 73.27361366152763\n"
     ]
    },
    {
     "name": "stdout",
     "output_type": "stream",
     "text": [
      "[2, 600] loss 86.06789499521255\n"
     ]
    },
    {
     "name": "stdout",
     "output_type": "stream",
     "text": [
      "[2, 700] loss 100.25505244731903\n"
     ]
    },
    {
     "name": "stdout",
     "output_type": "stream",
     "text": [
      "[2, 800] loss 119.08620017766953\n"
     ]
    },
    {
     "name": "stdout",
     "output_type": "stream",
     "text": [
      "[2, 900] loss 132.7033447623253\n"
     ]
    },
    {
     "name": "stdout",
     "output_type": "stream",
     "text": [
      "[2, 1000] loss 150.63426756858826\n"
     ]
    },
    {
     "name": "stdout",
     "output_type": "stream",
     "text": [
      "[2, 1100] loss 160.95987623929977\n"
     ]
    },
    {
     "name": "stdout",
     "output_type": "stream",
     "text": [
      "[2, 1200] loss 173.13842344284058\n"
     ]
    },
    {
     "name": "stdout",
     "output_type": "stream",
     "text": [
      "[2, 1300] loss 186.55145940184593\n"
     ]
    },
    {
     "name": "stdout",
     "output_type": "stream",
     "text": [
      "[2, 1400] loss 198.82767429947853\n"
     ]
    },
    {
     "name": "stdout",
     "output_type": "stream",
     "text": [
      "[2, 1500] loss 211.15162786841393\n"
     ]
    },
    {
     "name": "stdout",
     "output_type": "stream",
     "text": [
      "[2, 1600] loss 221.3402654826641\n"
     ]
    },
    {
     "name": "stdout",
     "output_type": "stream",
     "text": [
      "[2, 1700] loss 229.86450710892677\n"
     ]
    },
    {
     "name": "stdout",
     "output_type": "stream",
     "text": [
      "[2, 1800] loss 241.77869129180908\n"
     ]
    },
    {
     "name": "stdout",
     "output_type": "stream",
     "text": [
      "[2, 1900] loss 256.35588186979294\n"
     ]
    },
    {
     "name": "stdout",
     "output_type": "stream",
     "text": [
      "[2, 2000] loss 266.8070286512375\n"
     ]
    },
    {
     "name": "stdout",
     "output_type": "stream",
     "text": [
      "accuracy 0.9675\n"
     ]
    }
   ],
   "source": [
    "print('tanh')\n",
    "neural_net2 = Net(F.tanh)\n",
    "epoch = 2\n",
    "optimr = optim.SGD(neural_net2.parameters(), lr=0.001, momentum=0.9)\n",
    "for i in range(epoch):\n",
    "    rl = 0\n",
    "    for k, t in enumerate(trl, 0):\n",
    "        xs, ls = t\n",
    "        optimr.zero_grad()\n",
    "        outs = neural_net2(xs)\n",
    "        loss = nn.CrossEntropyLoss()(outs, ls.view(-1))\n",
    "        loss.backward()\n",
    "        optimr.step()\n",
    "        rl += loss.item()\n",
    "        if (k + 1) % 100 == 0:\n",
    "            print(\"[\" + str(2) + \", \" +  str(k + 1) + \"] loss \" + str(rl) )\n",
    "    tpfs = 0.0\n",
    "    N = 0\n",
    "    with torch.no_grad():\n",
    "        for t in evl:\n",
    "            xs, labels = t\n",
    "            outs = neural_net2(xs)\n",
    "            pr = torch.max(outs.data, 1)[1]\n",
    "            for j in range(pr.size(0)):\n",
    "                N += 1\n",
    "                if pr[j] == labels[j]:\n",
    "                    tpfs += 1\n",
    "    print(\"accuracy \" + str(tpfs / N))"
   ]
  },
  {
   "cell_type": "code",
   "execution_count": 268,
   "metadata": {},
   "outputs": [
    {
     "name": "stdout",
     "output_type": "stream",
     "text": [
      "sigmoid\n"
     ]
    },
    {
     "name": "stdout",
     "output_type": "stream",
     "text": [
      "[2, 100] loss 157.5756444633007\n"
     ]
    },
    {
     "name": "stdout",
     "output_type": "stream",
     "text": [
      "[2, 200] loss 228.36152163147926\n"
     ]
    },
    {
     "name": "stdout",
     "output_type": "stream",
     "text": [
      "[2, 300] loss 290.9657144546509\n"
     ]
    },
    {
     "name": "stdout",
     "output_type": "stream",
     "text": [
      "[2, 400] loss 359.29061782360077\n"
     ]
    },
    {
     "name": "stdout",
     "output_type": "stream",
     "text": [
      "[2, 500] loss 414.30709078907967\n"
     ]
    },
    {
     "name": "stdout",
     "output_type": "stream",
     "text": [
      "[2, 600] loss 450.8126113116741\n"
     ]
    },
    {
     "name": "stdout",
     "output_type": "stream",
     "text": [
      "[2, 700] loss 504.339995265007\n"
     ]
    },
    {
     "name": "stdout",
     "output_type": "stream",
     "text": [
      "[2, 800] loss 545.5955657958984\n"
     ]
    },
    {
     "name": "stdout",
     "output_type": "stream",
     "text": [
      "[2, 900] loss 578.5659522116184\n"
     ]
    },
    {
     "name": "stdout",
     "output_type": "stream",
     "text": [
      "[2, 1000] loss 611.7792108356953\n"
     ]
    },
    {
     "name": "stdout",
     "output_type": "stream",
     "text": [
      "[2, 1100] loss 646.3583781123161\n"
     ]
    },
    {
     "name": "stdout",
     "output_type": "stream",
     "text": [
      "[2, 1200] loss 681.3290233314037\n"
     ]
    },
    {
     "name": "stdout",
     "output_type": "stream",
     "text": [
      "[2, 1300] loss 709.5291219055653\n"
     ]
    },
    {
     "name": "stdout",
     "output_type": "stream",
     "text": [
      "[2, 1400] loss 729.5894075334072\n"
     ]
    },
    {
     "name": "stdout",
     "output_type": "stream",
     "text": [
      "[2, 1500] loss 761.7758877575397\n"
     ]
    },
    {
     "name": "stdout",
     "output_type": "stream",
     "text": [
      "[2, 1600] loss 785.3292198777199\n"
     ]
    },
    {
     "name": "stdout",
     "output_type": "stream",
     "text": [
      "[2, 1700] loss 806.8200612068176\n"
     ]
    },
    {
     "name": "stdout",
     "output_type": "stream",
     "text": [
      "[2, 1800] loss 827.0675014257431\n"
     ]
    },
    {
     "name": "stdout",
     "output_type": "stream",
     "text": [
      "[2, 1900] loss 854.7956036627293\n"
     ]
    },
    {
     "name": "stdout",
     "output_type": "stream",
     "text": [
      "[2, 2000] loss 878.5768695771694\n"
     ]
    },
    {
     "name": "stdout",
     "output_type": "stream",
     "text": [
      "accuracy 0.935\n"
     ]
    },
    {
     "name": "stdout",
     "output_type": "stream",
     "text": [
      "[2, 100] loss 21.472003996372223\n"
     ]
    },
    {
     "name": "stdout",
     "output_type": "stream",
     "text": [
      "[2, 200] loss 39.06857615709305\n"
     ]
    },
    {
     "name": "stdout",
     "output_type": "stream",
     "text": [
      "[2, 300] loss 51.887199103832245\n"
     ]
    },
    {
     "name": "stdout",
     "output_type": "stream",
     "text": [
      "[2, 400] loss 66.46991640329361\n"
     ]
    },
    {
     "name": "stdout",
     "output_type": "stream",
     "text": [
      "[2, 500] loss 84.29717889428139\n"
     ]
    },
    {
     "name": "stdout",
     "output_type": "stream",
     "text": [
      "[2, 600] loss 101.82754150032997\n"
     ]
    },
    {
     "name": "stdout",
     "output_type": "stream",
     "text": [
      "[2, 700] loss 111.22868266701698\n"
     ]
    },
    {
     "name": "stdout",
     "output_type": "stream",
     "text": [
      "[2, 800] loss 134.09806695580482\n"
     ]
    },
    {
     "name": "stdout",
     "output_type": "stream",
     "text": [
      "[2, 900] loss 149.1762664616108\n"
     ]
    },
    {
     "name": "stdout",
     "output_type": "stream",
     "text": [
      "[2, 1000] loss 157.30828562378883\n"
     ]
    },
    {
     "name": "stdout",
     "output_type": "stream",
     "text": [
      "[2, 1100] loss 171.06769612431526\n"
     ]
    },
    {
     "name": "stdout",
     "output_type": "stream",
     "text": [
      "[2, 1200] loss 189.40371790528297\n"
     ]
    },
    {
     "name": "stdout",
     "output_type": "stream",
     "text": [
      "[2, 1300] loss 200.35674622654915\n"
     ]
    },
    {
     "name": "stdout",
     "output_type": "stream",
     "text": [
      "[2, 1400] loss 217.02074947953224\n"
     ]
    },
    {
     "name": "stdout",
     "output_type": "stream",
     "text": [
      "[2, 1500] loss 236.7629044353962\n"
     ]
    },
    {
     "name": "stdout",
     "output_type": "stream",
     "text": [
      "[2, 1600] loss 253.06372436881065\n"
     ]
    },
    {
     "name": "stdout",
     "output_type": "stream",
     "text": [
      "[2, 1700] loss 271.01070088148117\n"
     ]
    },
    {
     "name": "stdout",
     "output_type": "stream",
     "text": [
      "[2, 1800] loss 282.95527732372284\n"
     ]
    },
    {
     "name": "stdout",
     "output_type": "stream",
     "text": [
      "[2, 1900] loss 295.24369019269943\n"
     ]
    },
    {
     "name": "stdout",
     "output_type": "stream",
     "text": [
      "[2, 2000] loss 308.8288945555687\n"
     ]
    },
    {
     "name": "stdout",
     "output_type": "stream",
     "text": [
      "accuracy 0.9365\n"
     ]
    }
   ],
   "source": [
    "print('sigmoid')\n",
    "neural_net3 = Net(F.sigmoid)\n",
    "epoch = 2\n",
    "optimr = optim.SGD(neural_net3.parameters(), lr=0.001, momentum=0.9)\n",
    "for i in range(epoch):\n",
    "    rl = 0\n",
    "    for k, t in enumerate(trl, 0):\n",
    "        xs, ls = t\n",
    "        optimr.zero_grad()\n",
    "        outs = neural_net3(xs)\n",
    "        loss = nn.CrossEntropyLoss()(outs, ls.view(-1))\n",
    "        loss.backward()\n",
    "        optimr.step()\n",
    "        rl += loss.item()\n",
    "        if (k + 1) % 100 == 0:\n",
    "            print(\"[\" + str(2) + \", \" +  str(k + 1) + \"] loss \" + str(rl) )\n",
    "    tpfs = 0.0\n",
    "    N = 0\n",
    "    with torch.no_grad():\n",
    "        for t in evl:\n",
    "            xs, labels = t\n",
    "            outs = neural_net3(xs)\n",
    "            pr = torch.max(outs.data, 1)[1]\n",
    "            for j in range(pr.size(0)):\n",
    "                N += 1\n",
    "                if pr[j] == labels[j]:\n",
    "                    tpfs += 1\n",
    "    print(\"accuracy \" + str(tpfs / N))"
   ]
  },
  {
   "cell_type": "code",
   "execution_count": null,
   "metadata": {},
   "outputs": [],
   "source": []
  }
 ],
 "metadata": {
  "kernelspec": {
   "display_name": "Python 2",
   "language": "python",
   "name": "python2"
  },
  "language_info": {
   "codemirror_mode": {
    "name": "ipython",
    "version": 2
   },
   "file_extension": ".py",
   "mimetype": "text/x-python",
   "name": "python",
   "nbconvert_exporter": "python",
   "pygments_lexer": "ipython2",
   "version": "2.7.6"
  }
 },
 "nbformat": 4,
 "nbformat_minor": 0
}
