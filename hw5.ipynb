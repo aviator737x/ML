{
 "cells": [
  {
   "cell_type": "markdown",
   "metadata": {
    "collapsed": true
   },
   "source": [
    "\n"
   ]
  },
  {
   "cell_type": "markdown",
   "metadata": {},
   "source": [
    "Задание 1",
    "\n",
    "1). h(x)=+1, x >= a\n",
    "\n",
    "Точка поломки: k = 2\n",
    "\n",
    "Размерность Вапника-Черенкова: d_VC(h) = k - 1 = 1\n",
    "\n",
    "Функция роста: m_H(N) = N + 1\n",
    "\n",
    "2). h(x)=+1, a>=x>=b\n",
    "\n",
    "Точка поломки: k = 3\n",
    "\n",
    "Размерность Вапника-Черенкова: d_VC(h) = k - 1 = 2\n",
    "\n",
    "Функция роста: m_H(N) = 1 + N / 2 + N^2 / 2"
   ]
  },
  {
   "cell_type": "code",
   "execution_count": 53,
   "metadata": {},
   "outputs": [],
   "source": [
    "import numpy as np\n",
    "import matplotlib.pyplot as plt\n",
    "import pandas as pd\n",
    "import matplotlib.lines as mlines"
   ]
  },
  {
   "cell_type": "code",
   "execution_count": 48,
   "metadata": {
    "collapsed": true
   },
   "outputs": [
    {
     "name": "stderr",
     "output_type": "stream",
     "text": [
      "/Users/user/anaconda3/lib/python3.7/site-packages/ipykernel_launcher.py:4: SettingWithCopyWarning: \nA value is trying to be set on a copy of a slice from a DataFrame\n\nSee the caveats in the documentation: http://pandas.pydata.org/pandas-docs/stable/indexing.html#indexing-view-versus-copy\n  after removing the cwd from sys.path.\n"
     ]
    }
   ],
   "source": [
    "data_set = pd.read_csv('blobs2.csv')\n",
    "for i in range(len(data_set)):\n",
    "    if data_set['label'][i] == 0:\n",
    "        data_set['label'][i] = -1\n",
    "data_eval = data_set[900:]\n",
    "data_set = data_set[:900]\n",
    "X = data_set['x']\n",
    "Y = data_set['y']\n",
    "label = data_set['label']"
   ]
  },
  {
   "cell_type": "markdown",
   "metadata": {},
   "source": [
    "Задание 2"
   ]
  },
  {
   "cell_type": "code",
   "execution_count": 49,
   "metadata": {},
   "outputs": [],
   "source": [
    "def E_in(h, W, X, Y, label):\n",
    "    return (len(X[h(W, X, Y, label) != label]) + 0.1 - 0.1) / len(X)\n",
    " \n",
    "    \n",
    "def h(W, X, Y, label):\n",
    "    res = []\n",
    "    for i in range(len(label)):\n",
    "        if W[0] + W[1] * X[i] + W[2] * Y[i] >= 0:\n",
    "            res.append(1)\n",
    "        else:\n",
    "            res.append(-1)\n",
    "    return np.array(res)\n",
    "\n",
    "\n",
    "def h_for_single_vector(W, x, y, label):\n",
    "    return 1 if W[1] * x + W[2] * y + W[0] > 0 else -1"
   ]
  },
  {
   "cell_type": "code",
   "execution_count": 50,
   "metadata": {},
   "outputs": [],
   "source": [
    "best_w = np.array([1, 1, 1])\n",
    "cur_error = E_in(h, best_w, X, Y, label)\n",
    "w = np.array([1, 1, 1])\n",
    "j = 0\n",
    "while j < 1000:\n",
    "    j += 1\n",
    "    for i in range(len(label)):\n",
    "        if h_for_single_vector(w, X[i], Y[i], label[i]) != label[i]:\n",
    "            w = w + np.array([1, label[i] * X[i], label[i] * Y[i]])\n",
    "            error = E_in(h, w, X, Y, label)\n",
    "            if error < cur_error:\n",
    "                best_w = w\n",
    "                cur_error = error\n",
    "            break"
   ]
  },
  {
   "cell_type": "code",
   "execution_count": 51,
   "metadata": {},
   "outputs": [
    {
     "data": {
      "image/png": "[encoded data removed]",
      "text/plain": [
       "<Figure size 432x288 with 1 Axes>"
      ]
     },
     "metadata": {},
     "output_type": "display_data"
    }
   ],
   "source": [
    "\"\"\"Функция newline взята с http://qaru.site/questions/626491/how-to-draw-a-line-with-matplotlib\"\"\"\n",
    "def newline(p1, p2):\n",
    "    ax = plt.gca()\n",
    "    xmin, xmax = ax.get_xbound()\n",
    "\n",
    "    if(p2[0] == p1[0]):\n",
    "        xmin = xmax = p1[0]\n",
    "        ymin, ymax = ax.get_ybound()\n",
    "    else:\n",
    "        ymax = p1[1]+(p2[1]-p1[1])/(p2[0]-p1[0])*(xmax-p1[0])\n",
    "        ymin = p1[1]+(p2[1]-p1[1])/(p2[0]-p1[0])*(xmin-p1[0])\n",
    "\n",
    "    l = mlines.Line2D([xmin,xmax], [ymin,ymax])\n",
    "    ax.add_line(l)\n",
    "    return l\n",
    "\n",
    "\n",
    "fig = plt.figure()\n",
    "for i in range(len(label)):\n",
    "    cl = h_for_single_vector(best_w, X[i], Y[i], label[i])\n",
    "    if label[i] == -1:\n",
    "        plt.scatter(X[i], Y[i], c='b')\n",
    "    elif label[i] == 1:\n",
    "        plt.scatter(X[i], Y[i], c='g')\n",
    "p1 = []\n",
    "p2 = []\n",
    "p1.append(0)\n",
    "p1.append((-1) * best_w[0] / best_w[2])\n",
    "p2.append(1)\n",
    "p2.append((-1) * (best_w[1] / best_w[2] + best_w[0] / best_w[2]))\n",
    "newline(p1, p2)\n",
    "plt.show()"
   ]
  },
  {
   "cell_type": "code",
   "execution_count": 52,
   "metadata": {},
   "outputs": [
    {
     "name": "stdout",
     "output_type": "stream",
     "text": [
      "Accuracy:  0.98\n"
     ]
    }
   ],
   "source": [
    "X_eval = data_eval['x']\n",
    "Y_eval = data_eval['y']\n",
    "label_eval = data_eval['label']\n",
    "tp = 0\n",
    "fp = 0\n",
    "for x, y, label in zip(X_eval, Y_eval, label_eval):\n",
    "    eval_cl = h_for_single_vector(best_w, x, y, label)\n",
    "    if eval_cl == label and label == 1:\n",
    "        tp += 1\n",
    "    if eval_cl == label and label == -1:\n",
    "        fp += 1\n",
    "accuracy = (tp + fp) / len(label_eval)\n",
    "print(\"Accuracy: \", accuracy)"
   ]
  },
  {
   "cell_type": "code",
   "execution_count": null,
   "metadata": {},
   "outputs": [],
   "source": []
  }
 ],
 "metadata": {
  "kernelspec": {
   "display_name": "Python 2",
   "language": "python",
   "name": "python2"
  },
  "language_info": {
   "codemirror_mode": {
    "name": "ipython",
    "version": 2
   },
   "file_extension": ".py",
   "mimetype": "text/x-python",
   "name": "python",
   "nbconvert_exporter": "python",
   "pygments_lexer": "ipython2",
   "version": "2.7.6"
  }
 },
 "nbformat": 4,
 "nbformat_minor": 0
}
