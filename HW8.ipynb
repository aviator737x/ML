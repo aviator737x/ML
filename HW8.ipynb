{
 "cells": [
  {
   "cell_type": "code",
   "execution_count": 170,
   "metadata": {
    "collapsed": true
   },
   "outputs": [],
   "source": [
    "import warnings\n",
    "warnings.filterwarnings('ignore')\n",
    "import numpy as np\n",
    "import pandas as pd\n",
    "import matplotlib.pyplot as plt\n",
    "from sklearn.model_selection import train_test_split\n",
    "import math\n",
    "from sklearn.metrics import roc_curve\n",
    "from sklearn.feature_extraction.text import CountVectorizer\n",
    "from sklearn.linear_model import Lasso"
   ]
  },
  {
   "cell_type": "markdown",
   "metadata": {},
   "source": [
    "Задание 1"
   ]
  },
  {
   "cell_type": "code",
   "execution_count": 231,
   "metadata": {},
   "outputs": [],
   "source": [
    "data = pd.read_csv(\"spam.csv\")\n",
    "labels = data[\"label\"].values\n",
    "x = data.drop([\"label\"], axis = 1).values\n",
    "x_tr, x_ev, labels_tr, labels_ev = train_test_split(x, labels, train_size=0.8)"
   ]
  },
  {
   "cell_type": "code",
   "execution_count": 207,
   "metadata": {},
   "outputs": [
    {
     "name": "stdout",
     "output_type": "stream",
     "text": [
      "Accuracy  0.8360477741585234\n"
     ]
    },
    {
     "data": {
      "image/png": "[encoded data removed]",
      "text/plain": [
       "<Figure size 432x288 with 1 Axes>"
      ]
     },
     "metadata": {},
     "output_type": "display_data"
    }
   ],
   "source": [
    "means = np.row_stack((np.array([0.0] * len(x_tr[0])), np.array([0.0] * len(x_tr[0]))))\n",
    "vars = np.row_stack((np.array([0.0] * len(x_tr[0])), np.array([0.0] * len(x_tr[0]))))\n",
    "for i in range(len(x[0])):\n",
    "    means[0][i] = np.mean(x_tr[:, i][labels_tr == 0])\n",
    "    means[1][i] = np.mean(x_tr[:, i][labels_tr == 1])\n",
    "    vars[0][i] = np.var(x_tr[:, i][labels_tr == 0])\n",
    "    vars[1][i] = np.var(x_tr[:, i][labels_tr == 1])\n",
    "\n",
    "def norm(mu, sigma, x):\n",
    "    return math.exp((-1) * (x - mu) * (x - mu) / (2 * sigma**2)) / (sigma * math.sqrt(2 * math.pi))\n",
    "\n",
    "def prob(label, x):\n",
    "    probs = np.array([0.0] * len(x))\n",
    "    for i in range(len(x)):\n",
    "        probs[i] = math.log(norm(means[label][i], vars[label][i], x[i]) + 0.00001)\n",
    "    return probs\n",
    "\n",
    "def classify(x):\n",
    "    prs = np.array([1, 1])\n",
    "    s = 0\n",
    "    prs[0] = np.sum(prob(0, x))\n",
    "    s += np.exp(prs[0])\n",
    "    prs[1] = np.sum(prob(1, x))\n",
    "    s += np.exp(prs[1])\n",
    "    return np.exp(prs) / s\n",
    "\n",
    "N = 0\n",
    "tpfp = 0\n",
    "classes = np.array([0] * len(x_ev))\n",
    "arr = np.array([0.0] * len(x_ev))\n",
    "for i in range(len(x_ev)):\n",
    "    probs = classify(x_ev[i])\n",
    "    arr[i] = probs[1]\n",
    "    if probs[0] >= probs[1]:\n",
    "        classes[i] = 0\n",
    "    else:\n",
    "        classes[i] = 1\n",
    "    if classes[i] == labels_ev[i]:\n",
    "        tpfp += 1\n",
    "    N += 1\n",
    "print(\"Accuracy \", tpfp / N)\n",
    "fps, tps, _ = roc_curve(labels_ev, arr)\n",
    "fig = plt.figure()\n",
    "plt.plot(fps, tps)\n",
    "plt.show()"
   ]
  },
  {
   "cell_type": "markdown",
   "metadata": {},
   "source": [
    "Задание 2"
   ]
  },
  {
   "cell_type": "code",
   "execution_count": 208,
   "metadata": {},
   "outputs": [],
   "source": [
    "data = pd.read_csv(\"smsspam.csv\")\n",
    "labels = data[\"label\"].values\n",
    "for i in range(len(labels)):\n",
    "    if labels[i] == 'spam':\n",
    "        labels[i] = 1\n",
    "    else:\n",
    "        labels[i] = 0\n",
    "x = data.drop([\"label\"], axis = 1).values\n",
    "new_x = np.array([])\n",
    "for i in range(len(x)):\n",
    "    new_x = np.append(new_x, x[i][0])\n",
    "x = new_x\n",
    "x = CountVectorizer().fit_transform(x)\n",
    "x_tr, x_ev, labels_tr, labels_ev = train_test_split(x, labels, train_size=0.8)"
   ]
  },
  {
   "cell_type": "code",
   "execution_count": 224,
   "metadata": {},
   "outputs": [
    {
     "name": "stdout",
     "output_type": "stream",
     "text": [
      "Accuracy  0.989237668161435\n"
     ]
    },
    {
     "data": {
      "image/png": "[encoded data removed]",
      "text/plain": [
       "<Figure size 432x288 with 1 Axes>"
      ]
     },
     "metadata": {},
     "output_type": "display_data"
    }
   ],
   "source": [
    "probabilities = np.row_stack((np.array([0.0] * x.shape[1]), np.array([0.0] * x.shape[1])))\n",
    "probabilities[0] = np.asarray(np.mean(x_tr[labels_tr == 0], axis=0))\n",
    "probabilities[1] = np.asarray(np.mean(x_tr[labels_tr == 1], axis=0))\n",
    "\n",
    "def prob(label, x):\n",
    "    probs = np.array(np.multiply(probabilities[label].reshape(1, -1), x) \\\n",
    "               + np.multiply((1 - probabilities[label].reshape(1, -1)), (1 - x)))\n",
    "    probs = np.log(abs(probs + 0.0001))\n",
    "    return probs\n",
    "\n",
    "def classify(x):\n",
    "    prs = np.array([1, 1])\n",
    "    s = 0\n",
    "    prs[0] = np.sum(prob(0, x))\n",
    "    s += np.exp(prs[0])\n",
    "    prs[1] = np.sum(prob(1, x)[0])\n",
    "    s += np.exp(prs[1])\n",
    "    return np.exp(prs) / s\n",
    "\n",
    " \n",
    "N = 0\n",
    "tpfp = 0\n",
    "classes = np.array([0] * x_ev.shape[0])\n",
    "arr = np.array([0.0] * x_ev.shape[0])\n",
    "i = 0\n",
    "for x1 in x_ev:\n",
    "    probs = classify(x1.toarray())\n",
    "    arr[i] = float(probs[1])\n",
    "    if probs[0] >= probs[1]:\n",
    "        classes[i] = 0\n",
    "    else:\n",
    "        classes[i] = 1\n",
    "    if classes[i] == labels_ev[i]:\n",
    "        tpfp += 1\n",
    "    N += 1\n",
    "    i += 1\n",
    "print(\"Accuracy \", tpfp / N)\n",
    "labels = []\n",
    "for i in range(len(labels_ev)):\n",
    "    if labels_ev[i] == 0:\n",
    "        labels.append(0)\n",
    "    else:\n",
    "        labels.append(1)\n",
    "fps, tps, _ = roc_curve(labels, arr)\n",
    "fig = plt.figure()\n",
    "plt.plot(fps, tps)\n",
    "plt.show()"
   ]
  },
  {
   "cell_type": "markdown",
   "metadata": {},
   "source": [
    "Задание 3"
   ]
  },
  {
   "cell_type": "code",
   "execution_count": 364,
   "metadata": {},
   "outputs": [],
   "source": [
    "data_noisy = pd.read_csv(\"noisysine.csv\")\n",
    "labels_noisy = data_noisy[\"y\"].values\n",
    "x_noisy = data_noisy.drop([\"y\"], axis = 1).values + 0.0\n",
    "x_noisy = np.column_stack((np.array([1.0] * len(x_noisy)), x_noisy))\n",
    "x_noisy_tr, x_noisy_ev, labels_noisy_tr, labels_noisy_ev = train_test_split(x_noisy, labels_noisy, train_size=0.8)"
   ]
  },
  {
   "cell_type": "code",
   "execution_count": 365,
   "metadata": {},
   "outputs": [],
   "source": [
    "w = np.linalg.inv(np.transpose(x_noisy_tr) @ x_noisy_tr) @ np.transpose(x_noisy_tr) @ labels_noisy_tr"
   ]
  },
  {
   "cell_type": "code",
   "execution_count": 366,
   "metadata": {},
   "outputs": [
    {
     "name": "stdout",
     "output_type": "stream",
     "text": [
      "R2 linear regression, noisy  0.22073673470995958\n"
     ]
    },
    {
     "data": {
      "text/plain": [
       "[<matplotlib.lines.Line2D at 0x1a20955fd0>]"
      ]
     },
     "execution_count": 366,
     "metadata": {},
     "output_type": "execute_result"
    },
    {
     "data": {
      "image/png": "[encoded data removed]",
      "text/plain": [
       "<Figure size 432x288 with 1 Axes>"
      ]
     },
     "metadata": {},
     "output_type": "display_data"
    }
   ],
   "source": [
    "def r2(y, probs):\n",
    "    return 1 - np.sum(np.square(probs - y)) / np.sum(np.square(np.mean(y) - y))\n",
    "\n",
    "def graph(x_min, x_max, w):\n",
    "    h = (x_max - x_min) / 100\n",
    "    x = []\n",
    "    y = []\n",
    "    while x_min <= x_max:\n",
    "        x.append(x_min)\n",
    "        y_res = 0\n",
    "        pow = 0\n",
    "        for a in w:\n",
    "            y_res += math.pow(x_min, pow) * a\n",
    "            pow += 1\n",
    "        y.append(y_res)\n",
    "        x_min += h\n",
    "    return (x, y)\n",
    "\n",
    "print(\"R2 linear regression, noisy \", r2(labels_noisy_ev, x_noisy_ev @ w))\n",
    "fig = plt.figure()\n",
    "plt.scatter(x_noisy_tr[:, 1], labels_noisy_tr)\n",
    "x, y = graph(np.min(x_noisy), np.max(x_noisy), w)\n",
    "plt.plot(x, y, c='g')"
   ]
  },
  {
   "cell_type": "code",
   "execution_count": 367,
   "metadata": {},
   "outputs": [],
   "source": [
    "pow = 2\n",
    "x_noisy_tr = np.column_stack((x_noisy_tr, np.power(x_noisy_tr[:, 1], pow)))\n",
    "x_noisy_ev = np.column_stack((x_noisy_ev, np.power(x_noisy_ev[:, 1], pow)))\n",
    "pow += 1"
   ]
  },
  {
   "cell_type": "code",
   "execution_count": 368,
   "metadata": {},
   "outputs": [],
   "source": [
    "w = np.linalg.inv(np.transpose(x_noisy_tr) @ x_noisy_tr) @ np.transpose(x_noisy_tr) @ labels_noisy_tr"
   ]
  },
  {
   "cell_type": "code",
   "execution_count": 369,
   "metadata": {},
   "outputs": [
    {
     "name": "stdout",
     "output_type": "stream",
     "text": [
      "R2 polynomial regression, degree 2, noisy  0.20010723477999304\n"
     ]
    },
    {
     "data": {
      "text/plain": [
       "[<matplotlib.lines.Line2D at 0x1a21e33668>]"
      ]
     },
     "execution_count": 369,
     "metadata": {},
     "output_type": "execute_result"
    },
    {
     "data": {
      "image/png": "[encoded data removed]",
      "text/plain": [
       "<Figure size 432x288 with 1 Axes>"
      ]
     },
     "metadata": {},
     "output_type": "display_data"
    }
   ],
   "source": [
    "print(\"R2 polynomial regression, degree 2, noisy \", r2(labels_noisy_ev, x_noisy_ev @ w))\n",
    "fig = plt.figure()\n",
    "plt.scatter(x_noisy_tr[:, 1], labels_noisy_tr)\n",
    "x, y = graph(np.min(x_noisy), np.max(x_noisy), w)\n",
    "plt.plot(x, y, c='g')"
   ]
  },
  {
   "cell_type": "code",
   "execution_count": 370,
   "metadata": {},
   "outputs": [],
   "source": [
    "x_noisy_tr = np.column_stack((x_noisy_tr, np.power(x_noisy_tr[:, 1], pow)))\n",
    "x_noisy_ev = np.column_stack((x_noisy_ev, np.power(x_noisy_ev[:, 1], pow)))\n",
    "pow += 1"
   ]
  },
  {
   "cell_type": "code",
   "execution_count": 371,
   "metadata": {},
   "outputs": [],
   "source": [
    "w = np.linalg.inv(np.transpose(x_noisy_tr) @ x_noisy_tr) @ np.transpose(x_noisy_tr) @ labels_noisy_tr"
   ]
  },
  {
   "cell_type": "code",
   "execution_count": 372,
   "metadata": {},
   "outputs": [
    {
     "name": "stdout",
     "output_type": "stream",
     "text": [
      "R2 polynomial regression, degree 3, noisy  0.36177512217085905\n"
     ]
    },
    {
     "data": {
      "text/plain": [
       "[<matplotlib.lines.Line2D at 0x1a20486f98>]"
      ]
     },
     "execution_count": 372,
     "metadata": {},
     "output_type": "execute_result"
    },
    {
     "data": {
      "image/png": "[encoded data removed]",
      "text/plain": [
       "<Figure size 432x288 with 1 Axes>"
      ]
     },
     "metadata": {},
     "output_type": "display_data"
    }
   ],
   "source": [
    "print(\"R2 polynomial regression, degree 3, noisy \", r2(labels_noisy_ev, x_noisy_ev @ w))\n",
    "fig = plt.figure()\n",
    "plt.scatter(x_noisy_tr[:, 1], labels_noisy_tr)\n",
    "x, y = graph(np.min(x_noisy), np.max(x_noisy), w)\n",
    "plt.plot(x, y, c='g')"
   ]
  },
  {
   "cell_type": "code",
   "execution_count": 373,
   "metadata": {},
   "outputs": [],
   "source": [
    "x_noisy_tr = np.column_stack((x_noisy_tr, np.power(x_noisy_tr[:, 1], pow)))\n",
    "x_noisy_ev = np.column_stack((x_noisy_ev, np.power(x_noisy_ev[:, 1], pow)))\n",
    "pow += 1\n",
    "w = np.linalg.inv(np.transpose(x_noisy_tr) @ x_noisy_tr) @ np.transpose(x_noisy_tr) @ labels_noisy_tr"
   ]
  },
  {
   "cell_type": "code",
   "execution_count": 374,
   "metadata": {},
   "outputs": [
    {
     "name": "stdout",
     "output_type": "stream",
     "text": [
      "R2 polynomial regression, degree 4, noisy  0.3963392135155146\n"
     ]
    },
    {
     "data": {
      "text/plain": [
       "[<matplotlib.lines.Line2D at 0x1a208757f0>]"
      ]
     },
     "execution_count": 374,
     "metadata": {},
     "output_type": "execute_result"
    },
    {
     "data": {
      "image/png": "[encoded data removed]",
      "text/plain": [
       "<Figure size 432x288 with 1 Axes>"
      ]
     },
     "metadata": {},
     "output_type": "display_data"
    }
   ],
   "source": [
    "print(\"R2 polynomial regression, degree 4, noisy \", r2(labels_noisy_ev, x_noisy_ev @ w))\n",
    "fig = plt.figure()\n",
    "plt.scatter(x_noisy_tr[:, 1], labels_noisy_tr)\n",
    "x, y = graph(np.min(x_noisy), np.max(x_noisy), w)\n",
    "plt.plot(x, y, c='g')"
   ]
  },
  {
   "cell_type": "code",
   "execution_count": 375,
   "metadata": {},
   "outputs": [],
   "source": [
    "x_noisy_tr = np.column_stack((x_noisy_tr, np.power(x_noisy_tr[:, 1], pow)))\n",
    "x_noisy_ev = np.column_stack((x_noisy_ev, np.power(x_noisy_ev[:, 1], pow)))\n",
    "pow += 1\n",
    "w = np.linalg.inv(np.transpose(x_noisy_tr) @ x_noisy_tr) @ np.transpose(x_noisy_tr) @ labels_noisy_tr"
   ]
  },
  {
   "cell_type": "code",
   "execution_count": 376,
   "metadata": {},
   "outputs": [
    {
     "name": "stdout",
     "output_type": "stream",
     "text": [
      "R2 polynomial regression, degree 5, noisy  0.8856891359392314\n"
     ]
    },
    {
     "data": {
      "text/plain": [
       "[<matplotlib.lines.Line2D at 0x1a20be0208>]"
      ]
     },
     "execution_count": 376,
     "metadata": {},
     "output_type": "execute_result"
    },
    {
     "data": {
      "image/png": "[encoded data removed]",
      "text/plain": [
       "<Figure size 432x288 with 1 Axes>"
      ]
     },
     "metadata": {},
     "output_type": "display_data"
    }
   ],
   "source": [
    "print(\"R2 polynomial regression, degree 5, noisy \", r2(labels_noisy_ev, x_noisy_ev @ w))\n",
    "fig = plt.figure()\n",
    "plt.scatter(x_noisy_tr[:, 1], labels_noisy_tr)\n",
    "x, y = graph(np.min(x_noisy), np.max(x_noisy), w)\n",
    "plt.plot(x, y, c='g')"
   ]
  },
  {
   "cell_type": "code",
   "execution_count": 718,
   "metadata": {},
   "outputs": [],
   "source": [
    "data_hydro = pd.read_csv('hydrodynamics.csv')\n",
    "labels_hydro = data_hydro['y'].values\n",
    "x_hydro = data_hydro.drop(['y'], axis = 1).values + 0.0\n",
    "x_hydro = np.column_stack((np.array([1.0] * len(x_hydro)), x_hydro))\n",
    "x_hydro_tr, x_hydro_ev, labels_hydro_tr, labels_hydro_ev = train_test_split(x_hydro, labels_hydro, train_size=0.8)"
   ]
  },
  {
   "cell_type": "code",
   "execution_count": 719,
   "metadata": {},
   "outputs": [
    {
     "name": "stdout",
     "output_type": "stream",
     "text": [
      "R2 linear regression, hydro  0.651614679710757\n"
     ]
    }
   ],
   "source": [
    "w = np.linalg.inv(np.transpose(x_hydro_tr) @ x_hydro_tr) @ np.transpose(x_hydro_tr) @ labels_hydro_tr\n",
    "print(\"R2 linear regression, hydro \", r2(labels_hydro_ev, x_hydro_ev @ w))"
   ]
  },
  {
   "cell_type": "code",
   "execution_count": 720,
   "metadata": {},
   "outputs": [],
   "source": [
    "def stack(i, j):\n",
    "    global x_hydro_tr\n",
    "    global x_hydro_ev\n",
    "    x_hydro_tr = np.column_stack((x_hydro_tr, (x_hydro_tr[:, i] * x_hydro_tr[:, j])))\n",
    "    x_hydro_ev = np.column_stack((x_hydro_ev, (x_hydro_ev[:, i] * x_hydro_ev[:, j])))\n",
    "stack(1,1)\n",
    "stack(2,2)\n",
    "stack(3,3)\n",
    "stack(4,4)\n",
    "stack(5,5)\n",
    "stack(1,2)\n",
    "stack(1,3)\n",
    "stack(1,4)\n",
    "stack(1,5)\n",
    "stack(2,3)\n",
    "stack(2,4)\n",
    "stack(2,5)\n",
    "stack(3,4)\n",
    "stack(3,5)\n",
    "stack(4,5)"
   ]
  },
  {
   "cell_type": "code",
   "execution_count": 721,
   "metadata": {},
   "outputs": [
    {
     "name": "stdout",
     "output_type": "stream",
     "text": [
      "R2 polinmial regression, hydro  0.629097506936292\n"
     ]
    }
   ],
   "source": [
    "w = np.linalg.inv(np.transpose(x_hydro_tr) @ x_hydro_tr) @ np.transpose(x_hydro_tr) @ labels_hydro_tr\n",
    "print(\"R2 polinmial regression, hydro \", r2(labels_hydro_ev, x_hydro_ev @ w))"
   ]
  },
  {
   "cell_type": "markdown",
   "metadata": {},
   "source": [
    "Задание 4"
   ]
  },
  {
   "cell_type": "code",
   "execution_count": 83,
   "metadata": {},
   "outputs": [
    {
     "name": "stdout",
     "output_type": "stream",
     "text": [
      "R2 linear regression, noisy  0.1505649879484684\nAlpha  11.99999999999999\n"
     ]
    },
    {
     "data": {
      "text/plain": [
       "[<matplotlib.lines.Line2D at 0x1a1e072550>]"
      ]
     },
     "execution_count": 83,
     "metadata": {},
     "output_type": "execute_result"
    },
    {
     "data": {
      "image/png": "[encoded data removed]",
      "text/plain": [
       "<Figure size 432x288 with 1 Axes>"
      ]
     },
     "metadata": {},
     "output_type": "display_data"
    }
   ],
   "source": [
    "def r2(y, probs):\n",
    "    return 1 - np.sum(np.square(probs - y)) / np.sum(np.square(np.mean(y) - y))\n",
    "\n",
    "def graph(x_min, x_max, w):\n",
    "    h = (x_max - x_min) / 100\n",
    "    x = []\n",
    "    y = []\n",
    "    while x_min <= x_max:\n",
    "        x.append(x_min)\n",
    "        y_res = 0\n",
    "        pow = 0\n",
    "        for a in w:\n",
    "            y_res += math.pow(x_min, pow) * a\n",
    "            pow += 1\n",
    "        y.append(y_res)\n",
    "        x_min += h\n",
    "    return (x, y)\n",
    "\n",
    "max_r = 0\n",
    "alpha = 0\n",
    "best_w = None\n",
    "data_noisy = pd.read_csv(\"noisysine.csv\")\n",
    "labels_noisy = data_noisy[\"y\"].values\n",
    "x_noisy = data_noisy.drop([\"y\"], axis = 1).values + 0.0\n",
    "x_noisy = np.column_stack((np.array([1.0] * len(x_noisy)), x_noisy))\n",
    "x_noisy_tr, x_noisy_ev, labels_noisy_tr, labels_noisy_ev = train_test_split(x_noisy, labels_noisy, train_size=0.8)\n",
    "while True:\n",
    "    w = np.linalg.inv(np.transpose(x_noisy_tr) @ x_noisy_tr + alpha * np.ones(len(np.transpose(x_noisy_tr) @ x_noisy_tr))) \\\n",
    "        @ np.transpose(x_noisy_tr) @ labels_noisy_tr\n",
    "    best_w = w\n",
    "    r = r2(labels_noisy_ev, x_noisy_ev @ w)\n",
    "    if max_r == 0:\n",
    "        max_r = r\n",
    "    elif r < max_r:\n",
    "        break\n",
    "    else:\n",
    "        max_r = r\n",
    "        alpha += 0.2\n",
    "w = best_w\n",
    "print(\"R2 linear regression, noisy \", r2(labels_noisy_ev, x_noisy_ev @ w))\n",
    "print(\"Alpha \", alpha)\n",
    "fig = plt.figure()\n",
    "plt.scatter(x_noisy_tr[:, 1], labels_noisy_tr)\n",
    "x, y = graph(np.min(x_noisy), np.max(x_noisy), w)\n",
    "plt.plot(x, y, c='g')"
   ]
  },
  {
   "cell_type": "code",
   "execution_count": 84,
   "metadata": {},
   "outputs": [
    {
     "name": "stdout",
     "output_type": "stream",
     "text": [
      "R2 polynomial regression, degree 2, noisy  0.04579269403432529\nAlpha  11.99999999999999\n"
     ]
    },
    {
     "data": {
      "text/plain": [
       "[<matplotlib.lines.Line2D at 0x1a1e12ad68>]"
      ]
     },
     "execution_count": 84,
     "metadata": {},
     "output_type": "execute_result"
    },
    {
     "data": {
      "image/png": "[encoded data removed]",
      "text/plain": [
       "<Figure size 432x288 with 1 Axes>"
      ]
     },
     "metadata": {},
     "output_type": "display_data"
    }
   ],
   "source": [
    "pow = 2\n",
    "x_noisy_tr = np.column_stack((x_noisy_tr, np.power(x_noisy_tr[:, 1], pow)))\n",
    "x_noisy_ev = np.column_stack((x_noisy_ev, np.power(x_noisy_ev[:, 1], pow)))\n",
    "pow += 1\n",
    "while True:\n",
    "    w = np.linalg.inv(np.transpose(x_noisy_tr) @ x_noisy_tr + alpha * np.ones(len(np.transpose(x_noisy_tr) @ x_noisy_tr))) \\\n",
    "        @ np.transpose(x_noisy_tr) @ labels_noisy_tr\n",
    "    best_w = w\n",
    "    r = r2(labels_noisy_ev, x_noisy_ev @ w)\n",
    "    if max_r == 0:\n",
    "        max_r = r\n",
    "    elif r < max_r:\n",
    "        break\n",
    "    else:\n",
    "        max_r = r\n",
    "        alpha += 0.2\n",
    "w = best_w\n",
    "print(\"R2 polynomial regression, degree 2, noisy \", r2(labels_noisy_ev, x_noisy_ev @ w))\n",
    "print(\"Alpha \", alpha)\n",
    "fig = plt.figure()\n",
    "plt.scatter(x_noisy_tr[:, 1], labels_noisy_tr)\n",
    "x, y = graph(np.min(x_noisy), np.max(x_noisy), w)\n",
    "plt.plot(x, y, c='g')"
   ]
  },
  {
   "cell_type": "code",
   "execution_count": 85,
   "metadata": {},
   "outputs": [
    {
     "name": "stdout",
     "output_type": "stream",
     "text": [
      "R2 polynomial regression, degree 3, noisy  0.1272257657613972\nAlpha  11.99999999999999\n"
     ]
    },
    {
     "data": {
      "text/plain": [
       "[<matplotlib.lines.Line2D at 0x1a1e271c18>]"
      ]
     },
     "execution_count": 85,
     "metadata": {},
     "output_type": "execute_result"
    },
    {
     "data": {
      "image/png": "[encoded data removed]",
      "text/plain": [
       "<Figure size 432x288 with 1 Axes>"
      ]
     },
     "metadata": {},
     "output_type": "display_data"
    }
   ],
   "source": [
    "x_noisy_tr = np.column_stack((x_noisy_tr, np.power(x_noisy_tr[:, 1], pow)))\n",
    "x_noisy_ev = np.column_stack((x_noisy_ev, np.power(x_noisy_ev[:, 1], pow)))\n",
    "pow += 1\n",
    "while True:\n",
    "    w = np.linalg.inv(np.transpose(x_noisy_tr) @ x_noisy_tr + alpha * np.ones(len(np.transpose(x_noisy_tr) @ x_noisy_tr))) \\\n",
    "        @ np.transpose(x_noisy_tr) @ labels_noisy_tr\n",
    "    best_w = w\n",
    "    r = r2(labels_noisy_ev, x_noisy_ev @ w)\n",
    "    if max_r == 0:\n",
    "        max_r = r\n",
    "    elif r < max_r:\n",
    "        break\n",
    "    else:\n",
    "        max_r = r\n",
    "        alpha += 0.2\n",
    "w = best_w\n",
    "print(\"R2 polynomial regression, degree 3, noisy \", r2(labels_noisy_ev, x_noisy_ev @ w))\n",
    "print(\"Alpha \", alpha)\n",
    "fig = plt.figure()\n",
    "plt.scatter(x_noisy_tr[:, 1], labels_noisy_tr)\n",
    "x, y = graph(np.min(x_noisy), np.max(x_noisy), w)\n",
    "plt.plot(x, y, c='g')"
   ]
  },
  {
   "cell_type": "code",
   "execution_count": 86,
   "metadata": {},
   "outputs": [
    {
     "name": "stdout",
     "output_type": "stream",
     "text": [
      "R2 polynomial regression, degree 4, noisy  0.08068427361892516\nAlpha  11.99999999999999\n"
     ]
    },
    {
     "data": {
      "text/plain": [
       "[<matplotlib.lines.Line2D at 0x1a1dc69eb8>]"
      ]
     },
     "execution_count": 86,
     "metadata": {},
     "output_type": "execute_result"
    },
    {
     "data": {
      "image/png": "[encoded data removed]",
      "text/plain": [
       "<Figure size 432x288 with 1 Axes>"
      ]
     },
     "metadata": {},
     "output_type": "display_data"
    }
   ],
   "source": [
    "x_noisy_tr = np.column_stack((x_noisy_tr, np.power(x_noisy_tr[:, 1], pow)))\n",
    "x_noisy_ev = np.column_stack((x_noisy_ev, np.power(x_noisy_ev[:, 1], pow)))\n",
    "pow += 1\n",
    "while True:\n",
    "    w = np.linalg.inv(np.transpose(x_noisy_tr) @ x_noisy_tr + alpha * np.ones(len(np.transpose(x_noisy_tr) @ x_noisy_tr))) \\\n",
    "        @ np.transpose(x_noisy_tr) @ labels_noisy_tr\n",
    "    best_w = w\n",
    "    r = r2(labels_noisy_ev, x_noisy_ev @ w)\n",
    "    if max_r == 0:\n",
    "        max_r = r\n",
    "    elif r < max_r:\n",
    "        break\n",
    "    else:\n",
    "        max_r = r\n",
    "        alpha += 0.2\n",
    "w = best_w\n",
    "print(\"R2 polynomial regression, degree 4, noisy \", r2(labels_noisy_ev, x_noisy_ev @ w))\n",
    "print(\"Alpha \", alpha)\n",
    "fig = plt.figure()\n",
    "plt.scatter(x_noisy_tr[:, 1], labels_noisy_tr)\n",
    "x, y = graph(np.min(x_noisy), np.max(x_noisy), w)\n",
    "plt.plot(x, y, c='g')"
   ]
  },
  {
   "cell_type": "code",
   "execution_count": 87,
   "metadata": {},
   "outputs": [
    {
     "name": "stdout",
     "output_type": "stream",
     "text": [
      "R2 polynomial regression, degree 5, noisy  0.9676892999125928\nAlpha  12.199999999999989\n"
     ]
    },
    {
     "data": {
      "text/plain": [
       "[<matplotlib.lines.Line2D at 0x1a1e2ce668>]"
      ]
     },
     "execution_count": 87,
     "metadata": {},
     "output_type": "execute_result"
    },
    {
     "data": {
      "image/png": "[encoded data removed]",
      "text/plain": [
       "<Figure size 432x288 with 1 Axes>"
      ]
     },
     "metadata": {},
     "output_type": "display_data"
    }
   ],
   "source": [
    "x_noisy_tr = np.column_stack((x_noisy_tr, np.power(x_noisy_tr[:, 1], pow)))\n",
    "x_noisy_ev = np.column_stack((x_noisy_ev, np.power(x_noisy_ev[:, 1], pow)))\n",
    "pow += 1\n",
    "while True:\n",
    "    w = np.linalg.inv(np.transpose(x_noisy_tr) @ x_noisy_tr + alpha * np.ones(len(np.transpose(x_noisy_tr) @ x_noisy_tr))) \\\n",
    "        @ np.transpose(x_noisy_tr) @ labels_noisy_tr\n",
    "    best_w = w\n",
    "    r = r2(labels_noisy_ev, x_noisy_ev @ w)\n",
    "    if max_r == 0:\n",
    "        max_r = r\n",
    "    elif r < max_r:\n",
    "        break\n",
    "    else:\n",
    "        max_r = r\n",
    "        alpha += 0.2\n",
    "w = best_w\n",
    "print(\"R2 polynomial regression, degree 5, noisy \", r2(labels_noisy_ev, x_noisy_ev @ w))\n",
    "print(\"Alpha \", alpha)\n",
    "fig = plt.figure()\n",
    "plt.scatter(x_noisy_tr[:, 1], labels_noisy_tr)\n",
    "x, y = graph(np.min(x_noisy), np.max(x_noisy), w)\n",
    "plt.plot(x, y, c='g')"
   ]
  },
  {
   "cell_type": "code",
   "execution_count": 169,
   "metadata": {},
   "outputs": [
    {
     "name": "stdout",
     "output_type": "stream",
     "text": [
      "R2 linear regression, noisy  0.6720933016782664\nAlpha  0.2\nR2 polynomial regression, degree 2, hydro  0.6477672663847047\nAlpha  0.21000000000000002\n"
     ]
    }
   ],
   "source": [
    "data_hydro = pd.read_csv('hydrodynamics.csv')\n",
    "labels_hydro = data_hydro['y'].values\n",
    "x_hydro = data_hydro.drop(['y'], axis = 1).values + 0.0\n",
    "x_hydro = np.column_stack((np.array([1.0] * len(x_hydro)), x_hydro))\n",
    "x_hydro_tr, x_hydro_ev, labels_hydro_tr, labels_hydro_ev = train_test_split(x_hydro, labels_hydro, train_size=0.8)\n",
    "max_r = 0\n",
    "alpha = 0.0\n",
    "best_w = None\n",
    "while True:\n",
    "    w = np.linalg.inv(np.transpose(x_hydro_tr) @ x_hydro_tr + alpha * np.ones(len(np.transpose(x_hydro_tr) @ x_hydro_tr))) \\\n",
    "        @ np.transpose(x_hydro_tr) @ labels_hydro_tr\n",
    "    best_w = w\n",
    "    r = r2(labels_hydro_ev, x_hydro_ev @ w)\n",
    "    if max_r == 0:\n",
    "        max_r = r\n",
    "    elif r < max_r:\n",
    "        break\n",
    "    else:\n",
    "        max_r = r\n",
    "        alpha += 0.2\n",
    "w = best_w\n",
    "print(\"R2 linear regression, noisy \", r2(labels_hydro_ev, x_hydro_ev @ w))\n",
    "print(\"Alpha \", alpha)\n",
    "def stack(i, j, x_hydro_tr = x_hydro_tr, x_hydro_ev = x_hydro_ev):\n",
    "    x_hydro_tr = np.column_stack((x_hydro_tr, (x_hydro_tr[:, i] * x_hydro_tr[:, j])))\n",
    "    x_hydro_ev = np.column_stack((x_hydro_ev, (x_hydro_ev[:, i] * x_hydro_ev[:, j])))\n",
    "    return x_hydro_tr, x_hydro_ev\n",
    "x_hydro_tr, x_hydro_ev = stack(1,1, x_hydro_tr = x_hydro_tr, x_hydro_ev = x_hydro_ev)\n",
    "x_hydro_tr, x_hydro_ev = stack(2,2, x_hydro_tr = x_hydro_tr, x_hydro_ev = x_hydro_ev)\n",
    "x_hydro_tr, x_hydro_ev = stack(3,3, x_hydro_tr = x_hydro_tr, x_hydro_ev = x_hydro_ev)\n",
    "x_hydro_tr, x_hydro_ev = stack(4,4, x_hydro_tr = x_hydro_tr, x_hydro_ev = x_hydro_ev)\n",
    "x_hydro_tr, x_hydro_ev = stack(5,5, x_hydro_tr = x_hydro_tr, x_hydro_ev = x_hydro_ev)\n",
    "x_hydro_tr, x_hydro_ev = stack(1,2, x_hydro_tr = x_hydro_tr, x_hydro_ev = x_hydro_ev)\n",
    "x_hydro_tr, x_hydro_ev = stack(1,3, x_hydro_tr = x_hydro_tr, x_hydro_ev = x_hydro_ev)\n",
    "x_hydro_tr, x_hydro_ev = stack(1,4, x_hydro_tr = x_hydro_tr, x_hydro_ev = x_hydro_ev)\n",
    "x_hydro_tr, x_hydro_ev = stack(1,5, x_hydro_tr = x_hydro_tr, x_hydro_ev = x_hydro_ev)\n",
    "x_hydro_tr, x_hydro_ev = stack(2,3, x_hydro_tr = x_hydro_tr, x_hydro_ev = x_hydro_ev)\n",
    "x_hydro_tr, x_hydro_ev = stack(2,4, x_hydro_tr = x_hydro_tr, x_hydro_ev = x_hydro_ev)\n",
    "x_hydro_tr, x_hydro_ev = stack(2,5, x_hydro_tr = x_hydro_tr, x_hydro_ev = x_hydro_ev)\n",
    "x_hydro_tr, x_hydro_ev = stack(3,4, x_hydro_tr = x_hydro_tr, x_hydro_ev = x_hydro_ev)\n",
    "x_hydro_tr, x_hydro_ev = stack(3,5, x_hydro_tr = x_hydro_tr, x_hydro_ev = x_hydro_ev)\n",
    "x_hydro_tr, x_hydro_ev = stack(4,5, x_hydro_tr = x_hydro_tr, x_hydro_ev = x_hydro_ev)\n",
    "max_r = 0\n",
    "alpha = 0.2\n",
    "best_w = None\n",
    "while True:\n",
    "    w = np.linalg.inv(np.transpose(x_hydro_tr) @ x_hydro_tr + alpha * np.ones(len(np.transpose(x_hydro_tr) @ x_hydro_tr))) \\\n",
    "        @ np.transpose(x_hydro_tr) @ labels_hydro_tr\n",
    "    best_w = w\n",
    "    r = r2(labels_hydro_ev, x_hydro_ev @ w)\n",
    "    if max_r == 0:\n",
    "        max_r = r\n",
    "    elif r < max_r:\n",
    "        break\n",
    "    else:\n",
    "        max_r = r\n",
    "        alpha += 0.01\n",
    "w = best_w\n",
    "print(\"R2 polynomial regression, degree 2, hydro \", r2(labels_hydro_ev, x_hydro_ev @ w))\n",
    "print(\"Alpha \", alpha)"
   ]
  },
  {
   "cell_type": "markdown",
   "metadata": {},
   "source": [
    "Задание 5"
   ]
  },
  {
   "cell_type": "code",
   "execution_count": 186,
   "metadata": {},
   "outputs": [
    {
     "name": "stdout",
     "output_type": "stream",
     "text": [
      "R2 linear regression, noisy  0.31912777575920914\n"
     ]
    },
    {
     "data": {
      "text/plain": [
       "[<matplotlib.lines.Line2D at 0x1a1ef3a9e8>]"
      ]
     },
     "execution_count": 186,
     "metadata": {},
     "output_type": "execute_result"
    },
    {
     "data": {
      "image/png": "[encoded data removed]",
      "text/plain": [
       "<Figure size 432x288 with 1 Axes>"
      ]
     },
     "metadata": {},
     "output_type": "display_data"
    }
   ],
   "source": [
    "data_noisy = pd.read_csv(\"noisysine.csv\")\n",
    "labels_noisy = data_noisy[\"y\"].values\n",
    "x_noisy = data_noisy.drop([\"y\"], axis = 1).values + 0.0\n",
    "x_noisy = np.column_stack((np.array([1.0] * len(x_noisy)), x_noisy))\n",
    "x_noisy_tr, x_noisy_ev, labels_noisy_tr, labels_noisy_ev = train_test_split(x_noisy, labels_noisy, train_size=0.8)\n",
    "model = Lasso(alpha=0.1)\n",
    "model.fit(x_noisy_tr, labels_noisy_tr)\n",
    "print(\"R2 linear regression, noisy \", r2(labels_noisy_ev, model.predict(x_noisy_ev)))\n",
    "fig = plt.figure()\n",
    "plt.scatter(x_noisy_tr[:, 1], labels_noisy_tr)\n",
    "plt.plot(x_noisy[:, 1], model.predict(x_noisy), c='g')"
   ]
  },
  {
   "cell_type": "code",
   "execution_count": 187,
   "metadata": {},
   "outputs": [
    {
     "name": "stdout",
     "output_type": "stream",
     "text": [
      "R2 polynomial regression, degree 2, noisy  0.286623220611643\n"
     ]
    },
    {
     "data": {
      "text/plain": [
       "[<matplotlib.lines.Line2D at 0x1a1f1f9390>]"
      ]
     },
     "execution_count": 187,
     "metadata": {},
     "output_type": "execute_result"
    },
    {
     "data": {
      "image/png": "[encoded data removed]",
      "text/plain": [
       "<Figure size 432x288 with 1 Axes>"
      ]
     },
     "metadata": {},
     "output_type": "display_data"
    }
   ],
   "source": [
    "pow = 2\n",
    "x_noisy_tr = np.column_stack((x_noisy_tr, np.power(x_noisy_tr[:, 1], pow)))\n",
    "x_noisy_ev = np.column_stack((x_noisy_ev, np.power(x_noisy_ev[:, 1], pow)))\n",
    "x_noisy = np.column_stack((x_noisy, np.power(x_noisy[:, 1], pow)))\n",
    "pow += 1\n",
    "model = Lasso(alpha=0.1)\n",
    "model.fit(x_noisy_tr, labels_noisy_tr)\n",
    "print(\"R2 polynomial regression, degree 2, noisy \", r2(labels_noisy_ev, model.predict(x_noisy_ev)))\n",
    "fig = plt.figure()\n",
    "plt.scatter(x_noisy_tr[:, 1], labels_noisy_tr)\n",
    "plt.plot(x_noisy[:, 1], model.predict(x_noisy), c='g')"
   ]
  },
  {
   "cell_type": "code",
   "execution_count": 188,
   "metadata": {},
   "outputs": [
    {
     "name": "stdout",
     "output_type": "stream",
     "text": [
      "R2 polynomial regression, degree 3, noisy  0.30752380938012336\n"
     ]
    },
    {
     "data": {
      "text/plain": [
       "[<matplotlib.lines.Line2D at 0x1a1f330f60>]"
      ]
     },
     "execution_count": 188,
     "metadata": {},
     "output_type": "execute_result"
    },
    {
     "data": {
      "image/png": "[encoded data removed]",
      "text/plain": [
       "<Figure size 432x288 with 1 Axes>"
      ]
     },
     "metadata": {},
     "output_type": "display_data"
    }
   ],
   "source": [
    "x_noisy_tr = np.column_stack((x_noisy_tr, np.power(x_noisy_tr[:, 1], pow)))\n",
    "x_noisy_ev = np.column_stack((x_noisy_ev, np.power(x_noisy_ev[:, 1], pow)))\n",
    "x_noisy = np.column_stack((x_noisy, np.power(x_noisy[:, 1], pow)))\n",
    "pow += 1\n",
    "model = Lasso(alpha=0.1)\n",
    "model.fit(x_noisy_tr, labels_noisy_tr)\n",
    "print(\"R2 polynomial regression, degree 3, noisy \", r2(labels_noisy_ev, model.predict(x_noisy_ev)))\n",
    "fig = plt.figure()\n",
    "plt.scatter(x_noisy_tr[:, 1], labels_noisy_tr)\n",
    "plt.plot(x_noisy[:, 1], model.predict(x_noisy), c='g')"
   ]
  },
  {
   "cell_type": "code",
   "execution_count": 189,
   "metadata": {},
   "outputs": [
    {
     "name": "stdout",
     "output_type": "stream",
     "text": [
      "R2 polynomial regression, degree 4, noisy  0.1814714866184468\n"
     ]
    },
    {
     "data": {
      "text/plain": [
       "[<matplotlib.lines.Line2D at 0x1a1f2a30f0>]"
      ]
     },
     "execution_count": 189,
     "metadata": {},
     "output_type": "execute_result"
    },
    {
     "data": {
      "image/png": "[encoded data removed]",
      "text/plain": [
       "<Figure size 432x288 with 1 Axes>"
      ]
     },
     "metadata": {},
     "output_type": "display_data"
    }
   ],
   "source": [
    "x_noisy_tr = np.column_stack((x_noisy_tr, np.power(x_noisy_tr[:, 1], pow)))\n",
    "x_noisy_ev = np.column_stack((x_noisy_ev, np.power(x_noisy_ev[:, 1], pow)))\n",
    "x_noisy = np.column_stack((x_noisy, np.power(x_noisy[:, 1], pow)))\n",
    "pow += 1\n",
    "model = Lasso(alpha=0.1)\n",
    "model.fit(x_noisy_tr, labels_noisy_tr)\n",
    "print(\"R2 polynomial regression, degree 4, noisy \", r2(labels_noisy_ev, model.predict(x_noisy_ev)))\n",
    "fig = plt.figure()\n",
    "plt.scatter(x_noisy_tr[:, 1], labels_noisy_tr)\n",
    "plt.plot(x_noisy[:, 1], model.predict(x_noisy), c='g')"
   ]
  },
  {
   "cell_type": "code",
   "execution_count": 190,
   "metadata": {},
   "outputs": [
    {
     "name": "stdout",
     "output_type": "stream",
     "text": [
      "R2 polynomial regression, degree 5, noisy  0.22843226583082754\n"
     ]
    },
    {
     "data": {
      "text/plain": [
       "[<matplotlib.lines.Line2D at 0x1a1f3d0fd0>]"
      ]
     },
     "execution_count": 190,
     "metadata": {},
     "output_type": "execute_result"
    },
    {
     "data": {
      "image/png": "[encoded data removed]",
      "text/plain": [
       "<Figure size 432x288 with 1 Axes>"
      ]
     },
     "metadata": {},
     "output_type": "display_data"
    }
   ],
   "source": [
    "x_noisy_tr = np.column_stack((x_noisy_tr, np.power(x_noisy_tr[:, 1], pow)))\n",
    "x_noisy_ev = np.column_stack((x_noisy_ev, np.power(x_noisy_ev[:, 1], pow)))\n",
    "x_noisy = np.column_stack((x_noisy, np.power(x_noisy[:, 1], pow)))\n",
    "pow += 1\n",
    "model = Lasso(alpha=0.1)\n",
    "model.fit(x_noisy_tr, labels_noisy_tr)\n",
    "print(\"R2 polynomial regression, degree 5, noisy \", r2(labels_noisy_ev, model.predict(x_noisy_ev)))\n",
    "fig = plt.figure()\n",
    "plt.scatter(x_noisy_tr[:, 1], labels_noisy_tr)\n",
    "plt.plot(x_noisy[:, 1], model.predict(x_noisy), c='g')"
   ]
  },
  {
   "cell_type": "code",
   "execution_count": 194,
   "metadata": {},
   "outputs": [
    {
     "name": "stdout",
     "output_type": "stream",
     "text": [
      "R2 linear regression, hydro  0.6752448086709237\n"
     ]
    }
   ],
   "source": [
    "data_hydro = pd.read_csv('hydrodynamics.csv')\n",
    "labels_hydro = data_hydro['y'].values\n",
    "x_hydro = data_hydro.drop(['y'], axis = 1).values + 0.0\n",
    "x_hydro = np.column_stack((np.array([1.0] * len(x_hydro)), x_hydro))\n",
    "x_hydro_tr, x_hydro_ev, labels_hydro_tr, labels_hydro_ev = train_test_split(x_hydro, labels_hydro, train_size=0.8)\n",
    "model = Lasso(alpha=0.1)\n",
    "model.fit(x_hydro_tr, labels_hydro_tr)\n",
    "print(\"R2 linear regression, hydro \", r2(labels_hydro_ev, model.predict(x_hydro_ev)))"
   ]
  },
  {
   "cell_type": "code",
   "execution_count": 195,
   "metadata": {},
   "outputs": [
    {
     "name": "stdout",
     "output_type": "stream",
     "text": [
      "R2 linear regression, hydro  0.665114984433917\n"
     ]
    }
   ],
   "source": [
    "def stack(i, j, x_hydro_tr = x_hydro_tr, x_hydro_ev = x_hydro_ev):\n",
    "    x_hydro_tr = np.column_stack((x_hydro_tr, (x_hydro_tr[:, i] * x_hydro_tr[:, j])))\n",
    "    x_hydro_ev = np.column_stack((x_hydro_ev, (x_hydro_ev[:, i] * x_hydro_ev[:, j])))\n",
    "    return x_hydro_tr, x_hydro_ev\n",
    "x_hydro_tr, x_hydro_ev = stack(1,1, x_hydro_tr = x_hydro_tr, x_hydro_ev = x_hydro_ev)\n",
    "x_hydro_tr, x_hydro_ev = stack(2,2, x_hydro_tr = x_hydro_tr, x_hydro_ev = x_hydro_ev)\n",
    "x_hydro_tr, x_hydro_ev = stack(3,3, x_hydro_tr = x_hydro_tr, x_hydro_ev = x_hydro_ev)\n",
    "x_hydro_tr, x_hydro_ev = stack(4,4, x_hydro_tr = x_hydro_tr, x_hydro_ev = x_hydro_ev)\n",
    "x_hydro_tr, x_hydro_ev = stack(5,5, x_hydro_tr = x_hydro_tr, x_hydro_ev = x_hydro_ev)\n",
    "x_hydro_tr, x_hydro_ev = stack(1,2, x_hydro_tr = x_hydro_tr, x_hydro_ev = x_hydro_ev)\n",
    "x_hydro_tr, x_hydro_ev = stack(1,3, x_hydro_tr = x_hydro_tr, x_hydro_ev = x_hydro_ev)\n",
    "x_hydro_tr, x_hydro_ev = stack(1,4, x_hydro_tr = x_hydro_tr, x_hydro_ev = x_hydro_ev)\n",
    "x_hydro_tr, x_hydro_ev = stack(1,5, x_hydro_tr = x_hydro_tr, x_hydro_ev = x_hydro_ev)\n",
    "x_hydro_tr, x_hydro_ev = stack(2,3, x_hydro_tr = x_hydro_tr, x_hydro_ev = x_hydro_ev)\n",
    "x_hydro_tr, x_hydro_ev = stack(2,4, x_hydro_tr = x_hydro_tr, x_hydro_ev = x_hydro_ev)\n",
    "x_hydro_tr, x_hydro_ev = stack(2,5, x_hydro_tr = x_hydro_tr, x_hydro_ev = x_hydro_ev)\n",
    "x_hydro_tr, x_hydro_ev = stack(3,4, x_hydro_tr = x_hydro_tr, x_hydro_ev = x_hydro_ev)\n",
    "x_hydro_tr, x_hydro_ev = stack(3,5, x_hydro_tr = x_hydro_tr, x_hydro_ev = x_hydro_ev)\n",
    "x_hydro_tr, x_hydro_ev = stack(4,5, x_hydro_tr = x_hydro_tr, x_hydro_ev = x_hydro_ev)\n",
    "model = Lasso(alpha=0.1)\n",
    "model.fit(x_hydro_tr, labels_hydro_tr)\n",
    "print(\"R2 linear regression, hydro \", r2(labels_hydro_ev, model.predict(x_hydro_ev)))"
   ]
  },
  {
   "cell_type": "code",
   "execution_count": null,
   "metadata": {},
   "outputs": [],
   "source": []
  }
 ],
 "metadata": {
  "kernelspec": {
   "display_name": "Python 2",
   "language": "python",
   "name": "python2"
  },
  "language_info": {
   "codemirror_mode": {
    "name": "ipython",
    "version": 2
   },
   "file_extension": ".py",
   "mimetype": "text/x-python",
   "name": "python",
   "nbconvert_exporter": "python",
   "pygments_lexer": "ipython2",
   "version": "2.7.6"
  }
 },
 "nbformat": 4,
 "nbformat_minor": 0
}
